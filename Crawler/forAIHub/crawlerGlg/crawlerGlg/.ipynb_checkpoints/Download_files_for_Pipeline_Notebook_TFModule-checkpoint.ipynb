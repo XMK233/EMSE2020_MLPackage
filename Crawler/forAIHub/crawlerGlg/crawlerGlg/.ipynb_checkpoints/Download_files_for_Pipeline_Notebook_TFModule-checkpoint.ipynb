{
 "cells": [
  {
   "cell_type": "code",
   "execution_count": 1,
   "metadata": {},
   "outputs": [],
   "source": [
    "import json, os, wget, tqdm, requests, time, shutil\n",
    "# from selenium import webdriver\n",
    "from settings import DOWNLOAD_STORE, CHROME_PATH\n",
    "\n",
    "download_store = DOWNLOAD_STORE"
   ]
  },
  {
   "cell_type": "code",
   "execution_count": 2,
   "metadata": {},
   "outputs": [],
   "source": [
    "# !jupyter nbconvert Download_files_for_Pipeline_Notebook_TFModule.ipynb --to python"
   ]
  },
  {
   "cell_type": "markdown",
   "metadata": {},
   "source": [
    "## Download pipeline's zip files. \n",
    "* generally speaking, the zip files will contain yaml file. Yaml file is important for Kuberflow files. "
   ]
  },
  {
   "cell_type": "code",
   "execution_count": 3,
   "metadata": {},
   "outputs": [
    {
     "name": "stderr",
     "output_type": "stream",
     "text": [
      "\r",
      "  0%|                                                                                           | 0/43 [00:00<?, ?it/s]"
     ]
    },
    {
     "name": "stdout",
     "output_type": "stream",
     "text": [
      "100% [................................................................................] 2975 / 2975"
     ]
    },
    {
     "name": "stderr",
     "output_type": "stream",
     "text": [
      "\r",
      "  2%|█▉                                                                                 | 1/43 [00:00<00:18,  2.27it/s]"
     ]
    },
    {
     "name": "stdout",
     "output_type": "stream",
     "text": [
      "100% [................................................................................] 2566 / 2566"
     ]
    },
    {
     "name": "stderr",
     "output_type": "stream",
     "text": [
      "\r",
      "  7%|█████▊                                                                             | 3/43 [00:00<00:12,  3.08it/s]"
     ]
    },
    {
     "name": "stdout",
     "output_type": "stream",
     "text": [
      "100% [................................................................................] 1594 / 1594"
     ]
    },
    {
     "name": "stderr",
     "output_type": "stream",
     "text": [
      "\r",
      " 12%|█████████▋                                                                         | 5/43 [00:00<00:09,  4.10it/s]"
     ]
    },
    {
     "name": "stdout",
     "output_type": "stream",
     "text": [
      "100% [................................................................................] 2554 / 2554"
     ]
    },
    {
     "name": "stderr",
     "output_type": "stream",
     "text": [
      "\r",
      " 16%|█████████████▌                                                                     | 7/43 [00:00<00:06,  5.36it/s]"
     ]
    },
    {
     "name": "stdout",
     "output_type": "stream",
     "text": [
      "-1 / unknown..........................................................................] 1429 / 1429"
     ]
    },
    {
     "name": "stderr",
     "output_type": "stream",
     "text": [
      "\r",
      " 21%|█████████████████▎                                                                 | 9/43 [00:01<00:06,  5.07it/s]"
     ]
    },
    {
     "name": "stdout",
     "output_type": "stream",
     "text": [
      "100% [................................................................................] 2825 / 2825"
     ]
    },
    {
     "name": "stderr",
     "output_type": "stream",
     "text": [
      "\r",
      " 26%|████████████████████▉                                                             | 11/43 [00:01<00:05,  6.06it/s]"
     ]
    },
    {
     "name": "stdout",
     "output_type": "stream",
     "text": [
      "100% [................................................................................] 1544 / 1544"
     ]
    },
    {
     "name": "stderr",
     "output_type": "stream",
     "text": [
      "\r",
      " 30%|████████████████████████▊                                                         | 13/43 [00:01<00:04,  7.45it/s]"
     ]
    },
    {
     "name": "stdout",
     "output_type": "stream",
     "text": [
      "-1 / unknown..........................................................................] 2547 / 2547"
     ]
    },
    {
     "name": "stderr",
     "output_type": "stream",
     "text": [
      "\r",
      " 35%|████████████████████████████▌                                                     | 15/43 [00:01<00:04,  6.80it/s]"
     ]
    },
    {
     "name": "stdout",
     "output_type": "stream",
     "text": [
      "100% [................................................................................] 1636 / 1636"
     ]
    },
    {
     "name": "stderr",
     "output_type": "stream",
     "text": [
      "\r",
      " 40%|████████████████████████████████▍                                                 | 17/43 [00:01<00:03,  8.39it/s]"
     ]
    },
    {
     "name": "stdout",
     "output_type": "stream",
     "text": [
      "100% [................................................................................] 3234 / 3234"
     ]
    },
    {
     "name": "stderr",
     "output_type": "stream",
     "text": [
      "\r",
      " 44%|████████████████████████████████████▏                                             | 19/43 [00:02<00:03,  7.25it/s]"
     ]
    },
    {
     "name": "stdout",
     "output_type": "stream",
     "text": [
      "100% [................................................................................] 2959 / 2959"
     ]
    },
    {
     "name": "stderr",
     "output_type": "stream",
     "text": [
      "\r",
      " 49%|████████████████████████████████████████                                          | 21/43 [00:02<00:02,  8.86it/s]"
     ]
    },
    {
     "name": "stdout",
     "output_type": "stream",
     "text": [
      "100% [..................................................................................] 991 / 991"
     ]
    },
    {
     "name": "stderr",
     "output_type": "stream",
     "text": [
      "\r",
      " 53%|███████████████████████████████████████████▊                                      | 23/43 [00:02<00:02,  7.51it/s]"
     ]
    },
    {
     "name": "stdout",
     "output_type": "stream",
     "text": [
      "100% [................................................................................] 1525 / 1525"
     ]
    },
    {
     "name": "stderr",
     "output_type": "stream",
     "text": [
      "\r",
      " 58%|███████████████████████████████████████████████▋                                  | 25/43 [00:02<00:01,  9.15it/s]"
     ]
    },
    {
     "name": "stdout",
     "output_type": "stream",
     "text": [
      "100% [................................................................................] 2385 / 2385"
     ]
    },
    {
     "name": "stderr",
     "output_type": "stream",
     "text": [
      "\r",
      " 63%|███████████████████████████████████████████████████▍                              | 27/43 [00:03<00:01, 10.74it/s]"
     ]
    },
    {
     "name": "stdout",
     "output_type": "stream",
     "text": [
      "100% [................................................................................] 1648 / 1648"
     ]
    },
    {
     "name": "stderr",
     "output_type": "stream",
     "text": [
      "\r",
      " 67%|███████████████████████████████████████████████████████▎                          | 29/43 [00:03<00:01, 12.29it/s]"
     ]
    },
    {
     "name": "stdout",
     "output_type": "stream",
     "text": [
      "100% [................................................................................] 2635 / 2635"
     ]
    },
    {
     "name": "stderr",
     "output_type": "stream",
     "text": [
      "\r",
      " 72%|███████████████████████████████████████████████████████████                       | 31/43 [00:03<00:00, 13.67it/s]"
     ]
    },
    {
     "name": "stdout",
     "output_type": "stream",
     "text": [
      "100% [................................................................................] 1681 / 1681"
     ]
    },
    {
     "name": "stderr",
     "output_type": "stream",
     "text": [
      "\r",
      " 77%|██████████████████████████████████████████████████████████████▉                   | 33/43 [00:03<00:00, 14.80it/s]"
     ]
    },
    {
     "name": "stdout",
     "output_type": "stream",
     "text": [
      "-1 / unknown..........................................................................] 2780 / 2780"
     ]
    },
    {
     "name": "stderr",
     "output_type": "stream",
     "text": [
      "\r",
      " 81%|██████████████████████████████████████████████████████████████████▋               | 35/43 [00:03<00:00,  9.27it/s]"
     ]
    },
    {
     "name": "stdout",
     "output_type": "stream",
     "text": [
      "100% [................................................................................] 1714 / 1714"
     ]
    },
    {
     "name": "stderr",
     "output_type": "stream",
     "text": [
      "\r",
      " 86%|██████████████████████████████████████████████████████████████████████▌           | 37/43 [00:03<00:00, 10.82it/s]"
     ]
    },
    {
     "name": "stdout",
     "output_type": "stream",
     "text": [
      "100% [................................................................................] 1013 / 1013"
     ]
    },
    {
     "name": "stderr",
     "output_type": "stream",
     "text": [
      "\r",
      " 91%|██████████████████████████████████████████████████████████████████████████▎       | 39/43 [00:03<00:00, 12.34it/s]"
     ]
    },
    {
     "name": "stdout",
     "output_type": "stream",
     "text": [
      "100% [................................................................................] 1016 / 1016"
     ]
    },
    {
     "name": "stderr",
     "output_type": "stream",
     "text": [
      "\r",
      " 95%|██████████████████████████████████████████████████████████████████████████████▏   | 41/43 [00:04<00:00, 13.74it/s]"
     ]
    },
    {
     "name": "stdout",
     "output_type": "stream",
     "text": [
      "-1 / unknown..........................................................................] 1202 / 1202"
     ]
    },
    {
     "name": "stderr",
     "output_type": "stream",
     "text": [
      "100%|██████████████████████████████████████████████████████████████████████████████████| 43/43 [00:04<00:00,  9.67it/s]\n"
     ]
    }
   ],
   "source": [
    "def download_files_Pipeline():\n",
    "    asset_type = \"Pipeline\"\n",
    "    with open(os.path.join(download_store, \"{}_Info.json\".format(asset_type))) as at:\n",
    "        items = json.load(at)\n",
    "    for item in tqdm.tqdm(items):\n",
    "        name = item[\"name\"]\n",
    "        version = item[\"version\"]\n",
    "        file_link = (item[\"info\"][1][9])\n",
    "        file_name = file_link.split(\"/\")[-1]\n",
    "        file_dir = os.path.join(download_store, asset_type, name, \"file\")\n",
    "        if not os.path.exists(file_dir):\n",
    "            os.makedirs(file_dir)\n",
    "        # new_file_path = os.path.join(file_dir, f\"{version}_{file_name}\")\n",
    "        downloaded_file_name = wget.download(file_link)\n",
    "        shutil.move(\n",
    "            downloaded_file_name,\n",
    "            os.path.join(file_dir, f\"{version}_{downloaded_file_name}\")\n",
    "        )\n",
    "        \n",
    "download_files_Pipeline()"
   ]
  },
  {
   "cell_type": "markdown",
   "metadata": {},
   "source": [
    "## Get Notebooks\n",
    "* downloading botebook from webpage need google account. I don't want to use my personal account. So I use the .md code in json files and then transform such files into .ipynb. "
   ]
  },
  {
   "cell_type": "code",
   "execution_count": 4,
   "metadata": {},
   "outputs": [
    {
     "name": "stderr",
     "output_type": "stream",
     "text": [
      "100%|████████████████████████████████████████████████████████████████████████████████| 133/133 [03:41<00:00,  1.63s/it]\n"
     ]
    }
   ],
   "source": [
    "def transform_md_to_Notebooks():\n",
    "    asset_type = \"Notebook\"\n",
    "    with open(os.path.join(download_store, \"{}_Info.json\".format(asset_type))) as at:\n",
    "        items = json.load(at)\n",
    "    for item in tqdm.tqdm(items):\n",
    "        name = item[\"name\"]\n",
    "        version = item[\"version\"]\n",
    "        \n",
    "#         if item[\"info\"][1][9] == None and item[\"info\"][1][10] != None:\n",
    "#             file_link = item[\"info\"][1][10]\n",
    "#         elif item[\"info\"][1][10] == None and item[\"info\"][1][9] != None:\n",
    "#             file_link = item[\"info\"][1][9]\n",
    "#         else:\n",
    "#             file_link = \"xx/(NameUnknown).ipynb\"\n",
    "\n",
    "#         if file_link == None:\n",
    "#             print(name)\n",
    "#         file_name = file_link.split(\"/\")[-1]\n",
    "\n",
    "#         if \"?\" in file_name:\n",
    "#             file_name = file_name.split(\"?\")[0]\n",
    "\n",
    "        # file_name = f\"{version}_{file_link}.ipynb\"\n",
    "    \n",
    "        file_dir = os.path.join(download_store, asset_type, name, \"file\")\n",
    "        if not os.path.exists(file_dir):\n",
    "            os.makedirs(file_dir)\n",
    "        # new_file_path = os.path.join(file_dir, file_name)\n",
    "        new_file_path = os.path.join(file_dir, f\"{version}.ipynb\") #f\"{version}_{file_name}\"\n",
    "\n",
    "        content = item[\"info\"][1][7]\n",
    "#         if name != \"Text generation using a RNN with eager execution\":\n",
    "#             continue\n",
    "        with open(\"input.md\", \"w\", encoding= \"utf-8\") as f:\n",
    "#             print(content)\n",
    "            f.write(content)#.replace(\"\\\\n\", \"\\n\").replace(\"\\\\\\\"\", \"\\\"\")\n",
    "        os.system(\"notedown input.md > output.ipynb\")\n",
    "        shutil.move(\"output.ipynb\", new_file_path)\n",
    "    os.remove(\"input.md\")\n",
    "\n",
    "transform_md_to_Notebooks()"
   ]
  },
  {
   "cell_type": "markdown",
   "metadata": {},
   "source": [
    "## Download models for TFModule. \n",
    "* seems that anything can be downloaded normally, but there are still warnings. "
   ]
  },
  {
   "cell_type": "code",
   "execution_count": 11,
   "metadata": {},
   "outputs": [
    {
     "name": "stderr",
     "output_type": "stream",
     "text": [
      "\n",
      "  0%|                                                                                          | 0/431 [00:00<?, ?it/s]\n",
      " 12%|█████████▉                                                                       | 53/431 [00:48<05:45,  1.09it/s]"
     ]
    },
    {
     "name": "stdout",
     "output_type": "stream",
     "text": [
      "tf2-preview-inception_v3-feature_vector failed. Link is https://tfhub.dev/google/tf2-preview/inception_v3/feature_vector/1\n",
      "tf2-preview-inception_v3-feature_vector failed. Link is https://tfhub.dev/google/tf2-preview/inception_v3/feature_vector/2\n"
     ]
    },
    {
     "name": "stderr",
     "output_type": "stream",
     "text": [
      "\n",
      " 13%|██████████▎                                                                      | 55/431 [01:07<21:58,  3.51s/it]"
     ]
    },
    {
     "name": "stdout",
     "output_type": "stream",
     "text": [
      "tf2-preview-inception_v3-feature_vector failed. Link is https://tfhub.dev/google/tf2-preview/inception_v3/feature_vector/3\n"
     ]
    },
    {
     "name": "stderr",
     "output_type": "stream",
     "text": [
      "\n",
      " 13%|██████████▌                                                                      | 56/431 [01:29<56:21,  9.02s/it]"
     ]
    },
    {
     "name": "stdout",
     "output_type": "stream",
     "text": [
      "tf2-preview-inception_v3-feature_vector failed. Link is https://tfhub.dev/google/tf2-preview/inception_v3/feature_vector/4\n"
     ]
    },
    {
     "name": "stderr",
     "output_type": "stream",
     "text": [
      "\n",
      " 13%|██████████▍                                                                    | 57/431 [01:50<1:19:27, 12.75s/it]\n",
      " 13%|██████████▋                                                                    | 58/431 [03:43<4:24:54, 42.61s/it]\n",
      " 14%|██████████▊                                                                    | 59/431 [04:22<4:18:24, 41.68s/it]\n",
      " 14%|██████████▉                                                                    | 60/431 [04:58<4:05:55, 39.77s/it]\n",
      " 14%|██████████▉                                                                  | 61/431 [12:49<17:23:59, 169.29s/it]\n",
      " 14%|███████████                                                                  | 62/431 [13:29<13:22:47, 130.54s/it]\n",
      " 15%|███████████▎                                                                 | 63/431 [14:08<10:32:25, 103.11s/it]\n",
      " 15%|███████████▋                                                                   | 64/431 [14:52<8:40:53, 85.16s/it]\n",
      " 15%|███████████▉                                                                   | 65/431 [15:30<7:13:42, 71.10s/it]\n",
      " 15%|████████████                                                                   | 66/431 [16:09<6:13:46, 61.44s/it]\n",
      " 16%|████████████▎                                                                  | 67/431 [16:51<5:37:44, 55.67s/it]\n",
      " 16%|████████████▍                                                                  | 68/431 [17:35<5:15:07, 52.09s/it]\n",
      " 16%|████████████▋                                                                  | 69/431 [20:53<9:38:51, 95.94s/it]\n",
      " 16%|████████████▌                                                                | 70/431 [24:03<12:27:07, 124.18s/it]\n",
      " 16%|████████████▋                                                                | 71/431 [25:34<11:26:12, 114.37s/it]\n",
      " 17%|████████████▊                                                                | 72/431 [27:04<10:38:56, 106.79s/it]\n",
      " 17%|█████████████▍                                                                 | 73/431 [27:49<8:47:23, 88.39s/it]\n",
      " 17%|█████████████▌                                                                 | 74/431 [28:33<7:25:51, 74.93s/it]\n",
      " 17%|█████████████▋                                                                 | 75/431 [29:33<6:57:57, 70.44s/it]"
     ]
    },
    {
     "name": "stdout",
     "output_type": "stream",
     "text": [
      "universal-sentence-encoder-xling-en-es failed. Link is https://tfhub.dev/google/universal-sentence-encoder-xling/en-es/1\n"
     ]
    },
    {
     "name": "stderr",
     "output_type": "stream",
     "text": [
      "\n",
      " 18%|█████████████▉                                                                 | 76/431 [31:15<7:54:13, 80.15s/it]"
     ]
    },
    {
     "name": "stdout",
     "output_type": "stream",
     "text": [
      "imagenet-mobilenet_v2_100_160-classification failed. Link is https://tfhub.dev/google/imagenet/mobilenet_v2_100_160/classification/1\n"
     ]
    },
    {
     "name": "stderr",
     "output_type": "stream",
     "text": [
      "\n",
      " 18%|██████████████                                                                 | 77/431 [31:21<5:40:42, 57.75s/it]"
     ]
    },
    {
     "name": "stdout",
     "output_type": "stream",
     "text": [
      "imagenet-mobilenet_v2_100_160-classification failed. Link is https://tfhub.dev/google/imagenet/mobilenet_v2_100_160/classification/2\n"
     ]
    },
    {
     "name": "stderr",
     "output_type": "stream",
     "text": [
      "\n",
      " 18%|██████████████▎                                                                | 78/431 [31:25<4:05:42, 41.76s/it]"
     ]
    },
    {
     "name": "stdout",
     "output_type": "stream",
     "text": [
      "imagenet-mobilenet_v2_100_160-classification failed. Link is https://tfhub.dev/google/imagenet/mobilenet_v2_100_160/classification/3\n"
     ]
    },
    {
     "name": "stderr",
     "output_type": "stream",
     "text": [
      "\n",
      " 18%|██████████████▍                                                                | 79/431 [31:31<3:01:11, 30.89s/it]"
     ]
    },
    {
     "name": "stdout",
     "output_type": "stream",
     "text": [
      "imagenet-mobilenet_v2_130_224-classification failed. Link is https://tfhub.dev/google/imagenet/mobilenet_v2_130_224/classification/1\n"
     ]
    },
    {
     "name": "stderr",
     "output_type": "stream",
     "text": [
      "\n",
      " 19%|██████████████▋                                                                | 80/431 [31:37<2:18:03, 23.60s/it]"
     ]
    },
    {
     "name": "stdout",
     "output_type": "stream",
     "text": [
      "imagenet-mobilenet_v2_130_224-classification failed. Link is https://tfhub.dev/google/imagenet/mobilenet_v2_130_224/classification/2\n"
     ]
    },
    {
     "name": "stderr",
     "output_type": "stream",
     "text": [
      "\n",
      " 19%|██████████████▊                                                                | 81/431 [31:44<1:47:57, 18.51s/it]"
     ]
    },
    {
     "name": "stdout",
     "output_type": "stream",
     "text": [
      "imagenet-mobilenet_v2_130_224-classification failed. Link is https://tfhub.dev/google/imagenet/mobilenet_v2_130_224/classification/3\n"
     ]
    },
    {
     "name": "stderr",
     "output_type": "stream",
     "text": [
      "\n",
      " 19%|███████████████                                                                | 82/431 [31:51<1:26:58, 14.95s/it]"
     ]
    },
    {
     "name": "stdout",
     "output_type": "stream",
     "text": [
      "tf2-preview-nnlm-en-dim128 failed. Link is https://tfhub.dev/google/tf2-preview/nnlm-en-dim128/1\n"
     ]
    },
    {
     "name": "stderr",
     "output_type": "stream",
     "text": [
      "\n",
      " 19%|███████████████▏                                                               | 83/431 [33:50<4:28:56, 46.37s/it]"
     ]
    },
    {
     "name": "stdout",
     "output_type": "stream",
     "text": [
      "imagenet-mobilenet_v1_075_128-quantops-classification failed. Link is https://tfhub.dev/google/imagenet/mobilenet_v1_075_128/quantops/classification/1\n"
     ]
    },
    {
     "name": "stderr",
     "output_type": "stream",
     "text": [
      "\n",
      " 19%|███████████████▍                                                               | 84/431 [33:54<3:14:08, 33.57s/it]"
     ]
    },
    {
     "name": "stdout",
     "output_type": "stream",
     "text": [
      "imagenet-mobilenet_v1_075_128-quantops-classification failed. Link is https://tfhub.dev/google/imagenet/mobilenet_v1_075_128/quantops/classification/3\n"
     ]
    },
    {
     "name": "stderr",
     "output_type": "stream",
     "text": [
      "\n",
      " 20%|███████████████▌                                                               | 85/431 [33:58<2:21:31, 24.54s/it]"
     ]
    },
    {
     "name": "stdout",
     "output_type": "stream",
     "text": [
      "imagenet-resnet_v1_152-feature_vector failed. Link is https://tfhub.dev/google/imagenet/resnet_v1_152/feature_vector/1\n"
     ]
    },
    {
     "name": "stderr",
     "output_type": "stream",
     "text": [
      "\n",
      " 20%|███████████████▊                                                               | 86/431 [34:56<3:19:09, 34.64s/it]"
     ]
    },
    {
     "name": "stdout",
     "output_type": "stream",
     "text": [
      "imagenet-resnet_v1_152-feature_vector failed. Link is https://tfhub.dev/google/imagenet/resnet_v1_152/feature_vector/3\n"
     ]
    },
    {
     "name": "stderr",
     "output_type": "stream",
     "text": [
      "\n",
      " 20%|███████████████▉                                                               | 87/431 [35:53<3:57:16, 41.39s/it]"
     ]
    },
    {
     "name": "stdout",
     "output_type": "stream",
     "text": [
      "imagenet-mobilenet_v1_100_192-classification failed. Link is https://tfhub.dev/google/imagenet/mobilenet_v1_100_192/classification/1\n"
     ]
    },
    {
     "name": "stderr",
     "output_type": "stream",
     "text": [
      "\n",
      " 20%|████████████████▏                                                              | 88/431 [35:58<2:53:43, 30.39s/it]"
     ]
    },
    {
     "name": "stdout",
     "output_type": "stream",
     "text": [
      "imagenet-mobilenet_v1_100_192-classification failed. Link is https://tfhub.dev/google/imagenet/mobilenet_v1_100_192/classification/3\n"
     ]
    },
    {
     "name": "stderr",
     "output_type": "stream",
     "text": [
      "\n",
      " 21%|████████████████▎                                                              | 89/431 [36:02<2:09:07, 22.65s/it]"
     ]
    },
    {
     "name": "stdout",
     "output_type": "stream",
     "text": [
      "bert_cased_L-24_H-1024_A-16 failed. Link is https://tfhub.dev/google/bert_cased_L-24_H-1024_A-16/1\n"
     ]
    },
    {
     "name": "stderr",
     "output_type": "stream",
     "text": [
      "\n",
      " 21%|████████████████                                                             | 90/431 [41:23<10:37:53, 112.24s/it]"
     ]
    },
    {
     "name": "stdout",
     "output_type": "stream",
     "text": [
      "compare_gan-model_11_cifar10_resnet_cifar failed. Link is https://tfhub.dev/google/compare_gan/model_11_cifar10_resnet_cifar/1\n"
     ]
    },
    {
     "name": "stderr",
     "output_type": "stream",
     "text": [
      "\n",
      " 21%|████████████████▋                                                              | 91/431 [41:44<7:59:56, 84.69s/it]"
     ]
    },
    {
     "name": "stdout",
     "output_type": "stream",
     "text": [
      "compare_gan-model_8_lsun_bedroom_resnet19 failed. Link is https://tfhub.dev/google/compare_gan/model_8_lsun_bedroom_resnet19/1\n"
     ]
    },
    {
     "name": "stderr",
     "output_type": "stream",
     "text": [
      "\n",
      " 21%|████████████████▊                                                              | 92/431 [43:10<8:01:40, 85.25s/it]"
     ]
    },
    {
     "name": "stdout",
     "output_type": "stream",
     "text": [
      "tf2-preview-nnlm-en-dim50 failed. Link is https://tfhub.dev/google/tf2-preview/nnlm-en-dim50/1\n"
     ]
    },
    {
     "name": "stderr",
     "output_type": "stream",
     "text": [
      "\n",
      " 22%|█████████████████                                                              | 93/431 [43:57<6:54:37, 73.60s/it]"
     ]
    },
    {
     "name": "stdout",
     "output_type": "stream",
     "text": [
      "imagenet-mobilenet_v2_035_128-classification failed. Link is https://tfhub.dev/google/imagenet/mobilenet_v2_035_128/classification/1\n"
     ]
    },
    {
     "name": "stderr",
     "output_type": "stream",
     "text": [
      "\n",
      " 22%|█████████████████▏                                                             | 94/431 [44:00<4:54:35, 52.45s/it]"
     ]
    },
    {
     "name": "stdout",
     "output_type": "stream",
     "text": [
      "imagenet-mobilenet_v2_035_128-classification failed. Link is https://tfhub.dev/google/imagenet/mobilenet_v2_035_128/classification/2\n"
     ]
    },
    {
     "name": "stderr",
     "output_type": "stream",
     "text": [
      "\n",
      " 22%|█████████████████▍                                                             | 95/431 [44:03<3:30:20, 37.56s/it]"
     ]
    },
    {
     "name": "stdout",
     "output_type": "stream",
     "text": [
      "imagenet-mobilenet_v2_035_128-classification failed. Link is https://tfhub.dev/google/imagenet/mobilenet_v2_035_128/classification/3\n"
     ]
    },
    {
     "name": "stderr",
     "output_type": "stream",
     "text": [
      "\n",
      " 22%|█████████████████▌                                                             | 96/431 [44:06<2:31:41, 27.17s/it]"
     ]
    },
    {
     "name": "stdout",
     "output_type": "stream",
     "text": [
      "imagenet-mobilenet_v2_075_192-classification failed. Link is https://tfhub.dev/google/imagenet/mobilenet_v2_075_192/classification/1\n"
     ]
    },
    {
     "name": "stderr",
     "output_type": "stream",
     "text": [
      "\n",
      " 23%|█████████████████▊                                                             | 97/431 [44:11<1:54:01, 20.48s/it]"
     ]
    },
    {
     "name": "stdout",
     "output_type": "stream",
     "text": [
      "imagenet-mobilenet_v2_075_192-classification failed. Link is https://tfhub.dev/google/imagenet/mobilenet_v2_075_192/classification/2\n"
     ]
    },
    {
     "name": "stderr",
     "output_type": "stream",
     "text": [
      "\n",
      " 23%|█████████████████▉                                                             | 98/431 [44:15<1:27:41, 15.80s/it]"
     ]
    },
    {
     "name": "stdout",
     "output_type": "stream",
     "text": [
      "imagenet-mobilenet_v2_075_192-classification failed. Link is https://tfhub.dev/google/imagenet/mobilenet_v2_075_192/classification/3\n"
     ]
    },
    {
     "name": "stderr",
     "output_type": "stream",
     "text": [
      "\n",
      " 23%|██████████████████▏                                                            | 99/431 [44:20<1:08:07, 12.31s/it]"
     ]
    },
    {
     "name": "stdout",
     "output_type": "stream",
     "text": [
      "imagenet-inception_v3-classification failed. Link is https://tfhub.dev/google/imagenet/inception_v3/classification/1\n"
     ]
    },
    {
     "name": "stderr",
     "output_type": "stream",
     "text": [
      "\n",
      " 23%|██████████████████                                                            | 100/431 [44:47<1:32:13, 16.72s/it]"
     ]
    },
    {
     "name": "stdout",
     "output_type": "stream",
     "text": [
      "imagenet-inception_v3-classification failed. Link is https://tfhub.dev/google/imagenet/inception_v3/classification/3\n"
     ]
    },
    {
     "name": "stderr",
     "output_type": "stream",
     "text": [
      "\n",
      " 23%|██████████████████▎                                                           | 101/431 [45:13<1:48:02, 19.64s/it]"
     ]
    },
    {
     "name": "stdout",
     "output_type": "stream",
     "text": [
      "ganeval-cifar10-convnet failed. Link is https://tfhub.dev/deepmind/ganeval-cifar10-convnet/1\n"
     ]
    },
    {
     "name": "stderr",
     "output_type": "stream",
     "text": [
      "\n",
      " 24%|██████████████████▍                                                           | 102/431 [45:19<1:24:23, 15.39s/it]"
     ]
    },
    {
     "name": "stdout",
     "output_type": "stream",
     "text": [
      "imagenet-mobilenet_v1_050_224-classification failed. Link is https://tfhub.dev/google/imagenet/mobilenet_v1_050_224/classification/1\n"
     ]
    },
    {
     "name": "stderr",
     "output_type": "stream",
     "text": [
      "\n",
      " 24%|██████████████████▋                                                           | 103/431 [45:21<1:02:54, 11.51s/it]"
     ]
    },
    {
     "name": "stdout",
     "output_type": "stream",
     "text": [
      "imagenet-mobilenet_v1_050_224-classification failed. Link is https://tfhub.dev/google/imagenet/mobilenet_v1_050_224/classification/3\n"
     ]
    },
    {
     "name": "stderr",
     "output_type": "stream",
     "text": [
      "\n",
      " 24%|███████████████████▎                                                            | 104/431 [45:23<47:14,  8.67s/it]"
     ]
    },
    {
     "name": "stdout",
     "output_type": "stream",
     "text": [
      "tf2-preview-gnews-swivel-20dim failed. Link is https://tfhub.dev/google/tf2-preview/gnews-swivel-20dim/1\n"
     ]
    },
    {
     "name": "stderr",
     "output_type": "stream",
     "text": [
      "\n",
      " 24%|███████████████████▍                                                            | 105/431 [45:24<34:21,  6.33s/it]"
     ]
    },
    {
     "name": "stdout",
     "output_type": "stream",
     "text": [
      "imagenet-mobilenet_v2_035_192-feature_vector failed. Link is https://tfhub.dev/google/imagenet/mobilenet_v2_035_192/feature_vector/1\n"
     ]
    },
    {
     "name": "stderr",
     "output_type": "stream",
     "text": [
      "\n",
      " 25%|███████████████████▋                                                            | 106/431 [45:26<27:20,  5.05s/it]"
     ]
    },
    {
     "name": "stdout",
     "output_type": "stream",
     "text": [
      "imagenet-mobilenet_v2_035_192-feature_vector failed. Link is https://tfhub.dev/google/imagenet/mobilenet_v2_035_192/feature_vector/2\n"
     ]
    },
    {
     "name": "stderr",
     "output_type": "stream",
     "text": [
      "\n",
      " 25%|███████████████████▊                                                            | 107/431 [45:28<22:07,  4.10s/it]"
     ]
    },
    {
     "name": "stdout",
     "output_type": "stream",
     "text": [
      "imagenet-mobilenet_v2_035_192-feature_vector failed. Link is https://tfhub.dev/google/imagenet/mobilenet_v2_035_192/feature_vector/3\n"
     ]
    },
    {
     "name": "stderr",
     "output_type": "stream",
     "text": [
      "\n",
      " 25%|████████████████████                                                            | 108/431 [45:30<18:30,  3.44s/it]"
     ]
    },
    {
     "name": "stdout",
     "output_type": "stream",
     "text": [
      "compare_gan-model_12_cifar10_resnet_cifar failed. Link is https://tfhub.dev/google/compare_gan/model_12_cifar10_resnet_cifar/1\n"
     ]
    },
    {
     "name": "stderr",
     "output_type": "stream",
     "text": [
      "\n",
      " 25%|████████████████████▏                                                           | 109/431 [45:53<50:22,  9.39s/it]"
     ]
    },
    {
     "name": "stdout",
     "output_type": "stream",
     "text": [
      "imagenet-mobilenet_v2_100_96-classification failed. Link is https://tfhub.dev/google/imagenet/mobilenet_v2_100_96/classification/1\n"
     ]
    },
    {
     "name": "stderr",
     "output_type": "stream",
     "text": [
      "\n",
      " 26%|████████████████████▍                                                           | 110/431 [45:58<43:10,  8.07s/it]"
     ]
    },
    {
     "name": "stdout",
     "output_type": "stream",
     "text": [
      "imagenet-mobilenet_v2_100_96-classification failed. Link is https://tfhub.dev/google/imagenet/mobilenet_v2_100_96/classification/2\n"
     ]
    },
    {
     "name": "stderr",
     "output_type": "stream",
     "text": [
      "\n",
      " 26%|████████████████████▌                                                           | 111/431 [46:04<39:14,  7.36s/it]"
     ]
    },
    {
     "name": "stdout",
     "output_type": "stream",
     "text": [
      "imagenet-mobilenet_v2_100_96-classification failed. Link is https://tfhub.dev/google/imagenet/mobilenet_v2_100_96/classification/3\n"
     ]
    },
    {
     "name": "stderr",
     "output_type": "stream",
     "text": [
      "\n",
      " 26%|████████████████████▊                                                           | 112/431 [46:09<35:14,  6.63s/it]"
     ]
    },
    {
     "name": "stdout",
     "output_type": "stream",
     "text": [
      "tf2-preview-gnews-swivel-20dim-with-oov failed. Link is https://tfhub.dev/google/tf2-preview/gnews-swivel-20dim-with-oov/1\n"
     ]
    },
    {
     "name": "stderr",
     "output_type": "stream",
     "text": [
      "\n",
      " 26%|████████████████████▉                                                           | 113/431 [46:10<25:58,  4.90s/it]"
     ]
    },
    {
     "name": "stdout",
     "output_type": "stream",
     "text": [
      "imagenet-mobilenet_v1_050_128-quantops-classification failed. Link is https://tfhub.dev/google/imagenet/mobilenet_v1_050_128/quantops/classification/1\n"
     ]
    },
    {
     "name": "stderr",
     "output_type": "stream",
     "text": [
      "\n",
      " 26%|█████████████████████▏                                                          | 114/431 [46:12<21:47,  4.12s/it]"
     ]
    },
    {
     "name": "stdout",
     "output_type": "stream",
     "text": [
      "imagenet-mobilenet_v1_050_128-quantops-classification failed. Link is https://tfhub.dev/google/imagenet/mobilenet_v1_050_128/quantops/classification/3\n"
     ]
    },
    {
     "name": "stderr",
     "output_type": "stream",
     "text": [
      "\n",
      " 27%|█████████████████████▎                                                          | 115/431 [46:14<17:51,  3.39s/it]"
     ]
    },
    {
     "name": "stdout",
     "output_type": "stream",
     "text": [
      "imagenet-mobilenet_v2_050_160-feature_vector failed. Link is https://tfhub.dev/google/imagenet/mobilenet_v2_050_160/feature_vector/1\n"
     ]
    },
    {
     "name": "stderr",
     "output_type": "stream",
     "text": [
      "\n",
      " 27%|█████████████████████▌                                                          | 116/431 [46:16<16:04,  3.06s/it]"
     ]
    },
    {
     "name": "stdout",
     "output_type": "stream",
     "text": [
      "imagenet-mobilenet_v2_050_160-feature_vector failed. Link is https://tfhub.dev/google/imagenet/mobilenet_v2_050_160/feature_vector/2\n"
     ]
    },
    {
     "name": "stderr",
     "output_type": "stream",
     "text": [
      "\n",
      " 27%|█████████████████████▋                                                          | 117/431 [46:18<14:59,  2.86s/it]"
     ]
    },
    {
     "name": "stdout",
     "output_type": "stream",
     "text": [
      "imagenet-mobilenet_v2_050_160-feature_vector failed. Link is https://tfhub.dev/google/imagenet/mobilenet_v2_050_160/feature_vector/3\n"
     ]
    },
    {
     "name": "stderr",
     "output_type": "stream",
     "text": [
      "\n",
      " 27%|█████████████████████▉                                                          | 118/431 [46:20<13:36,  2.61s/it]"
     ]
    },
    {
     "name": "stdout",
     "output_type": "stream",
     "text": [
      "imagenet-resnet_v1_50-feature_vector failed. Link is https://tfhub.dev/google/imagenet/resnet_v1_50/feature_vector/1\n"
     ]
    },
    {
     "name": "stderr",
     "output_type": "stream",
     "text": [
      "\n",
      " 28%|██████████████████████                                                          | 119/431 [46:47<50:46,  9.76s/it]"
     ]
    },
    {
     "name": "stdout",
     "output_type": "stream",
     "text": [
      "imagenet-resnet_v1_50-feature_vector failed. Link is https://tfhub.dev/google/imagenet/resnet_v1_50/feature_vector/3\n"
     ]
    },
    {
     "name": "stderr",
     "output_type": "stream",
     "text": [
      "\n",
      " 28%|█████████████████████▋                                                        | 120/431 [47:12<1:14:24, 14.35s/it]"
     ]
    },
    {
     "name": "stdout",
     "output_type": "stream",
     "text": [
      "bert_chinese_L-12_H-768_A-12 failed. Link is https://tfhub.dev/google/bert_chinese_L-12_H-768_A-12/1\n"
     ]
    },
    {
     "name": "stderr",
     "output_type": "stream",
     "text": [
      "\n",
      " 28%|█████████████████████▉                                                        | 121/431 [48:54<3:30:12, 40.69s/it]"
     ]
    },
    {
     "name": "stdout",
     "output_type": "stream",
     "text": [
      "nnlm-de-dim50 failed. Link is https://tfhub.dev/google/nnlm-de-dim50/1\n"
     ]
    },
    {
     "name": "stderr",
     "output_type": "stream",
     "text": [
      "\n",
      " 28%|██████████████████████                                                        | 122/431 [49:43<3:43:01, 43.31s/it]"
     ]
    },
    {
     "name": "stdout",
     "output_type": "stream",
     "text": [
      "imagenet-mobilenet_v2_075_224-feature_vector failed. Link is https://tfhub.dev/google/imagenet/mobilenet_v2_075_224/feature_vector/1\n"
     ]
    },
    {
     "name": "stderr",
     "output_type": "stream",
     "text": [
      "\n",
      " 29%|██████████████████████▎                                                       | 123/431 [49:46<2:40:23, 31.24s/it]"
     ]
    },
    {
     "name": "stdout",
     "output_type": "stream",
     "text": [
      "imagenet-mobilenet_v2_075_224-feature_vector failed. Link is https://tfhub.dev/google/imagenet/mobilenet_v2_075_224/feature_vector/2\n"
     ]
    },
    {
     "name": "stderr",
     "output_type": "stream",
     "text": [
      "\n",
      " 29%|██████████████████████▍                                                       | 124/431 [49:49<1:55:39, 22.60s/it]"
     ]
    },
    {
     "name": "stdout",
     "output_type": "stream",
     "text": [
      "imagenet-mobilenet_v2_075_224-feature_vector failed. Link is https://tfhub.dev/google/imagenet/mobilenet_v2_075_224/feature_vector/3\n"
     ]
    },
    {
     "name": "stderr",
     "output_type": "stream",
     "text": [
      "\n",
      " 29%|██████████████████████▌                                                       | 125/431 [49:51<1:24:41, 16.60s/it]"
     ]
    },
    {
     "name": "stdout",
     "output_type": "stream",
     "text": [
      "imagenet-resnet_v1_101-classification failed. Link is https://tfhub.dev/google/imagenet/resnet_v1_101/classification/1\n"
     ]
    },
    {
     "name": "stderr",
     "output_type": "stream",
     "text": [
      "\n",
      " 29%|██████████████████████▊                                                       | 126/431 [50:40<2:13:18, 26.22s/it]"
     ]
    },
    {
     "name": "stdout",
     "output_type": "stream",
     "text": [
      "imagenet-resnet_v1_101-classification failed. Link is https://tfhub.dev/google/imagenet/resnet_v1_101/classification/3\n"
     ]
    },
    {
     "name": "stderr",
     "output_type": "stream",
     "text": [
      "\n",
      " 29%|██████████████████████▉                                                       | 127/431 [51:25<2:41:27, 31.87s/it]"
     ]
    },
    {
     "name": "stdout",
     "output_type": "stream",
     "text": [
      "imagenet-mobilenet_v1_050_160-feature_vector failed. Link is https://tfhub.dev/google/imagenet/mobilenet_v1_050_160/feature_vector/1\n"
     ]
    },
    {
     "name": "stderr",
     "output_type": "stream",
     "text": [
      "\n",
      " 30%|███████████████████████▏                                                      | 128/431 [51:27<1:55:57, 22.96s/it]"
     ]
    },
    {
     "name": "stdout",
     "output_type": "stream",
     "text": [
      "imagenet-mobilenet_v1_050_160-feature_vector failed. Link is https://tfhub.dev/google/imagenet/mobilenet_v1_050_160/feature_vector/3\n"
     ]
    },
    {
     "name": "stderr",
     "output_type": "stream",
     "text": [
      "\n",
      " 30%|███████████████████████▎                                                      | 129/431 [51:29<1:24:01, 16.69s/it]"
     ]
    },
    {
     "name": "stdout",
     "output_type": "stream",
     "text": [
      "compare_gan-model_14_cifar10_resnet_cifar failed. Link is https://tfhub.dev/google/compare_gan/model_14_cifar10_resnet_cifar/1\n"
     ]
    },
    {
     "name": "stderr",
     "output_type": "stream",
     "text": [
      "\n",
      " 30%|███████████████████████▌                                                      | 130/431 [51:53<1:33:40, 18.67s/it]"
     ]
    },
    {
     "name": "stdout",
     "output_type": "stream",
     "text": [
      "imagenet-mobilenet_v1_050_160-quantops-feature_vector failed. Link is https://tfhub.dev/google/imagenet/mobilenet_v1_050_160/quantops/feature_vector/1\n"
     ]
    },
    {
     "name": "stderr",
     "output_type": "stream",
     "text": [
      "\n",
      " 30%|███████████████████████▋                                                      | 131/431 [51:54<1:07:50, 13.57s/it]"
     ]
    },
    {
     "name": "stdout",
     "output_type": "stream",
     "text": [
      "imagenet-mobilenet_v1_050_160-quantops-feature_vector failed. Link is https://tfhub.dev/google/imagenet/mobilenet_v1_050_160/quantops/feature_vector/3\n"
     ]
    },
    {
     "name": "stderr",
     "output_type": "stream",
     "text": [
      "\n",
      " 31%|████████████████████████▌                                                       | 132/431 [51:56<50:02, 10.04s/it]"
     ]
    },
    {
     "name": "stdout",
     "output_type": "stream",
     "text": [
      "imagenet-mobilenet_v2_100_128-classification failed. Link is https://tfhub.dev/google/imagenet/mobilenet_v2_100_128/classification/1\n"
     ]
    },
    {
     "name": "stderr",
     "output_type": "stream",
     "text": [
      "\n",
      " 31%|████████████████████████▋                                                       | 133/431 [52:01<41:37,  8.38s/it]"
     ]
    },
    {
     "name": "stdout",
     "output_type": "stream",
     "text": [
      "imagenet-mobilenet_v2_100_128-classification failed. Link is https://tfhub.dev/google/imagenet/mobilenet_v2_100_128/classification/2\n"
     ]
    },
    {
     "name": "stderr",
     "output_type": "stream",
     "text": [
      "\n",
      " 31%|████████████████████████▊                                                       | 134/431 [52:05<35:46,  7.23s/it]"
     ]
    },
    {
     "name": "stdout",
     "output_type": "stream",
     "text": [
      "imagenet-mobilenet_v2_100_128-classification failed. Link is https://tfhub.dev/google/imagenet/mobilenet_v2_100_128/classification/3\n"
     ]
    },
    {
     "name": "stderr",
     "output_type": "stream",
     "text": [
      "\n",
      " 31%|█████████████████████████                                                       | 135/431 [52:10<31:50,  6.46s/it]"
     ]
    },
    {
     "name": "stdout",
     "output_type": "stream",
     "text": [
      "imagenet-mobilenet_v2_075_160-classification failed. Link is https://tfhub.dev/google/imagenet/mobilenet_v2_075_160/classification/1\n"
     ]
    },
    {
     "name": "stderr",
     "output_type": "stream",
     "text": [
      "\n",
      " 32%|█████████████████████████▏                                                      | 136/431 [52:15<30:29,  6.20s/it]"
     ]
    },
    {
     "name": "stdout",
     "output_type": "stream",
     "text": [
      "imagenet-mobilenet_v2_075_160-classification failed. Link is https://tfhub.dev/google/imagenet/mobilenet_v2_075_160/classification/2\n"
     ]
    },
    {
     "name": "stderr",
     "output_type": "stream",
     "text": [
      "\n",
      " 32%|█████████████████████████▍                                                      | 137/431 [52:20<27:37,  5.64s/it]"
     ]
    },
    {
     "name": "stdout",
     "output_type": "stream",
     "text": [
      "imagenet-mobilenet_v2_075_160-classification failed. Link is https://tfhub.dev/google/imagenet/mobilenet_v2_075_160/classification/3\n"
     ]
    },
    {
     "name": "stderr",
     "output_type": "stream",
     "text": [
      "\n",
      " 32%|█████████████████████████▌                                                      | 138/431 [52:24<25:48,  5.29s/it]"
     ]
    },
    {
     "name": "stdout",
     "output_type": "stream",
     "text": [
      "imagenet-resnet_v2_152-classification failed. Link is https://tfhub.dev/google/imagenet/resnet_v2_152/classification/1\n"
     ]
    },
    {
     "name": "stderr",
     "output_type": "stream",
     "text": [
      "\n",
      " 32%|█████████████████████████▏                                                    | 139/431 [53:26<1:47:35, 22.11s/it]"
     ]
    },
    {
     "name": "stdout",
     "output_type": "stream",
     "text": [
      "imagenet-resnet_v2_152-classification failed. Link is https://tfhub.dev/google/imagenet/resnet_v2_152/classification/3\n"
     ]
    },
    {
     "name": "stderr",
     "output_type": "stream",
     "text": [
      "\n",
      " 32%|█████████████████████████▎                                                    | 140/431 [54:29<2:46:42, 34.37s/it]"
     ]
    },
    {
     "name": "stdout",
     "output_type": "stream",
     "text": [
      "nnlm-es-dim128 failed. Link is https://tfhub.dev/google/nnlm-es-dim128/1\n"
     ]
    },
    {
     "name": "stderr",
     "output_type": "stream",
     "text": [
      "\n",
      " 33%|█████████████████████████▌                                                    | 141/431 [56:47<5:17:17, 65.65s/it]"
     ]
    },
    {
     "name": "stdout",
     "output_type": "stream",
     "text": [
      "universal-sentence-encoder-lite failed. Link is https://tfhub.dev/google/universal-sentence-encoder-lite/1\n"
     ]
    },
    {
     "name": "stderr",
     "output_type": "stream",
     "text": [
      "\n",
      " 33%|█████████████████████████▋                                                    | 142/431 [56:56<3:53:57, 48.57s/it]"
     ]
    },
    {
     "name": "stdout",
     "output_type": "stream",
     "text": [
      "universal-sentence-encoder-lite failed. Link is https://tfhub.dev/google/universal-sentence-encoder-lite/2\n"
     ]
    },
    {
     "name": "stderr",
     "output_type": "stream",
     "text": [
      "\n",
      " 33%|█████████████████████████▉                                                    | 143/431 [57:05<2:56:23, 36.75s/it]"
     ]
    },
    {
     "name": "stdout",
     "output_type": "stream",
     "text": [
      "compare_gan-model_7_lsun_bedroom_resnet19 failed. Link is https://tfhub.dev/google/compare_gan/model_7_lsun_bedroom_resnet19/1\n"
     ]
    },
    {
     "name": "stderr",
     "output_type": "stream",
     "text": [
      "\n",
      " 33%|██████████████████████████                                                    | 144/431 [58:32<4:07:37, 51.77s/it]"
     ]
    },
    {
     "name": "stdout",
     "output_type": "stream",
     "text": [
      "imagenet-mobilenet_v1_075_128-quantops-feature_vector failed. Link is https://tfhub.dev/google/imagenet/mobilenet_v1_075_128/quantops/feature_vector/1\n"
     ]
    },
    {
     "name": "stderr",
     "output_type": "stream",
     "text": [
      "\n",
      " 34%|██████████████████████████▏                                                   | 145/431 [58:35<2:56:34, 37.04s/it]"
     ]
    },
    {
     "name": "stdout",
     "output_type": "stream",
     "text": [
      "imagenet-mobilenet_v1_075_128-quantops-feature_vector failed. Link is https://tfhub.dev/google/imagenet/mobilenet_v1_075_128/quantops/feature_vector/3\n"
     ]
    },
    {
     "name": "stderr",
     "output_type": "stream",
     "text": [
      "\n",
      " 34%|██████████████████████████▍                                                   | 146/431 [58:39<2:08:45, 27.11s/it]"
     ]
    },
    {
     "name": "stdout",
     "output_type": "stream",
     "text": [
      "imagenet-pnasnet_large-feature_vector failed. Link is https://tfhub.dev/google/imagenet/pnasnet_large/feature_vector/1\n"
     ]
    },
    {
     "name": "stderr",
     "output_type": "stream",
     "text": [
      "\n",
      " 34%|█████████████████████████▉                                                  | 147/431 [1:00:09<3:37:59, 46.05s/it]"
     ]
    },
    {
     "name": "stdout",
     "output_type": "stream",
     "text": [
      "imagenet-pnasnet_large-feature_vector failed. Link is https://tfhub.dev/google/imagenet/pnasnet_large/feature_vector/2\n"
     ]
    },
    {
     "name": "stderr",
     "output_type": "stream",
     "text": [
      "\n",
      " 34%|██████████████████████████                                                  | 148/431 [1:01:34<4:32:28, 57.77s/it]"
     ]
    },
    {
     "name": "stdout",
     "output_type": "stream",
     "text": [
      "imagenet-pnasnet_large-feature_vector failed. Link is https://tfhub.dev/google/imagenet/pnasnet_large/feature_vector/3\n"
     ]
    },
    {
     "name": "stderr",
     "output_type": "stream",
     "text": [
      "\n",
      " 35%|██████████████████████████▎                                                 | 149/431 [1:02:57<5:07:46, 65.48s/it]"
     ]
    },
    {
     "name": "stdout",
     "output_type": "stream",
     "text": [
      "nnlm-id-dim128 failed. Link is https://tfhub.dev/google/nnlm-id-dim128/1\n"
     ]
    },
    {
     "name": "stderr",
     "output_type": "stream",
     "text": [
      "\n",
      " 35%|██████████████████████████▍                                                 | 150/431 [1:04:48<6:10:15, 79.06s/it]"
     ]
    },
    {
     "name": "stdout",
     "output_type": "stream",
     "text": [
      "compare_gan-model_13_cifar10_resnet_cifar failed. Link is https://tfhub.dev/google/compare_gan/model_13_cifar10_resnet_cifar/1\n"
     ]
    },
    {
     "name": "stderr",
     "output_type": "stream",
     "text": [
      "\n",
      " 35%|██████████████████████████▋                                                 | 151/431 [1:05:12<4:51:52, 62.54s/it]"
     ]
    },
    {
     "name": "stdout",
     "output_type": "stream",
     "text": [
      "imagenet-mobilenet_v1_025_128-quantops-feature_vector failed. Link is https://tfhub.dev/google/imagenet/mobilenet_v1_025_128/quantops/feature_vector/1\n"
     ]
    },
    {
     "name": "stderr",
     "output_type": "stream",
     "text": [
      "\n",
      " 35%|██████████████████████████▊                                                 | 152/431 [1:05:13<3:25:20, 44.16s/it]"
     ]
    },
    {
     "name": "stdout",
     "output_type": "stream",
     "text": [
      "imagenet-mobilenet_v1_025_128-quantops-feature_vector failed. Link is https://tfhub.dev/google/imagenet/mobilenet_v1_025_128/quantops/feature_vector/3\n"
     ]
    },
    {
     "name": "stderr",
     "output_type": "stream",
     "text": [
      "\n",
      " 35%|██████████████████████████▉                                                 | 153/431 [1:05:15<2:24:52, 31.27s/it]"
     ]
    },
    {
     "name": "stdout",
     "output_type": "stream",
     "text": [
      "imagenet-mobilenet_v1_075_224-classification failed. Link is https://tfhub.dev/google/imagenet/mobilenet_v1_075_224/classification/1\n"
     ]
    },
    {
     "name": "stderr",
     "output_type": "stream",
     "text": [
      "\n",
      " 36%|███████████████████████████▏                                                | 154/431 [1:05:18<1:46:26, 23.06s/it]"
     ]
    },
    {
     "name": "stdout",
     "output_type": "stream",
     "text": [
      "imagenet-mobilenet_v1_075_224-classification failed. Link is https://tfhub.dev/google/imagenet/mobilenet_v1_075_224/classification/3\n"
     ]
    },
    {
     "name": "stderr",
     "output_type": "stream",
     "text": [
      "\n",
      " 36%|███████████████████████████▎                                                | 155/431 [1:06:20<2:39:34, 34.69s/it]"
     ]
    },
    {
     "name": "stdout",
     "output_type": "stream",
     "text": [
      "faster_rcnn-openimages_v4-inception_resnet_v2 failed. Link is https://tfhub.dev/google/faster_rcnn/openimages_v4/inception_resnet_v2/1\n"
     ]
    },
    {
     "name": "stderr",
     "output_type": "stream",
     "text": [
      "\n",
      " 36%|███████████████████████████▌                                                | 156/431 [1:07:35<3:34:06, 46.72s/it]"
     ]
    },
    {
     "name": "stdout",
     "output_type": "stream",
     "text": [
      "imagenet-inception_v3-feature_vector failed. Link is https://tfhub.dev/google/imagenet/inception_v3/feature_vector/1\n"
     ]
    },
    {
     "name": "stderr",
     "output_type": "stream",
     "text": [
      "\n",
      " 36%|███████████████████████████▋                                                | 157/431 [1:07:58<3:01:17, 39.70s/it]"
     ]
    },
    {
     "name": "stdout",
     "output_type": "stream",
     "text": [
      "imagenet-inception_v3-feature_vector failed. Link is https://tfhub.dev/google/imagenet/inception_v3/feature_vector/3\n"
     ]
    },
    {
     "name": "stderr",
     "output_type": "stream",
     "text": [
      "\n",
      " 37%|███████████████████████████▊                                                | 158/431 [1:08:23<2:39:31, 35.06s/it]"
     ]
    },
    {
     "name": "stdout",
     "output_type": "stream",
     "text": [
      "imagenet-resnet_v2_50-feature_vector failed. Link is https://tfhub.dev/google/imagenet/resnet_v2_50/feature_vector/1\n"
     ]
    },
    {
     "name": "stderr",
     "output_type": "stream",
     "text": [
      "\n",
      " 37%|████████████████████████████                                                | 159/431 [1:08:47<2:24:49, 31.95s/it]"
     ]
    },
    {
     "name": "stdout",
     "output_type": "stream",
     "text": [
      "imagenet-resnet_v2_50-feature_vector failed. Link is https://tfhub.dev/google/imagenet/resnet_v2_50/feature_vector/3\n"
     ]
    },
    {
     "name": "stderr",
     "output_type": "stream",
     "text": [
      "\n",
      " 37%|████████████████████████████▏                                               | 160/431 [1:09:12<2:14:00, 29.67s/it]"
     ]
    },
    {
     "name": "stdout",
     "output_type": "stream",
     "text": [
      "imagenet-mobilenet_v2_035_224-classification failed. Link is https://tfhub.dev/google/imagenet/mobilenet_v2_035_224/classification/1\n"
     ]
    },
    {
     "name": "stderr",
     "output_type": "stream",
     "text": [
      "\n",
      " 37%|████████████████████████████▍                                               | 161/431 [1:09:15<1:37:46, 21.73s/it]"
     ]
    },
    {
     "name": "stdout",
     "output_type": "stream",
     "text": [
      "imagenet-mobilenet_v2_035_224-classification failed. Link is https://tfhub.dev/google/imagenet/mobilenet_v2_035_224/classification/2\n"
     ]
    },
    {
     "name": "stderr",
     "output_type": "stream",
     "text": [
      "\n",
      " 38%|████████████████████████████▌                                               | 162/431 [1:09:18<1:12:03, 16.07s/it]"
     ]
    },
    {
     "name": "stdout",
     "output_type": "stream",
     "text": [
      "imagenet-mobilenet_v2_035_224-classification failed. Link is https://tfhub.dev/google/imagenet/mobilenet_v2_035_224/classification/3\n"
     ]
    },
    {
     "name": "stderr",
     "output_type": "stream",
     "text": [
      "\n",
      " 38%|█████████████████████████████▍                                                | 163/431 [1:09:21<54:24, 12.18s/it]"
     ]
    },
    {
     "name": "stdout",
     "output_type": "stream",
     "text": [
      "imagenet-mobilenet_v1_025_160-quantops-feature_vector failed. Link is https://tfhub.dev/google/imagenet/mobilenet_v1_025_160/quantops/feature_vector/1\n"
     ]
    },
    {
     "name": "stderr",
     "output_type": "stream",
     "text": [
      "\n",
      " 38%|█████████████████████████████▋                                                | 164/431 [1:09:22<39:47,  8.94s/it]"
     ]
    },
    {
     "name": "stdout",
     "output_type": "stream",
     "text": [
      "imagenet-mobilenet_v1_025_160-quantops-feature_vector failed. Link is https://tfhub.dev/google/imagenet/mobilenet_v1_025_160/quantops/feature_vector/3\n"
     ]
    },
    {
     "name": "stderr",
     "output_type": "stream",
     "text": [
      "\n",
      " 38%|█████████████████████████████▊                                                | 165/431 [1:09:23<29:16,  6.61s/it]"
     ]
    },
    {
     "name": "stdout",
     "output_type": "stream",
     "text": [
      "nnlm-es-dim50 failed. Link is https://tfhub.dev/google/nnlm-es-dim50/1\n"
     ]
    },
    {
     "name": "stderr",
     "output_type": "stream",
     "text": [
      "\n",
      " 39%|█████████████████████████████▎                                              | 166/431 [1:10:09<1:21:23, 18.43s/it]"
     ]
    },
    {
     "name": "stdout",
     "output_type": "stream",
     "text": [
      "imagenet-mobilenet_v2_075_128-feature_vector failed. Link is https://tfhub.dev/google/imagenet/mobilenet_v2_075_128/feature_vector/1\n"
     ]
    },
    {
     "name": "stderr",
     "output_type": "stream",
     "text": [
      "\n",
      " 39%|█████████████████████████████▍                                              | 167/431 [1:10:12<1:00:15, 13.69s/it]"
     ]
    },
    {
     "name": "stdout",
     "output_type": "stream",
     "text": [
      "imagenet-mobilenet_v2_075_128-feature_vector failed. Link is https://tfhub.dev/google/imagenet/mobilenet_v2_075_128/feature_vector/2\n"
     ]
    },
    {
     "name": "stderr",
     "output_type": "stream",
     "text": [
      "\n",
      " 39%|██████████████████████████████▍                                               | 168/431 [1:10:15<45:18, 10.34s/it]"
     ]
    },
    {
     "name": "stdout",
     "output_type": "stream",
     "text": [
      "imagenet-mobilenet_v2_075_128-feature_vector failed. Link is https://tfhub.dev/google/imagenet/mobilenet_v2_075_128/feature_vector/3\n"
     ]
    },
    {
     "name": "stderr",
     "output_type": "stream",
     "text": [
      "\n",
      " 39%|██████████████████████████████▌                                               | 169/431 [1:10:18<35:44,  8.18s/it]"
     ]
    },
    {
     "name": "stdout",
     "output_type": "stream",
     "text": [
      "progan-128 failed. Link is https://tfhub.dev/google/progan-128/1\n"
     ]
    },
    {
     "name": "stderr",
     "output_type": "stream",
     "text": [
      "\n",
      " 39%|██████████████████████████████▊                                               | 170/431 [1:10:40<53:25, 12.28s/it]"
     ]
    },
    {
     "name": "stdout",
     "output_type": "stream",
     "text": [
      "imagenet-mobilenet_v2_075_192-feature_vector failed. Link is https://tfhub.dev/google/imagenet/mobilenet_v2_075_192/feature_vector/1\n"
     ]
    },
    {
     "name": "stderr",
     "output_type": "stream",
     "text": [
      "\n",
      " 40%|██████████████████████████████▉                                               | 171/431 [1:10:43<41:28,  9.57s/it]"
     ]
    },
    {
     "name": "stdout",
     "output_type": "stream",
     "text": [
      "imagenet-mobilenet_v2_075_192-feature_vector failed. Link is https://tfhub.dev/google/imagenet/mobilenet_v2_075_192/feature_vector/2\n"
     ]
    },
    {
     "name": "stderr",
     "output_type": "stream",
     "text": [
      "\n",
      " 40%|███████████████████████████████▏                                              | 172/431 [1:10:45<32:19,  7.49s/it]"
     ]
    },
    {
     "name": "stdout",
     "output_type": "stream",
     "text": [
      "imagenet-mobilenet_v2_075_192-feature_vector failed. Link is https://tfhub.dev/google/imagenet/mobilenet_v2_075_192/feature_vector/3\n"
     ]
    },
    {
     "name": "stderr",
     "output_type": "stream",
     "text": [
      "\n",
      " 40%|███████████████████████████████▎                                              | 173/431 [1:10:48<25:30,  5.93s/it]"
     ]
    },
    {
     "name": "stdout",
     "output_type": "stream",
     "text": [
      "imagenet-mobilenet_v2_050_224-feature_vector failed. Link is https://tfhub.dev/google/imagenet/mobilenet_v2_050_224/feature_vector/1\n"
     ]
    },
    {
     "name": "stderr",
     "output_type": "stream",
     "text": [
      "\n",
      " 40%|███████████████████████████████▍                                              | 174/431 [1:10:51<21:21,  4.99s/it]"
     ]
    },
    {
     "name": "stdout",
     "output_type": "stream",
     "text": [
      "imagenet-mobilenet_v2_050_224-feature_vector failed. Link is https://tfhub.dev/google/imagenet/mobilenet_v2_050_224/feature_vector/2\n"
     ]
    },
    {
     "name": "stderr",
     "output_type": "stream",
     "text": [
      "\n",
      " 41%|███████████████████████████████▋                                              | 175/431 [1:10:52<17:18,  4.06s/it]"
     ]
    },
    {
     "name": "stdout",
     "output_type": "stream",
     "text": [
      "imagenet-mobilenet_v2_050_224-feature_vector failed. Link is https://tfhub.dev/google/imagenet/mobilenet_v2_050_224/feature_vector/3\n"
     ]
    },
    {
     "name": "stderr",
     "output_type": "stream",
     "text": [
      "\n",
      " 41%|███████████████████████████████▊                                              | 176/431 [1:10:54<14:39,  3.45s/it]"
     ]
    },
    {
     "name": "stdout",
     "output_type": "stream",
     "text": [
      "compare_gan-model_6_celebahq128_resnet19 failed. Link is https://tfhub.dev/google/compare_gan/model_6_celebahq128_resnet19/1\n"
     ]
    },
    {
     "name": "stderr",
     "output_type": "stream",
     "text": [
      "\n",
      " 41%|███████████████████████████████▏                                            | 177/431 [1:12:12<1:48:28, 25.62s/it]"
     ]
    },
    {
     "name": "stdout",
     "output_type": "stream",
     "text": [
      "imagenet-mobilenet_v1_100_128-quantops-classification failed. Link is https://tfhub.dev/google/imagenet/mobilenet_v1_100_128/quantops/classification/1\n"
     ]
    },
    {
     "name": "stderr",
     "output_type": "stream",
     "text": [
      "\n",
      " 41%|███████████████████████████████▍                                            | 178/431 [1:12:16<1:21:08, 19.24s/it]"
     ]
    },
    {
     "name": "stdout",
     "output_type": "stream",
     "text": [
      "imagenet-mobilenet_v1_100_128-quantops-classification failed. Link is https://tfhub.dev/google/imagenet/mobilenet_v1_100_128/quantops/classification/3\n"
     ]
    },
    {
     "name": "stderr",
     "output_type": "stream",
     "text": [
      "\n",
      " 42%|███████████████████████████████▌                                            | 179/431 [1:12:21<1:02:33, 14.90s/it]"
     ]
    },
    {
     "name": "stdout",
     "output_type": "stream",
     "text": [
      "imagenet-mobilenet_v1_075_160-feature_vector failed. Link is https://tfhub.dev/google/imagenet/mobilenet_v1_075_160/feature_vector/1\n"
     ]
    },
    {
     "name": "stderr",
     "output_type": "stream",
     "text": [
      "\n",
      " 42%|████████████████████████████████▌                                             | 180/431 [1:12:24<46:55, 11.22s/it]"
     ]
    },
    {
     "name": "stdout",
     "output_type": "stream",
     "text": [
      "imagenet-mobilenet_v1_075_160-feature_vector failed. Link is https://tfhub.dev/google/imagenet/mobilenet_v1_075_160/feature_vector/3\n"
     ]
    },
    {
     "name": "stderr",
     "output_type": "stream",
     "text": [
      "\n",
      " 42%|████████████████████████████████▊                                             | 181/431 [1:12:26<36:07,  8.67s/it]"
     ]
    },
    {
     "name": "stdout",
     "output_type": "stream",
     "text": [
      "nnlm-ko-dim128-with-normalization failed. Link is https://tfhub.dev/google/nnlm-ko-dim128-with-normalization/1\n"
     ]
    },
    {
     "name": "stderr",
     "output_type": "stream",
     "text": [
      "\n",
      " 42%|████████████████████████████████                                            | 182/431 [1:14:12<2:36:33, 37.73s/it]"
     ]
    },
    {
     "name": "stdout",
     "output_type": "stream",
     "text": [
      "imagenet-mobilenet_v2_050_128-classification failed. Link is https://tfhub.dev/google/imagenet/mobilenet_v2_050_128/classification/1\n"
     ]
    },
    {
     "name": "stderr",
     "output_type": "stream",
     "text": [
      "\n",
      " 42%|████████████████████████████████▎                                           | 183/431 [1:14:15<1:53:25, 27.44s/it]"
     ]
    },
    {
     "name": "stdout",
     "output_type": "stream",
     "text": [
      "imagenet-mobilenet_v2_050_128-classification failed. Link is https://tfhub.dev/google/imagenet/mobilenet_v2_050_128/classification/2\n"
     ]
    },
    {
     "name": "stderr",
     "output_type": "stream",
     "text": [
      "\n",
      " 43%|████████████████████████████████▍                                           | 184/431 [1:14:18<1:23:00, 20.16s/it]"
     ]
    },
    {
     "name": "stdout",
     "output_type": "stream",
     "text": [
      "imagenet-mobilenet_v2_050_128-classification failed. Link is https://tfhub.dev/google/imagenet/mobilenet_v2_050_128/classification/3\n"
     ]
    },
    {
     "name": "stderr",
     "output_type": "stream",
     "text": [
      "\n",
      " 43%|████████████████████████████████▌                                           | 185/431 [1:14:22<1:01:45, 15.06s/it]"
     ]
    },
    {
     "name": "stdout",
     "output_type": "stream",
     "text": [
      "random-nnlm-en-dim50 failed. Link is https://tfhub.dev/google/random-nnlm-en-dim50/1\n"
     ]
    },
    {
     "name": "stderr",
     "output_type": "stream",
     "text": [
      "\n",
      " 43%|████████████████████████████████▊                                           | 186/431 [1:15:06<1:37:48, 23.95s/it]"
     ]
    },
    {
     "name": "stdout",
     "output_type": "stream",
     "text": [
      "imagenet-mobilenet_v2_035_96-classification failed. Link is https://tfhub.dev/google/imagenet/mobilenet_v2_035_96/classification/1\n"
     ]
    },
    {
     "name": "stderr",
     "output_type": "stream",
     "text": [
      "\n",
      " 43%|████████████████████████████████▉                                           | 187/431 [1:15:09<1:11:56, 17.69s/it]"
     ]
    },
    {
     "name": "stdout",
     "output_type": "stream",
     "text": [
      "imagenet-mobilenet_v2_035_96-classification failed. Link is https://tfhub.dev/google/imagenet/mobilenet_v2_035_96/classification/2\n"
     ]
    },
    {
     "name": "stderr",
     "output_type": "stream",
     "text": [
      "\n",
      " 44%|██████████████████████████████████                                            | 188/431 [1:15:12<53:42, 13.26s/it]"
     ]
    },
    {
     "name": "stdout",
     "output_type": "stream",
     "text": [
      "imagenet-mobilenet_v2_035_96-classification failed. Link is https://tfhub.dev/google/imagenet/mobilenet_v2_035_96/classification/3\n"
     ]
    },
    {
     "name": "stderr",
     "output_type": "stream",
     "text": [
      "\n",
      " 44%|██████████████████████████████████▏                                           | 189/431 [1:15:15<40:53, 10.14s/it]"
     ]
    },
    {
     "name": "stdout",
     "output_type": "stream",
     "text": [
      "imagenet-mobilenet_v2_035_160-feature_vector failed. Link is https://tfhub.dev/google/imagenet/mobilenet_v2_035_160/feature_vector/1\n"
     ]
    },
    {
     "name": "stderr",
     "output_type": "stream",
     "text": [
      "\n",
      " 44%|██████████████████████████████████▍                                           | 190/431 [1:15:17<31:05,  7.74s/it]"
     ]
    },
    {
     "name": "stdout",
     "output_type": "stream",
     "text": [
      "imagenet-mobilenet_v2_035_160-feature_vector failed. Link is https://tfhub.dev/google/imagenet/mobilenet_v2_035_160/feature_vector/2\n"
     ]
    },
    {
     "name": "stderr",
     "output_type": "stream",
     "text": [
      "\n",
      " 44%|██████████████████████████████████▌                                           | 191/431 [1:15:19<23:51,  5.96s/it]"
     ]
    },
    {
     "name": "stdout",
     "output_type": "stream",
     "text": [
      "imagenet-mobilenet_v2_035_160-feature_vector failed. Link is https://tfhub.dev/google/imagenet/mobilenet_v2_035_160/feature_vector/3\n"
     ]
    },
    {
     "name": "stderr",
     "output_type": "stream",
     "text": [
      "\n",
      " 45%|██████████████████████████████████▋                                           | 192/431 [1:15:21<18:45,  4.71s/it]"
     ]
    },
    {
     "name": "stdout",
     "output_type": "stream",
     "text": [
      "imagenet-mobilenet_v1_050_224-quantops-classification failed. Link is https://tfhub.dev/google/imagenet/mobilenet_v1_050_224/quantops/classification/1\n"
     ]
    },
    {
     "name": "stderr",
     "output_type": "stream",
     "text": [
      "\n",
      " 45%|██████████████████████████████████▉                                           | 193/431 [1:15:23<15:52,  4.00s/it]"
     ]
    },
    {
     "name": "stdout",
     "output_type": "stream",
     "text": [
      "imagenet-mobilenet_v1_050_224-quantops-classification failed. Link is https://tfhub.dev/google/imagenet/mobilenet_v1_050_224/quantops/classification/3\n"
     ]
    },
    {
     "name": "stderr",
     "output_type": "stream",
     "text": [
      "\n",
      " 45%|███████████████████████████████████                                           | 194/431 [1:15:25<13:15,  3.36s/it]"
     ]
    },
    {
     "name": "stdout",
     "output_type": "stream",
     "text": [
      "image_augmentation-crop_rotate_color failed. Link is https://tfhub.dev/google/image_augmentation/crop_rotate_color/1\n"
     ]
    },
    {
     "name": "stderr",
     "output_type": "stream",
     "text": [
      "\n",
      " 45%|███████████████████████████████████▎                                          | 195/431 [1:15:26<10:06,  2.57s/it]"
     ]
    },
    {
     "name": "stdout",
     "output_type": "stream",
     "text": [
      "nnlm-de-dim128 failed. Link is https://tfhub.dev/google/nnlm-de-dim128/1\n"
     ]
    },
    {
     "name": "stderr",
     "output_type": "stream",
     "text": [
      "\n",
      " 45%|██████████████████████████████████▌                                         | 196/431 [1:17:20<2:21:35, 36.15s/it]"
     ]
    },
    {
     "name": "stdout",
     "output_type": "stream",
     "text": [
      "imagenet-mobilenet_v1_100_160-quantops-classification failed. Link is https://tfhub.dev/google/imagenet/mobilenet_v1_100_160/quantops/classification/1\n"
     ]
    },
    {
     "name": "stderr",
     "output_type": "stream",
     "text": [
      "\n",
      " 46%|██████████████████████████████████▋                                         | 197/431 [1:17:25<1:44:12, 26.72s/it]"
     ]
    },
    {
     "name": "stdout",
     "output_type": "stream",
     "text": [
      "imagenet-mobilenet_v1_100_160-quantops-classification failed. Link is https://tfhub.dev/google/imagenet/mobilenet_v1_100_160/quantops/classification/3\n"
     ]
    },
    {
     "name": "stderr",
     "output_type": "stream",
     "text": [
      "\n",
      " 46%|██████████████████████████████████▉                                         | 198/431 [1:17:29<1:17:48, 20.04s/it]"
     ]
    },
    {
     "name": "stdout",
     "output_type": "stream",
     "text": [
      "nnlm-ja-dim128 failed. Link is https://tfhub.dev/google/nnlm-ja-dim128/1\n"
     ]
    },
    {
     "name": "stderr",
     "output_type": "stream",
     "text": [
      "\n",
      " 46%|███████████████████████████████████                                         | 199/431 [1:19:25<3:07:58, 48.62s/it]"
     ]
    },
    {
     "name": "stdout",
     "output_type": "stream",
     "text": [
      "nnlm-en-dim50-with-normalization failed. Link is https://tfhub.dev/google/nnlm-en-dim50-with-normalization/1\n"
     ]
    },
    {
     "name": "stderr",
     "output_type": "stream",
     "text": [
      "\n",
      " 46%|███████████████████████████████████▎                                        | 200/431 [1:20:13<3:06:28, 48.43s/it]"
     ]
    },
    {
     "name": "stdout",
     "output_type": "stream",
     "text": [
      "compare_gan-model_15_cifar10_resnet_cifar failed. Link is https://tfhub.dev/google/compare_gan/model_15_cifar10_resnet_cifar/1\n"
     ]
    },
    {
     "name": "stderr",
     "output_type": "stream",
     "text": [
      "\n",
      " 47%|███████████████████████████████████▍                                        | 201/431 [1:20:36<2:36:32, 40.83s/it]"
     ]
    },
    {
     "name": "stdout",
     "output_type": "stream",
     "text": [
      "imagenet-mobilenet_v1_025_160-feature_vector failed. Link is https://tfhub.dev/google/imagenet/mobilenet_v1_025_160/feature_vector/1\n"
     ]
    },
    {
     "name": "stderr",
     "output_type": "stream",
     "text": [
      "\n",
      " 47%|███████████████████████████████████▌                                        | 202/431 [1:20:37<1:50:43, 29.01s/it]"
     ]
    },
    {
     "name": "stdout",
     "output_type": "stream",
     "text": [
      "imagenet-mobilenet_v1_025_160-feature_vector failed. Link is https://tfhub.dev/google/imagenet/mobilenet_v1_025_160/feature_vector/3\n"
     ]
    },
    {
     "name": "stderr",
     "output_type": "stream",
     "text": [
      "\n",
      " 47%|███████████████████████████████████▊                                        | 203/431 [1:20:38<1:18:30, 20.66s/it]"
     ]
    },
    {
     "name": "stdout",
     "output_type": "stream",
     "text": [
      "inaturalist-inception_v3-feature_vector failed. Link is https://tfhub.dev/google/inaturalist/inception_v3/feature_vector/1\n"
     ]
    },
    {
     "name": "stderr",
     "output_type": "stream",
     "text": [
      "\n",
      " 47%|███████████████████████████████████▉                                        | 204/431 [1:21:02<1:21:02, 21.42s/it]"
     ]
    },
    {
     "name": "stdout",
     "output_type": "stream",
     "text": [
      "inaturalist-inception_v3-feature_vector failed. Link is https://tfhub.dev/google/inaturalist/inception_v3/feature_vector/3\n"
     ]
    },
    {
     "name": "stderr",
     "output_type": "stream",
     "text": [
      "\n",
      " 48%|████████████████████████████████████▏                                       | 205/431 [1:21:25<1:22:44, 21.97s/it]"
     ]
    },
    {
     "name": "stdout",
     "output_type": "stream",
     "text": [
      "image_augmentation-nas_svhn failed. Link is https://tfhub.dev/google/image_augmentation/nas_svhn/1\n"
     ]
    },
    {
     "name": "stderr",
     "output_type": "stream",
     "text": [
      "\n",
      " 48%|████████████████████████████████████▎                                       | 206/431 [1:21:29<1:02:06, 16.56s/it]"
     ]
    },
    {
     "name": "stdout",
     "output_type": "stream",
     "text": [
      "imagenet-inception_resnet_v2-feature_vector failed. Link is https://tfhub.dev/google/imagenet/inception_resnet_v2/feature_vector/1\n"
     ]
    },
    {
     "name": "stderr",
     "output_type": "stream",
     "text": [
      "\n",
      " 48%|████████████████████████████████████▌                                       | 207/431 [1:22:29<1:50:08, 29.50s/it]"
     ]
    },
    {
     "name": "stdout",
     "output_type": "stream",
     "text": [
      "imagenet-inception_resnet_v2-feature_vector failed. Link is https://tfhub.dev/google/imagenet/inception_resnet_v2/feature_vector/3\n"
     ]
    },
    {
     "name": "stderr",
     "output_type": "stream",
     "text": [
      "\n",
      " 48%|████████████████████████████████████▋                                       | 208/431 [1:23:24<2:18:30, 37.26s/it]"
     ]
    },
    {
     "name": "stdout",
     "output_type": "stream",
     "text": [
      "imagenet-mobilenet_v1_100_192-quantops-classification failed. Link is https://tfhub.dev/google/imagenet/mobilenet_v1_100_192/quantops/classification/1\n"
     ]
    },
    {
     "name": "stderr",
     "output_type": "stream",
     "text": [
      "\n",
      " 48%|████████████████████████████████████▊                                       | 209/431 [1:23:30<1:43:37, 28.01s/it]"
     ]
    },
    {
     "name": "stdout",
     "output_type": "stream",
     "text": [
      "imagenet-mobilenet_v1_100_192-quantops-classification failed. Link is https://tfhub.dev/google/imagenet/mobilenet_v1_100_192/quantops/classification/3\n"
     ]
    },
    {
     "name": "stderr",
     "output_type": "stream",
     "text": [
      "\n",
      " 49%|█████████████████████████████████████                                       | 210/431 [1:23:36<1:18:28, 21.30s/it]"
     ]
    },
    {
     "name": "stdout",
     "output_type": "stream",
     "text": [
      "imagenet-mobilenet_v1_075_160-quantops-classification failed. Link is https://tfhub.dev/google/imagenet/mobilenet_v1_075_160/quantops/classification/1\n"
     ]
    },
    {
     "name": "stderr",
     "output_type": "stream",
     "text": [
      "\n",
      " 49%|█████████████████████████████████████▏                                      | 211/431 [1:23:41<1:00:11, 16.42s/it]"
     ]
    },
    {
     "name": "stdout",
     "output_type": "stream",
     "text": [
      "imagenet-mobilenet_v1_075_160-quantops-classification failed. Link is https://tfhub.dev/google/imagenet/mobilenet_v1_075_160/quantops/classification/3\n"
     ]
    },
    {
     "name": "stderr",
     "output_type": "stream",
     "text": [
      "\n",
      " 49%|██████████████████████████████████████▎                                       | 212/431 [1:23:45<46:48, 12.82s/it]"
     ]
    },
    {
     "name": "stdout",
     "output_type": "stream",
     "text": [
      "image_augmentation-crop_color failed. Link is https://tfhub.dev/google/image_augmentation/crop_color/1\n"
     ]
    },
    {
     "name": "stderr",
     "output_type": "stream",
     "text": [
      "\n",
      " 49%|██████████████████████████████████████▌                                       | 213/431 [1:23:46<33:33,  9.23s/it]"
     ]
    },
    {
     "name": "stdout",
     "output_type": "stream",
     "text": [
      "imagenet-resnet_v2_101-classification failed. Link is https://tfhub.dev/google/imagenet/resnet_v2_101/classification/1\n"
     ]
    },
    {
     "name": "stderr",
     "output_type": "stream",
     "text": [
      "\n",
      " 50%|█████████████████████████████████████▋                                      | 214/431 [1:24:33<1:14:03, 20.48s/it]"
     ]
    },
    {
     "name": "stdout",
     "output_type": "stream",
     "text": [
      "imagenet-resnet_v2_101-classification failed. Link is https://tfhub.dev/google/imagenet/resnet_v2_101/classification/3\n"
     ]
    },
    {
     "name": "stderr",
     "output_type": "stream",
     "text": [
      "\n",
      " 50%|█████████████████████████████████████▉                                      | 215/431 [1:25:19<1:41:40, 28.24s/it]"
     ]
    },
    {
     "name": "stdout",
     "output_type": "stream",
     "text": [
      "compare_gan-model_10_lsun_bedroom_resnet19 failed. Link is https://tfhub.dev/google/compare_gan/model_10_lsun_bedroom_resnet19/1\n"
     ]
    },
    {
     "name": "stderr",
     "output_type": "stream",
     "text": [
      "\n",
      " 50%|██████████████████████████████████████                                      | 216/431 [1:26:41<2:38:05, 44.12s/it]"
     ]
    },
    {
     "name": "stdout",
     "output_type": "stream",
     "text": [
      "nnlm-ja-dim50-with-normalization failed. Link is https://tfhub.dev/google/nnlm-ja-dim50-with-normalization/1\n"
     ]
    },
    {
     "name": "stderr",
     "output_type": "stream",
     "text": [
      "\n",
      " 50%|██████████████████████████████████████▎                                     | 217/431 [1:27:24<2:36:48, 43.96s/it]"
     ]
    },
    {
     "name": "stdout",
     "output_type": "stream",
     "text": [
      "imagenet-nasnet_mobile-classification failed. Link is https://tfhub.dev/google/imagenet/nasnet_mobile/classification/1\n"
     ]
    },
    {
     "name": "stderr",
     "output_type": "stream",
     "text": [
      "\n",
      " 51%|██████████████████████████████████████▍                                     | 218/431 [1:27:36<2:01:43, 34.29s/it]"
     ]
    },
    {
     "name": "stdout",
     "output_type": "stream",
     "text": [
      "imagenet-nasnet_mobile-classification failed. Link is https://tfhub.dev/google/imagenet/nasnet_mobile/classification/3\n"
     ]
    },
    {
     "name": "stderr",
     "output_type": "stream",
     "text": [
      "\n",
      " 51%|██████████████████████████████████████▌                                     | 219/431 [1:27:47<1:36:23, 27.28s/it]"
     ]
    },
    {
     "name": "stdout",
     "output_type": "stream",
     "text": [
      "imagenet-amoebanet_a_n18_f448-classification failed. Link is https://tfhub.dev/google/imagenet/amoebanet_a_n18_f448/classification/1\n"
     ]
    },
    {
     "name": "stderr",
     "output_type": "stream",
     "text": [
      "\n",
      " 51%|██████████████████████████████████████▎                                    | 220/431 [1:35:18<9:03:11, 154.46s/it]"
     ]
    },
    {
     "name": "stdout",
     "output_type": "stream",
     "text": [
      "nnlm-ko-dim50-with-normalization failed. Link is https://tfhub.dev/google/nnlm-ko-dim50-with-normalization/1\n"
     ]
    },
    {
     "name": "stderr",
     "output_type": "stream",
     "text": [
      "\n",
      " 51%|██████████████████████████████████████▍                                    | 221/431 [1:36:01<7:04:03, 121.16s/it]"
     ]
    },
    {
     "name": "stdout",
     "output_type": "stream",
     "text": [
      "nnlm-en-dim50 failed. Link is https://tfhub.dev/google/nnlm-en-dim50/1\n"
     ]
    },
    {
     "name": "stderr",
     "output_type": "stream",
     "text": [
      "\n",
      " 52%|███████████████████████████████████████▏                                    | 222/431 [1:36:51<5:46:41, 99.53s/it]"
     ]
    },
    {
     "name": "stdout",
     "output_type": "stream",
     "text": [
      "imagenet-mobilenet_v1_100_224-quantops-feature_vector failed. Link is https://tfhub.dev/google/imagenet/mobilenet_v1_100_224/quantops/feature_vector/1\n"
     ]
    },
    {
     "name": "stderr",
     "output_type": "stream",
     "text": [
      "\n",
      " 52%|███████████████████████████████████████▎                                    | 223/431 [1:36:55<4:06:01, 70.97s/it]"
     ]
    },
    {
     "name": "stdout",
     "output_type": "stream",
     "text": [
      "imagenet-mobilenet_v1_100_224-quantops-feature_vector failed. Link is https://tfhub.dev/google/imagenet/mobilenet_v1_100_224/quantops/feature_vector/3\n"
     ]
    },
    {
     "name": "stderr",
     "output_type": "stream",
     "text": [
      "\n",
      " 52%|███████████████████████████████████████▍                                    | 224/431 [1:36:59<2:55:41, 50.92s/it]"
     ]
    },
    {
     "name": "stdout",
     "output_type": "stream",
     "text": [
      "imagenet-mobilenet_v1_025_224-quantops-feature_vector failed. Link is https://tfhub.dev/google/imagenet/mobilenet_v1_025_224/quantops/feature_vector/1\n"
     ]
    },
    {
     "name": "stderr",
     "output_type": "stream",
     "text": [
      "\n",
      " 52%|███████████████████████████████████████▋                                    | 225/431 [1:37:00<2:03:45, 36.05s/it]"
     ]
    },
    {
     "name": "stdout",
     "output_type": "stream",
     "text": [
      "imagenet-mobilenet_v1_025_224-quantops-feature_vector failed. Link is https://tfhub.dev/google/imagenet/mobilenet_v1_025_224/quantops/feature_vector/3\n"
     ]
    },
    {
     "name": "stderr",
     "output_type": "stream",
     "text": [
      "\n",
      " 52%|███████████████████████████████████████▊                                    | 226/431 [1:37:02<1:27:32, 25.62s/it]"
     ]
    },
    {
     "name": "stdout",
     "output_type": "stream",
     "text": [
      "imagenet-mobilenet_v1_050_128-quantops-feature_vector failed. Link is https://tfhub.dev/google/imagenet/mobilenet_v1_050_128/quantops/feature_vector/1\n"
     ]
    },
    {
     "name": "stderr",
     "output_type": "stream",
     "text": [
      "\n",
      " 53%|████████████████████████████████████████                                    | 227/431 [1:37:03<1:02:35, 18.41s/it]"
     ]
    },
    {
     "name": "stdout",
     "output_type": "stream",
     "text": [
      "imagenet-mobilenet_v1_050_128-quantops-feature_vector failed. Link is https://tfhub.dev/google/imagenet/mobilenet_v1_050_128/quantops/feature_vector/3\n"
     ]
    },
    {
     "name": "stderr",
     "output_type": "stream",
     "text": [
      "\n",
      " 53%|█████████████████████████████████████████▎                                    | 228/431 [1:37:05<45:08, 13.34s/it]"
     ]
    },
    {
     "name": "stdout",
     "output_type": "stream",
     "text": [
      "Wiki-words-500 failed. Link is https://tfhub.dev/google/Wiki-words-500/1\n"
     ]
    },
    {
     "name": "stderr",
     "output_type": "stream",
     "text": [
      "\n",
      " 53%|███████████████████████████████████████▊                                   | 229/431 [1:44:37<8:08:32, 145.11s/it]"
     ]
    },
    {
     "name": "stdout",
     "output_type": "stream",
     "text": [
      "imagenet-mobilenet_v1_075_192-quantops-classification failed. Link is https://tfhub.dev/google/imagenet/mobilenet_v1_075_192/quantops/classification/1\n"
     ]
    },
    {
     "name": "stderr",
     "output_type": "stream",
     "text": [
      "\n",
      " 53%|████████████████████████████████████████                                   | 230/431 [1:44:41<5:44:01, 102.70s/it]"
     ]
    },
    {
     "name": "stdout",
     "output_type": "stream",
     "text": [
      "imagenet-mobilenet_v1_075_192-quantops-classification failed. Link is https://tfhub.dev/google/imagenet/mobilenet_v1_075_192/quantops/classification/3\n"
     ]
    },
    {
     "name": "stderr",
     "output_type": "stream",
     "text": [
      "\n",
      " 54%|████████████████████████████████████████▋                                   | 231/431 [1:44:44<4:02:51, 72.86s/it]"
     ]
    },
    {
     "name": "stdout",
     "output_type": "stream",
     "text": [
      "imagenet-mobilenet_v1_025_160-classification failed. Link is https://tfhub.dev/google/imagenet/mobilenet_v1_025_160/classification/1\n"
     ]
    },
    {
     "name": "stderr",
     "output_type": "stream",
     "text": [
      "\n",
      " 54%|████████████████████████████████████████▉                                   | 232/431 [1:44:46<2:50:23, 51.37s/it]"
     ]
    },
    {
     "name": "stdout",
     "output_type": "stream",
     "text": [
      "imagenet-mobilenet_v1_025_160-classification failed. Link is https://tfhub.dev/google/imagenet/mobilenet_v1_025_160/classification/3\n"
     ]
    },
    {
     "name": "stderr",
     "output_type": "stream",
     "text": [
      "\n",
      " 54%|█████████████████████████████████████████                                   | 233/431 [1:44:47<2:00:13, 36.43s/it]"
     ]
    },
    {
     "name": "stdout",
     "output_type": "stream",
     "text": [
      "imagenet-mobilenet_v1_100_160-classification failed. Link is https://tfhub.dev/google/imagenet/mobilenet_v1_100_160/classification/1\n"
     ]
    },
    {
     "name": "stderr",
     "output_type": "stream",
     "text": [
      "\n",
      " 54%|█████████████████████████████████████████▎                                  | 234/431 [1:44:52<1:28:15, 26.88s/it]"
     ]
    },
    {
     "name": "stdout",
     "output_type": "stream",
     "text": [
      "imagenet-mobilenet_v1_100_160-classification failed. Link is https://tfhub.dev/google/imagenet/mobilenet_v1_100_160/classification/3\n"
     ]
    },
    {
     "name": "stderr",
     "output_type": "stream",
     "text": [
      "\n",
      " 55%|█████████████████████████████████████████▍                                  | 235/431 [1:44:57<1:06:27, 20.35s/it]"
     ]
    },
    {
     "name": "stdout",
     "output_type": "stream",
     "text": [
      "imagenet-inception_v2-feature_vector failed. Link is https://tfhub.dev/google/imagenet/inception_v2/feature_vector/1\n"
     ]
    },
    {
     "name": "stderr",
     "output_type": "stream",
     "text": [
      "\n",
      " 55%|█████████████████████████████████████████▌                                  | 236/431 [1:46:03<1:50:32, 34.02s/it]"
     ]
    },
    {
     "name": "stdout",
     "output_type": "stream",
     "text": [
      "imagenet-inception_v2-feature_vector failed. Link is https://tfhub.dev/google/imagenet/inception_v2/feature_vector/3\n"
     ]
    },
    {
     "name": "stderr",
     "output_type": "stream",
     "text": [
      "\n",
      " 55%|█████████████████████████████████████████▊                                  | 237/431 [1:46:14<1:27:53, 27.18s/it]"
     ]
    },
    {
     "name": "stdout",
     "output_type": "stream",
     "text": [
      "nnlm-en-dim128-with-normalization failed. Link is https://tfhub.dev/google/nnlm-en-dim128-with-normalization/1\n"
     ]
    },
    {
     "name": "stderr",
     "output_type": "stream",
     "text": [
      "\n",
      " 55%|█████████████████████████████████████████▉                                  | 238/431 [1:48:05<2:48:02, 52.24s/it]"
     ]
    },
    {
     "name": "stdout",
     "output_type": "stream",
     "text": [
      "imagenet-mobilenet_v1_025_224-quantops-classification failed. Link is https://tfhub.dev/google/imagenet/mobilenet_v1_025_224/quantops/classification/1\n"
     ]
    },
    {
     "name": "stderr",
     "output_type": "stream",
     "text": [
      "\n",
      " 55%|██████████████████████████████████████████▏                                 | 239/431 [1:48:06<1:58:18, 36.97s/it]"
     ]
    },
    {
     "name": "stdout",
     "output_type": "stream",
     "text": [
      "imagenet-mobilenet_v1_025_224-quantops-classification failed. Link is https://tfhub.dev/google/imagenet/mobilenet_v1_025_224/quantops/classification/3\n"
     ]
    },
    {
     "name": "stderr",
     "output_type": "stream",
     "text": [
      "\n",
      " 56%|██████████████████████████████████████████▎                                 | 240/431 [1:48:07<1:23:32, 26.24s/it]"
     ]
    },
    {
     "name": "stdout",
     "output_type": "stream",
     "text": [
      "imagenet-mobilenet_v2_075_224-classification failed. Link is https://tfhub.dev/google/imagenet/mobilenet_v2_075_224/classification/1\n"
     ]
    },
    {
     "name": "stderr",
     "output_type": "stream",
     "text": [
      "\n",
      " 56%|██████████████████████████████████████████▍                                 | 241/431 [1:48:12<1:02:22, 19.70s/it]"
     ]
    },
    {
     "name": "stdout",
     "output_type": "stream",
     "text": [
      "imagenet-mobilenet_v2_075_224-classification failed. Link is https://tfhub.dev/google/imagenet/mobilenet_v2_075_224/classification/2\n"
     ]
    },
    {
     "name": "stderr",
     "output_type": "stream",
     "text": [
      "\n",
      " 56%|███████████████████████████████████████████▊                                  | 242/431 [1:48:16<47:18, 15.02s/it]"
     ]
    },
    {
     "name": "stdout",
     "output_type": "stream",
     "text": [
      "imagenet-mobilenet_v2_075_224-classification failed. Link is https://tfhub.dev/google/imagenet/mobilenet_v2_075_224/classification/3\n"
     ]
    },
    {
     "name": "stderr",
     "output_type": "stream",
     "text": [
      "\n",
      " 56%|███████████████████████████████████████████▉                                  | 243/431 [1:48:20<36:45, 11.73s/it]"
     ]
    },
    {
     "name": "stdout",
     "output_type": "stream",
     "text": [
      "imagenet-mobilenet_v1_025_128-classification failed. Link is https://tfhub.dev/google/imagenet/mobilenet_v1_025_128/classification/1\n"
     ]
    },
    {
     "name": "stderr",
     "output_type": "stream",
     "text": [
      "\n",
      " 57%|████████████████████████████████████████████▏                                 | 244/431 [1:48:21<26:56,  8.64s/it]"
     ]
    },
    {
     "name": "stdout",
     "output_type": "stream",
     "text": [
      "imagenet-mobilenet_v1_025_128-classification failed. Link is https://tfhub.dev/google/imagenet/mobilenet_v1_025_128/classification/3\n"
     ]
    },
    {
     "name": "stderr",
     "output_type": "stream",
     "text": [
      "\n",
      " 57%|████████████████████████████████████████████▎                                 | 245/431 [1:48:23<20:00,  6.46s/it]"
     ]
    },
    {
     "name": "stdout",
     "output_type": "stream",
     "text": [
      "compare_gan-s3gan_20_128x128 failed. Link is https://tfhub.dev/google/compare_gan/s3gan_20_128x128/1\n"
     ]
    },
    {
     "name": "stderr",
     "output_type": "stream",
     "text": [
      "\n",
      " 57%|██████████████████████████████████████████▊                                | 246/431 [1:54:20<5:44:13, 111.64s/it]"
     ]
    },
    {
     "name": "stdout",
     "output_type": "stream",
     "text": [
      "universal-sentence-encoder-xling-en-fr failed. Link is https://tfhub.dev/google/universal-sentence-encoder-xling/en-fr/1\n"
     ]
    },
    {
     "name": "stderr",
     "output_type": "stream",
     "text": [
      "\n",
      " 57%|██████████████████████████████████████████▉                                | 247/431 [1:55:52<5:24:56, 105.96s/it]"
     ]
    },
    {
     "name": "stdout",
     "output_type": "stream",
     "text": [
      "imagenet-pnasnet_large-classification failed. Link is https://tfhub.dev/google/imagenet/pnasnet_large/classification/1\n"
     ]
    },
    {
     "name": "stderr",
     "output_type": "stream",
     "text": [
      "\n",
      " 58%|███████████████████████████████████████████▋                                | 248/431 [1:57:15<5:01:50, 98.97s/it]"
     ]
    },
    {
     "name": "stdout",
     "output_type": "stream",
     "text": [
      "imagenet-pnasnet_large-classification failed. Link is https://tfhub.dev/google/imagenet/pnasnet_large/classification/2\n"
     ]
    },
    {
     "name": "stderr",
     "output_type": "stream",
     "text": [
      "\n",
      " 58%|███████████████████████████████████████████▉                                | 249/431 [1:58:38<4:45:13, 94.03s/it]"
     ]
    },
    {
     "name": "stdout",
     "output_type": "stream",
     "text": [
      "imagenet-pnasnet_large-classification failed. Link is https://tfhub.dev/google/imagenet/pnasnet_large/classification/3\n"
     ]
    },
    {
     "name": "stderr",
     "output_type": "stream",
     "text": [
      "\n",
      " 58%|████████████████████████████████████████████                                | 250/431 [2:00:03<4:36:07, 91.53s/it]"
     ]
    },
    {
     "name": "stdout",
     "output_type": "stream",
     "text": [
      "imagenet-mobilenet_v1_025_192-feature_vector failed. Link is https://tfhub.dev/google/imagenet/mobilenet_v1_025_192/feature_vector/1\n"
     ]
    },
    {
     "name": "stderr",
     "output_type": "stream",
     "text": [
      "\n",
      " 58%|████████████████████████████████████████████▎                               | 251/431 [2:00:05<3:13:37, 64.54s/it]"
     ]
    },
    {
     "name": "stdout",
     "output_type": "stream",
     "text": [
      "imagenet-mobilenet_v1_025_192-feature_vector failed. Link is https://tfhub.dev/google/imagenet/mobilenet_v1_025_192/feature_vector/3\n"
     ]
    },
    {
     "name": "stderr",
     "output_type": "stream",
     "text": [
      "\n",
      " 58%|████████████████████████████████████████████▍                               | 252/431 [2:00:06<2:15:44, 45.50s/it]"
     ]
    },
    {
     "name": "stdout",
     "output_type": "stream",
     "text": [
      "biggan-deep-256 failed. Link is https://tfhub.dev/deepmind/biggan-deep-256/1\n"
     ]
    },
    {
     "name": "stderr",
     "output_type": "stream",
     "text": [
      "\n",
      " 59%|████████████████████████████████████████████▌                               | 253/431 [2:02:04<3:19:40, 67.31s/it]"
     ]
    },
    {
     "name": "stdout",
     "output_type": "stream",
     "text": [
      "compare_gan-model_2_celebahq128_resnet19 failed. Link is https://tfhub.dev/google/compare_gan/model_2_celebahq128_resnet19/1\n"
     ]
    },
    {
     "name": "stderr",
     "output_type": "stream",
     "text": [
      "\n",
      " 59%|████████████████████████████████████████████▊                               | 254/431 [2:03:21<3:27:11, 70.23s/it]"
     ]
    },
    {
     "name": "stdout",
     "output_type": "stream",
     "text": [
      "imagenet-mobilenet_v2_100_160-feature_vector failed. Link is https://tfhub.dev/google/imagenet/mobilenet_v2_100_160/feature_vector/1\n"
     ]
    },
    {
     "name": "stderr",
     "output_type": "stream",
     "text": [
      "\n",
      " 59%|████████████████████████████████████████████▉                               | 255/431 [2:03:25<2:27:15, 50.20s/it]"
     ]
    },
    {
     "name": "stdout",
     "output_type": "stream",
     "text": [
      "imagenet-mobilenet_v2_100_160-feature_vector failed. Link is https://tfhub.dev/google/imagenet/mobilenet_v2_100_160/feature_vector/2\n"
     ]
    },
    {
     "name": "stderr",
     "output_type": "stream",
     "text": [
      "\n",
      " 59%|█████████████████████████████████████████████▏                              | 256/431 [2:03:28<1:45:49, 36.28s/it]"
     ]
    },
    {
     "name": "stdout",
     "output_type": "stream",
     "text": [
      "imagenet-mobilenet_v2_100_160-feature_vector failed. Link is https://tfhub.dev/google/imagenet/mobilenet_v2_100_160/feature_vector/3\n"
     ]
    },
    {
     "name": "stderr",
     "output_type": "stream",
     "text": [
      "\n",
      " 60%|█████████████████████████████████████████████▎                              | 257/431 [2:03:32<1:16:29, 26.38s/it]"
     ]
    },
    {
     "name": "stdout",
     "output_type": "stream",
     "text": [
      "nnlm-ja-dim128-with-normalization failed. Link is https://tfhub.dev/google/nnlm-ja-dim128-with-normalization/1\n"
     ]
    },
    {
     "name": "stderr",
     "output_type": "stream",
     "text": [
      "\n",
      " 60%|█████████████████████████████████████████████▍                              | 258/431 [2:05:21<2:27:53, 51.29s/it]"
     ]
    },
    {
     "name": "stdout",
     "output_type": "stream",
     "text": [
      "imagenet-mobilenet_v2_100_224-classification failed. Link is https://tfhub.dev/google/imagenet/mobilenet_v2_100_224/classification/1\n"
     ]
    },
    {
     "name": "stderr",
     "output_type": "stream",
     "text": [
      "\n",
      " 60%|█████████████████████████████████████████████▋                              | 259/431 [2:05:27<1:48:26, 37.83s/it]"
     ]
    },
    {
     "name": "stdout",
     "output_type": "stream",
     "text": [
      "imagenet-mobilenet_v2_100_224-classification failed. Link is https://tfhub.dev/google/imagenet/mobilenet_v2_100_224/classification/2\n"
     ]
    },
    {
     "name": "stderr",
     "output_type": "stream",
     "text": [
      "\n",
      " 60%|█████████████████████████████████████████████▊                              | 260/431 [2:05:32<1:19:36, 27.93s/it]"
     ]
    },
    {
     "name": "stdout",
     "output_type": "stream",
     "text": [
      "imagenet-mobilenet_v2_100_224-classification failed. Link is https://tfhub.dev/google/imagenet/mobilenet_v2_100_224/classification/3\n"
     ]
    },
    {
     "name": "stderr",
     "output_type": "stream",
     "text": [
      "\n",
      " 61%|███████████████████████████████████████████████▏                              | 261/431 [2:05:37<59:04, 20.85s/it]"
     ]
    },
    {
     "name": "stdout",
     "output_type": "stream",
     "text": [
      "imagenet-resnet_v2_152-feature_vector failed. Link is https://tfhub.dev/google/imagenet/resnet_v2_152/feature_vector/1\n"
     ]
    },
    {
     "name": "stderr",
     "output_type": "stream",
     "text": [
      "\n",
      " 61%|██████████████████████████████████████████████▏                             | 262/431 [2:06:34<1:29:53, 31.92s/it]"
     ]
    },
    {
     "name": "stdout",
     "output_type": "stream",
     "text": [
      "imagenet-resnet_v2_152-feature_vector failed. Link is https://tfhub.dev/google/imagenet/resnet_v2_152/feature_vector/3\n"
     ]
    },
    {
     "name": "stderr",
     "output_type": "stream",
     "text": [
      "\n",
      " 61%|██████████████████████████████████████████████▍                             | 263/431 [2:07:29<1:48:44, 38.84s/it]"
     ]
    },
    {
     "name": "stdout",
     "output_type": "stream",
     "text": [
      "biggan-deep-512 failed. Link is https://tfhub.dev/deepmind/biggan-deep-512/1\n"
     ]
    },
    {
     "name": "stderr",
     "output_type": "stream",
     "text": [
      "\n",
      " 61%|██████████████████████████████████████████████▌                             | 264/431 [2:09:22<2:49:26, 60.87s/it]"
     ]
    },
    {
     "name": "stdout",
     "output_type": "stream",
     "text": [
      "imagenet-mobilenet_v1_100_128-quantops-feature_vector failed. Link is https://tfhub.dev/google/imagenet/mobilenet_v1_100_128/quantops/feature_vector/1\n"
     ]
    },
    {
     "name": "stderr",
     "output_type": "stream",
     "text": [
      "\n",
      " 61%|██████████████████████████████████████████████▋                             | 265/431 [2:09:27<2:01:55, 44.07s/it]"
     ]
    },
    {
     "name": "stdout",
     "output_type": "stream",
     "text": [
      "imagenet-mobilenet_v1_100_128-quantops-feature_vector failed. Link is https://tfhub.dev/google/imagenet/mobilenet_v1_100_128/quantops/feature_vector/3\n"
     ]
    },
    {
     "name": "stderr",
     "output_type": "stream",
     "text": [
      "\n",
      " 62%|██████████████████████████████████████████████▉                             | 266/431 [2:09:30<1:27:42, 31.89s/it]"
     ]
    },
    {
     "name": "stdout",
     "output_type": "stream",
     "text": [
      "imagenet-mobilenet_v1_100_192-feature_vector failed. Link is https://tfhub.dev/google/imagenet/mobilenet_v1_100_192/feature_vector/1\n"
     ]
    },
    {
     "name": "stderr",
     "output_type": "stream",
     "text": [
      "\n",
      " 62%|███████████████████████████████████████████████                             | 267/431 [2:09:34<1:04:23, 23.56s/it]"
     ]
    },
    {
     "name": "stdout",
     "output_type": "stream",
     "text": [
      "imagenet-mobilenet_v1_100_192-feature_vector failed. Link is https://tfhub.dev/google/imagenet/mobilenet_v1_100_192/feature_vector/3\n"
     ]
    },
    {
     "name": "stderr",
     "output_type": "stream",
     "text": [
      "\n",
      " 62%|████████████████████████████████████████████████▌                             | 268/431 [2:09:38<47:48, 17.60s/it]"
     ]
    },
    {
     "name": "stdout",
     "output_type": "stream",
     "text": [
      "nnlm-zh-dim128-with-normalization failed. Link is https://tfhub.dev/google/nnlm-zh-dim128-with-normalization/1\n"
     ]
    },
    {
     "name": "stderr",
     "output_type": "stream",
     "text": [
      "\n",
      " 62%|███████████████████████████████████████████████▍                            | 269/431 [2:11:29<2:03:37, 45.78s/it]"
     ]
    },
    {
     "name": "stdout",
     "output_type": "stream",
     "text": [
      "imagenet-mobilenet_v2_075_160-feature_vector failed. Link is https://tfhub.dev/google/imagenet/mobilenet_v2_075_160/feature_vector/1\n"
     ]
    },
    {
     "name": "stderr",
     "output_type": "stream",
     "text": [
      "\n",
      " 63%|███████████████████████████████████████████████▌                            | 270/431 [2:11:32<1:28:21, 32.93s/it]"
     ]
    },
    {
     "name": "stdout",
     "output_type": "stream",
     "text": [
      "imagenet-mobilenet_v2_075_160-feature_vector failed. Link is https://tfhub.dev/google/imagenet/mobilenet_v2_075_160/feature_vector/2\n"
     ]
    },
    {
     "name": "stderr",
     "output_type": "stream",
     "text": [
      "\n",
      " 63%|███████████████████████████████████████████████▊                            | 271/431 [2:11:35<1:03:26, 23.79s/it]"
     ]
    },
    {
     "name": "stdout",
     "output_type": "stream",
     "text": [
      "imagenet-mobilenet_v2_075_160-feature_vector failed. Link is https://tfhub.dev/google/imagenet/mobilenet_v2_075_160/feature_vector/3\n"
     ]
    },
    {
     "name": "stderr",
     "output_type": "stream",
     "text": [
      "\n",
      " 63%|█████████████████████████████████████████████████▏                            | 272/431 [2:11:37<46:00, 17.36s/it]"
     ]
    },
    {
     "name": "stdout",
     "output_type": "stream",
     "text": [
      "nnlm-id-dim50 failed. Link is https://tfhub.dev/google/nnlm-id-dim50/1\n"
     ]
    },
    {
     "name": "stderr",
     "output_type": "stream",
     "text": [
      "\n",
      " 63%|████████████████████████████████████████████████▏                           | 273/431 [2:12:21<1:07:00, 25.45s/it]"
     ]
    },
    {
     "name": "stdout",
     "output_type": "stream",
     "text": [
      "imagenet-mobilenet_v1_050_128-feature_vector failed. Link is https://tfhub.dev/google/imagenet/mobilenet_v1_050_128/feature_vector/1\n"
     ]
    },
    {
     "name": "stderr",
     "output_type": "stream",
     "text": [
      "\n",
      " 64%|█████████████████████████████████████████████████▌                            | 274/431 [2:12:23<47:59, 18.34s/it]"
     ]
    },
    {
     "name": "stdout",
     "output_type": "stream",
     "text": [
      "imagenet-mobilenet_v1_050_128-feature_vector failed. Link is https://tfhub.dev/google/imagenet/mobilenet_v1_050_128/feature_vector/3\n"
     ]
    },
    {
     "name": "stderr",
     "output_type": "stream",
     "text": [
      "\n",
      " 64%|█████████████████████████████████████████████████▊                            | 275/431 [2:12:26<35:16, 13.57s/it]"
     ]
    },
    {
     "name": "stdout",
     "output_type": "stream",
     "text": [
      "nnlm-ja-dim50 failed. Link is https://tfhub.dev/google/nnlm-ja-dim50/1\n"
     ]
    },
    {
     "name": "stderr",
     "output_type": "stream",
     "text": [
      "\n",
      " 64%|████████████████████████████████████████████████▋                           | 276/431 [2:13:12<1:00:29, 23.42s/it]"
     ]
    },
    {
     "name": "stdout",
     "output_type": "stream",
     "text": [
      "random-nnlm-en-dim128 failed. Link is https://tfhub.dev/google/random-nnlm-en-dim128/1\n"
     ]
    },
    {
     "name": "stderr",
     "output_type": "stream",
     "text": [
      "\n",
      " 64%|████████████████████████████████████████████████▊                           | 277/431 [2:15:01<2:06:19, 49.22s/it]"
     ]
    },
    {
     "name": "stdout",
     "output_type": "stream",
     "text": [
      "bert_uncased_L-12_H-768_A-12 failed. Link is https://tfhub.dev/google/bert_uncased_L-12_H-768_A-12/1\n"
     ]
    },
    {
     "name": "stderr",
     "output_type": "stream",
     "text": [
      "\n",
      " 65%|█████████████████████████████████████████████████                           | 278/431 [2:16:42<2:44:47, 64.62s/it]"
     ]
    },
    {
     "name": "stdout",
     "output_type": "stream",
     "text": [
      "biggan-256 failed. Link is https://tfhub.dev/deepmind/biggan-256/1\n"
     ]
    },
    {
     "name": "stderr",
     "output_type": "stream",
     "text": [
      "\n",
      " 65%|█████████████████████████████████████████████████▏                          | 279/431 [2:19:14<3:49:57, 90.77s/it]"
     ]
    },
    {
     "name": "stdout",
     "output_type": "stream",
     "text": [
      "biggan-256 failed. Link is https://tfhub.dev/deepmind/biggan-256/2\n"
     ]
    },
    {
     "name": "stderr",
     "output_type": "stream",
     "text": [
      "\n",
      " 65%|████████████████████████████████████████████████▋                          | 280/431 [2:21:42<4:31:56, 108.06s/it]"
     ]
    },
    {
     "name": "stdout",
     "output_type": "stream",
     "text": [
      "imagenet-mobilenet_v2_050_96-classification failed. Link is https://tfhub.dev/google/imagenet/mobilenet_v2_050_96/classification/1\n"
     ]
    },
    {
     "name": "stderr",
     "output_type": "stream",
     "text": [
      "\n",
      " 65%|█████████████████████████████████████████████████▌                          | 281/431 [2:21:45<3:11:27, 76.58s/it]"
     ]
    },
    {
     "name": "stdout",
     "output_type": "stream",
     "text": [
      "imagenet-mobilenet_v2_050_96-classification failed. Link is https://tfhub.dev/google/imagenet/mobilenet_v2_050_96/classification/2\n"
     ]
    },
    {
     "name": "stderr",
     "output_type": "stream",
     "text": [
      "\n",
      " 65%|█████████████████████████████████████████████████▋                          | 282/431 [2:21:49<2:15:54, 54.73s/it]"
     ]
    },
    {
     "name": "stdout",
     "output_type": "stream",
     "text": [
      "imagenet-mobilenet_v2_050_96-classification failed. Link is https://tfhub.dev/google/imagenet/mobilenet_v2_050_96/classification/3\n"
     ]
    },
    {
     "name": "stderr",
     "output_type": "stream",
     "text": [
      "\n",
      " 66%|█████████████████████████████████████████████████▉                          | 283/431 [2:22:06<1:47:18, 43.50s/it]"
     ]
    },
    {
     "name": "stdout",
     "output_type": "stream",
     "text": [
      "imagenet-mobilenet_v1_025_192-classification failed. Link is https://tfhub.dev/google/imagenet/mobilenet_v1_025_192/classification/1\n"
     ]
    },
    {
     "name": "stderr",
     "output_type": "stream",
     "text": [
      "\n",
      " 66%|██████████████████████████████████████████████████                          | 284/431 [2:22:08<1:15:40, 30.89s/it]"
     ]
    },
    {
     "name": "stdout",
     "output_type": "stream",
     "text": [
      "imagenet-mobilenet_v1_025_192-classification failed. Link is https://tfhub.dev/google/imagenet/mobilenet_v1_025_192/classification/3\n"
     ]
    },
    {
     "name": "stderr",
     "output_type": "stream",
     "text": [
      "\n",
      " 66%|███████████████████████████████████████████████████▌                          | 285/431 [2:22:09<53:43, 22.08s/it]"
     ]
    },
    {
     "name": "stdout",
     "output_type": "stream",
     "text": [
      "imagenet-resnet_v2_101-feature_vector failed. Link is https://tfhub.dev/google/imagenet/resnet_v2_101/feature_vector/1\n"
     ]
    },
    {
     "name": "stderr",
     "output_type": "stream",
     "text": [
      "\n",
      " 66%|██████████████████████████████████████████████████▍                         | 286/431 [2:22:48<1:05:36, 27.15s/it]"
     ]
    },
    {
     "name": "stdout",
     "output_type": "stream",
     "text": [
      "imagenet-resnet_v2_101-feature_vector failed. Link is https://tfhub.dev/google/imagenet/resnet_v2_101/feature_vector/3\n"
     ]
    },
    {
     "name": "stderr",
     "output_type": "stream",
     "text": [
      "\n",
      " 67%|██████████████████████████████████████████████████▌                         | 287/431 [2:23:29<1:14:43, 31.14s/it]"
     ]
    },
    {
     "name": "stdout",
     "output_type": "stream",
     "text": [
      "imagenet-mobilenet_v1_050_192-classification failed. Link is https://tfhub.dev/google/imagenet/mobilenet_v1_050_192/classification/1\n"
     ]
    },
    {
     "name": "stderr",
     "output_type": "stream",
     "text": [
      "\n",
      " 67%|████████████████████████████████████████████████████                          | 288/431 [2:23:31<53:23, 22.40s/it]"
     ]
    },
    {
     "name": "stdout",
     "output_type": "stream",
     "text": [
      "imagenet-mobilenet_v1_050_192-classification failed. Link is https://tfhub.dev/google/imagenet/mobilenet_v1_050_192/classification/3\n"
     ]
    },
    {
     "name": "stderr",
     "output_type": "stream",
     "text": [
      "\n",
      " 67%|████████████████████████████████████████████████████▎                         | 289/431 [2:23:33<38:22, 16.22s/it]"
     ]
    },
    {
     "name": "stdout",
     "output_type": "stream",
     "text": [
      "imagenet-mobilenet_v1_025_128-quantops-classification failed. Link is https://tfhub.dev/google/imagenet/mobilenet_v1_025_128/quantops/classification/1\n"
     ]
    },
    {
     "name": "stderr",
     "output_type": "stream",
     "text": [
      "\n",
      " 67%|████████████████████████████████████████████████████▍                         | 290/431 [2:23:34<27:30, 11.70s/it]"
     ]
    },
    {
     "name": "stdout",
     "output_type": "stream",
     "text": [
      "imagenet-mobilenet_v1_025_128-quantops-classification failed. Link is https://tfhub.dev/google/imagenet/mobilenet_v1_025_128/quantops/classification/3\n"
     ]
    },
    {
     "name": "stderr",
     "output_type": "stream",
     "text": [
      "\n",
      " 68%|████████████████████████████████████████████████████▋                         | 291/431 [2:23:35<19:56,  8.55s/it]"
     ]
    },
    {
     "name": "stdout",
     "output_type": "stream",
     "text": [
      "image_augmentation-nas_cifar failed. Link is https://tfhub.dev/google/image_augmentation/nas_cifar/1\n"
     ]
    },
    {
     "name": "stderr",
     "output_type": "stream",
     "text": [
      "\n",
      " 68%|████████████████████████████████████████████████████▊                         | 292/431 [2:23:43<19:31,  8.43s/it]"
     ]
    },
    {
     "name": "stdout",
     "output_type": "stream",
     "text": [
      "imagenet-mobilenet_v1_025_224-classification failed. Link is https://tfhub.dev/google/imagenet/mobilenet_v1_025_224/classification/1\n"
     ]
    },
    {
     "name": "stderr",
     "output_type": "stream",
     "text": [
      "\n",
      " 68%|█████████████████████████████████████████████████████                         | 293/431 [2:23:44<14:31,  6.32s/it]"
     ]
    },
    {
     "name": "stdout",
     "output_type": "stream",
     "text": [
      "imagenet-mobilenet_v1_025_224-classification failed. Link is https://tfhub.dev/google/imagenet/mobilenet_v1_025_224/classification/3\n"
     ]
    },
    {
     "name": "stderr",
     "output_type": "stream",
     "text": [
      "\n",
      " 68%|█████████████████████████████████████████████████████▏                        | 294/431 [2:23:46<10:58,  4.81s/it]"
     ]
    },
    {
     "name": "stdout",
     "output_type": "stream",
     "text": [
      "imagenet-mobilenet_v2_100_128-feature_vector failed. Link is https://tfhub.dev/google/imagenet/mobilenet_v2_100_128/feature_vector/1\n"
     ]
    },
    {
     "name": "stderr",
     "output_type": "stream",
     "text": [
      "\n",
      " 68%|█████████████████████████████████████████████████████▍                        | 295/431 [2:23:49<10:00,  4.42s/it]"
     ]
    },
    {
     "name": "stdout",
     "output_type": "stream",
     "text": [
      "imagenet-mobilenet_v2_100_128-feature_vector failed. Link is https://tfhub.dev/google/imagenet/mobilenet_v2_100_128/feature_vector/2\n"
     ]
    },
    {
     "name": "stderr",
     "output_type": "stream",
     "text": [
      "\n",
      " 69%|█████████████████████████████████████████████████████▌                        | 296/431 [2:23:53<09:16,  4.12s/it]"
     ]
    },
    {
     "name": "stdout",
     "output_type": "stream",
     "text": [
      "imagenet-mobilenet_v2_100_128-feature_vector failed. Link is https://tfhub.dev/google/imagenet/mobilenet_v2_100_128/feature_vector/3\n"
     ]
    },
    {
     "name": "stderr",
     "output_type": "stream",
     "text": [
      "\n",
      " 69%|█████████████████████████████████████████████████████▋                        | 297/431 [2:23:56<08:39,  3.87s/it]"
     ]
    },
    {
     "name": "stdout",
     "output_type": "stream",
     "text": [
      "tf2-preview-mobilenet_v2-classification failed. Link is https://tfhub.dev/google/tf2-preview/mobilenet_v2/classification/1\n"
     ]
    },
    {
     "name": "stderr",
     "output_type": "stream",
     "text": [
      "\n",
      " 69%|█████████████████████████████████████████████████████▉                        | 298/431 [2:23:59<08:13,  3.71s/it]"
     ]
    },
    {
     "name": "stdout",
     "output_type": "stream",
     "text": [
      "tf2-preview-mobilenet_v2-classification failed. Link is https://tfhub.dev/google/tf2-preview/mobilenet_v2/classification/2\n"
     ]
    },
    {
     "name": "stderr",
     "output_type": "stream",
     "text": [
      "\n",
      " 69%|██████████████████████████████████████████████████████                        | 299/431 [2:24:03<07:54,  3.59s/it]"
     ]
    },
    {
     "name": "stdout",
     "output_type": "stream",
     "text": [
      "tf2-preview-mobilenet_v2-classification failed. Link is https://tfhub.dev/google/tf2-preview/mobilenet_v2/classification/3\n"
     ]
    },
    {
     "name": "stderr",
     "output_type": "stream",
     "text": [
      "\n",
      " 70%|██████████████████████████████████████████████████████▎                       | 300/431 [2:24:06<07:42,  3.53s/it]"
     ]
    },
    {
     "name": "stdout",
     "output_type": "stream",
     "text": [
      "tf2-preview-mobilenet_v2-classification failed. Link is https://tfhub.dev/google/tf2-preview/mobilenet_v2/classification/4\n"
     ]
    },
    {
     "name": "stderr",
     "output_type": "stream",
     "text": [
      "\n",
      " 70%|██████████████████████████████████████████████████████▍                       | 301/431 [2:24:10<07:47,  3.60s/it]"
     ]
    },
    {
     "name": "stdout",
     "output_type": "stream",
     "text": [
      "imagenet-mobilenet_v2_050_192-feature_vector failed. Link is https://tfhub.dev/google/imagenet/mobilenet_v2_050_192/feature_vector/1\n"
     ]
    },
    {
     "name": "stderr",
     "output_type": "stream",
     "text": [
      "\n",
      " 70%|██████████████████████████████████████████████████████▋                       | 302/431 [2:24:12<06:38,  3.09s/it]"
     ]
    },
    {
     "name": "stdout",
     "output_type": "stream",
     "text": [
      "imagenet-mobilenet_v2_050_192-feature_vector failed. Link is https://tfhub.dev/google/imagenet/mobilenet_v2_050_192/feature_vector/2\n"
     ]
    },
    {
     "name": "stderr",
     "output_type": "stream",
     "text": [
      "\n",
      " 70%|██████████████████████████████████████████████████████▊                       | 303/431 [2:24:14<05:47,  2.71s/it]"
     ]
    },
    {
     "name": "stdout",
     "output_type": "stream",
     "text": [
      "imagenet-mobilenet_v2_050_192-feature_vector failed. Link is https://tfhub.dev/google/imagenet/mobilenet_v2_050_192/feature_vector/3\n"
     ]
    },
    {
     "name": "stderr",
     "output_type": "stream",
     "text": [
      "\n",
      " 71%|███████████████████████████████████████████████████████                       | 304/431 [2:24:15<05:09,  2.44s/it]"
     ]
    },
    {
     "name": "stdout",
     "output_type": "stream",
     "text": [
      "imagenet-mobilenet_v1_075_128-feature_vector failed. Link is https://tfhub.dev/google/imagenet/mobilenet_v1_075_128/feature_vector/1\n"
     ]
    },
    {
     "name": "stderr",
     "output_type": "stream",
     "text": [
      "\n",
      " 71%|███████████████████████████████████████████████████████▏                      | 305/431 [2:24:18<05:09,  2.46s/it]"
     ]
    },
    {
     "name": "stdout",
     "output_type": "stream",
     "text": [
      "imagenet-mobilenet_v1_075_128-feature_vector failed. Link is https://tfhub.dev/google/imagenet/mobilenet_v1_075_128/feature_vector/3\n"
     ]
    },
    {
     "name": "stderr",
     "output_type": "stream",
     "text": [
      "\n",
      " 71%|███████████████████████████████████████████████████████▍                      | 306/431 [2:24:20<05:04,  2.44s/it]"
     ]
    },
    {
     "name": "stdout",
     "output_type": "stream",
     "text": [
      "imagenet-mobilenet_v2_050_192-classification failed. Link is https://tfhub.dev/google/imagenet/mobilenet_v2_050_192/classification/1\n"
     ]
    },
    {
     "name": "stderr",
     "output_type": "stream",
     "text": [
      "\n",
      " 71%|███████████████████████████████████████████████████████▌                      | 307/431 [2:24:23<05:29,  2.66s/it]"
     ]
    },
    {
     "name": "stdout",
     "output_type": "stream",
     "text": [
      "imagenet-mobilenet_v2_050_192-classification failed. Link is https://tfhub.dev/google/imagenet/mobilenet_v2_050_192/classification/2\n"
     ]
    },
    {
     "name": "stderr",
     "output_type": "stream",
     "text": [
      "\n",
      " 71%|███████████████████████████████████████████████████████▋                      | 308/431 [2:24:28<06:50,  3.34s/it]"
     ]
    },
    {
     "name": "stdout",
     "output_type": "stream",
     "text": [
      "imagenet-mobilenet_v2_050_192-classification failed. Link is https://tfhub.dev/google/imagenet/mobilenet_v2_050_192/classification/3\n"
     ]
    },
    {
     "name": "stderr",
     "output_type": "stream",
     "text": [
      "\n",
      " 72%|███████████████████████████████████████████████████████▉                      | 309/431 [2:24:32<06:45,  3.32s/it]"
     ]
    },
    {
     "name": "stdout",
     "output_type": "stream",
     "text": [
      "nnlm-es-dim128-with-normalization failed. Link is https://tfhub.dev/google/nnlm-es-dim128-with-normalization/1\n"
     ]
    },
    {
     "name": "stderr",
     "output_type": "stream",
     "text": [
      "\n",
      " 72%|██████████████████████████████████████████████████████▋                     | 310/431 [2:26:24<1:12:47, 36.09s/it]"
     ]
    },
    {
     "name": "stdout",
     "output_type": "stream",
     "text": [
      "image_augmentation-nas_imagenet failed. Link is https://tfhub.dev/google/image_augmentation/nas_imagenet/1\n"
     ]
    },
    {
     "name": "stderr",
     "output_type": "stream",
     "text": [
      "\n",
      " 72%|████████████████████████████████████████████████████████▎                     | 311/431 [2:26:26<51:55, 25.96s/it]"
     ]
    },
    {
     "name": "stdout",
     "output_type": "stream",
     "text": [
      "imagenet-inception_v1-feature_vector failed. Link is https://tfhub.dev/google/imagenet/inception_v1/feature_vector/1\n"
     ]
    },
    {
     "name": "stderr",
     "output_type": "stream",
     "text": [
      "\n",
      " 72%|████████████████████████████████████████████████████████▍                     | 312/431 [2:26:34<40:19, 20.33s/it]"
     ]
    },
    {
     "name": "stdout",
     "output_type": "stream",
     "text": [
      "imagenet-inception_v1-feature_vector failed. Link is https://tfhub.dev/google/imagenet/inception_v1/feature_vector/3\n"
     ]
    },
    {
     "name": "stderr",
     "output_type": "stream",
     "text": [
      "\n",
      " 73%|████████████████████████████████████████████████████████▋                     | 313/431 [2:26:40<31:57, 16.25s/it]"
     ]
    },
    {
     "name": "stdout",
     "output_type": "stream",
     "text": [
      "nnlm-ko-dim128 failed. Link is https://tfhub.dev/google/nnlm-ko-dim128/1\n"
     ]
    },
    {
     "name": "stderr",
     "output_type": "stream",
     "text": [
      "\n",
      " 73%|███████████████████████████████████████████████████████▎                    | 314/431 [2:28:25<1:23:11, 42.66s/it]"
     ]
    },
    {
     "name": "stdout",
     "output_type": "stream",
     "text": [
      "universal-sentence-encoder-xling-many failed. Link is https://tfhub.dev/google/universal-sentence-encoder-xling-many/1\n"
     ]
    },
    {
     "name": "stderr",
     "output_type": "stream",
     "text": [
      "\n",
      " 73%|███████████████████████████████████████████████████████▌                    | 315/431 [2:30:22<2:05:42, 65.02s/it]"
     ]
    },
    {
     "name": "stdout",
     "output_type": "stream",
     "text": [
      "nnlm-zh-dim128 failed. Link is https://tfhub.dev/google/nnlm-zh-dim128/1\n"
     ]
    },
    {
     "name": "stderr",
     "output_type": "stream",
     "text": [
      "\n",
      " 73%|███████████████████████████████████████████████████████▋                    | 316/431 [2:32:11<2:29:43, 78.12s/it]"
     ]
    },
    {
     "name": "stdout",
     "output_type": "stream",
     "text": [
      "imagenet-mobilenet_v2_100_192-classification failed. Link is https://tfhub.dev/google/imagenet/mobilenet_v2_100_192/classification/1\n"
     ]
    },
    {
     "name": "stderr",
     "output_type": "stream",
     "text": [
      "\n",
      " 74%|███████████████████████████████████████████████████████▉                    | 317/431 [2:32:15<1:46:35, 56.10s/it]"
     ]
    },
    {
     "name": "stdout",
     "output_type": "stream",
     "text": [
      "imagenet-mobilenet_v2_100_192-classification failed. Link is https://tfhub.dev/google/imagenet/mobilenet_v2_100_192/classification/2\n"
     ]
    },
    {
     "name": "stderr",
     "output_type": "stream",
     "text": [
      "\n",
      " 74%|████████████████████████████████████████████████████████                    | 318/431 [2:32:20<1:16:28, 40.60s/it]"
     ]
    },
    {
     "name": "stdout",
     "output_type": "stream",
     "text": [
      "imagenet-mobilenet_v2_100_192-classification failed. Link is https://tfhub.dev/google/imagenet/mobilenet_v2_100_192/classification/3\n"
     ]
    },
    {
     "name": "stderr",
     "output_type": "stream",
     "text": [
      "\n",
      " 74%|█████████████████████████████████████████████████████████▋                    | 319/431 [2:32:24<55:35, 29.78s/it]"
     ]
    },
    {
     "name": "stdout",
     "output_type": "stream",
     "text": [
      "image_augmentation-flipx_crop_rotate_color failed. Link is https://tfhub.dev/google/image_augmentation/flipx_crop_rotate_color/1\n"
     ]
    },
    {
     "name": "stderr",
     "output_type": "stream",
     "text": [
      "\n",
      " 74%|█████████████████████████████████████████████████████████▉                    | 320/431 [2:32:25<38:59, 21.08s/it]"
     ]
    },
    {
     "name": "stdout",
     "output_type": "stream",
     "text": [
      "imagenet-mobilenet_v2_100_224-feature_vector failed. Link is https://tfhub.dev/google/imagenet/mobilenet_v2_100_224/feature_vector/1\n"
     ]
    },
    {
     "name": "stderr",
     "output_type": "stream",
     "text": [
      "\n",
      " 74%|██████████████████████████████████████████████████████████                    | 321/431 [2:32:29<29:11, 15.92s/it]"
     ]
    },
    {
     "name": "stdout",
     "output_type": "stream",
     "text": [
      "imagenet-mobilenet_v2_100_224-feature_vector failed. Link is https://tfhub.dev/google/imagenet/mobilenet_v2_100_224/feature_vector/2\n"
     ]
    },
    {
     "name": "stderr",
     "output_type": "stream",
     "text": [
      "\n",
      " 75%|██████████████████████████████████████████████████████████▎                   | 322/431 [2:32:33<22:18, 12.28s/it]"
     ]
    },
    {
     "name": "stdout",
     "output_type": "stream",
     "text": [
      "imagenet-mobilenet_v2_100_224-feature_vector failed. Link is https://tfhub.dev/google/imagenet/mobilenet_v2_100_224/feature_vector/3\n"
     ]
    },
    {
     "name": "stderr",
     "output_type": "stream",
     "text": [
      "\n",
      " 75%|██████████████████████████████████████████████████████████▍                   | 323/431 [2:32:36<17:18,  9.62s/it]"
     ]
    },
    {
     "name": "stdout",
     "output_type": "stream",
     "text": [
      "imagenet-mobilenet_v1_075_192-classification failed. Link is https://tfhub.dev/google/imagenet/mobilenet_v1_075_192/classification/1\n"
     ]
    },
    {
     "name": "stderr",
     "output_type": "stream",
     "text": [
      "\n",
      " 75%|██████████████████████████████████████████████████████████▋                   | 324/431 [2:32:40<14:05,  7.90s/it]"
     ]
    },
    {
     "name": "stdout",
     "output_type": "stream",
     "text": [
      "imagenet-mobilenet_v1_075_192-classification failed. Link is https://tfhub.dev/google/imagenet/mobilenet_v1_075_192/classification/3\n"
     ]
    },
    {
     "name": "stderr",
     "output_type": "stream",
     "text": [
      "\n",
      " 75%|██████████████████████████████████████████████████████████▊                   | 325/431 [2:32:44<11:53,  6.73s/it]"
     ]
    },
    {
     "name": "stdout",
     "output_type": "stream",
     "text": [
      "imagenet-mobilenet_v2_130_224-feature_vector failed. Link is https://tfhub.dev/google/imagenet/mobilenet_v2_130_224/feature_vector/1\n"
     ]
    },
    {
     "name": "stderr",
     "output_type": "stream",
     "text": [
      "\n",
      " 76%|██████████████████████████████████████████████████████████▉                   | 326/431 [2:32:49<11:02,  6.31s/it]"
     ]
    },
    {
     "name": "stdout",
     "output_type": "stream",
     "text": [
      "imagenet-mobilenet_v2_130_224-feature_vector failed. Link is https://tfhub.dev/google/imagenet/mobilenet_v2_130_224/feature_vector/2\n"
     ]
    },
    {
     "name": "stderr",
     "output_type": "stream",
     "text": [
      "\n",
      " 76%|███████████████████████████████████████████████████████████▏                  | 327/431 [2:32:54<10:18,  5.95s/it]"
     ]
    },
    {
     "name": "stdout",
     "output_type": "stream",
     "text": [
      "imagenet-mobilenet_v2_130_224-feature_vector failed. Link is https://tfhub.dev/google/imagenet/mobilenet_v2_130_224/feature_vector/3\n"
     ]
    },
    {
     "name": "stderr",
     "output_type": "stream",
     "text": [
      "\n",
      " 76%|███████████████████████████████████████████████████████████▎                  | 328/431 [2:32:59<09:23,  5.47s/it]"
     ]
    },
    {
     "name": "stdout",
     "output_type": "stream",
     "text": [
      "imagenet-mobilenet_v1_100_224-feature_vector failed. Link is https://tfhub.dev/google/imagenet/mobilenet_v1_100_224/feature_vector/1\n"
     ]
    },
    {
     "name": "stderr",
     "output_type": "stream",
     "text": [
      "\n",
      " 76%|███████████████████████████████████████████████████████████▌                  | 329/431 [2:33:03<08:29,  5.00s/it]"
     ]
    },
    {
     "name": "stdout",
     "output_type": "stream",
     "text": [
      "imagenet-mobilenet_v1_100_224-feature_vector failed. Link is https://tfhub.dev/google/imagenet/mobilenet_v1_100_224/feature_vector/3\n"
     ]
    },
    {
     "name": "stderr",
     "output_type": "stream",
     "text": [
      "\n",
      " 77%|███████████████████████████████████████████████████████████▋                  | 330/431 [2:33:07<07:51,  4.67s/it]"
     ]
    },
    {
     "name": "stdout",
     "output_type": "stream",
     "text": [
      "delf failed. Link is https://tfhub.dev/google/delf/1\n"
     ]
    },
    {
     "name": "stderr",
     "output_type": "stream",
     "text": [
      "\n",
      " 77%|███████████████████████████████████████████████████████████▉                  | 331/431 [2:33:17<10:34,  6.35s/it]"
     ]
    },
    {
     "name": "stdout",
     "output_type": "stream",
     "text": [
      "openimages_v4-ssd-mobilenet_v2 failed. Link is https://tfhub.dev/google/openimages_v4/ssd/mobilenet_v2/1\n"
     ]
    },
    {
     "name": "stderr",
     "output_type": "stream",
     "text": [
      "\n",
      " 77%|████████████████████████████████████████████████████████████                  | 332/431 [2:33:33<15:30,  9.40s/it]"
     ]
    },
    {
     "name": "stdout",
     "output_type": "stream",
     "text": [
      "imagenet-mobilenet_v2_050_224-classification failed. Link is https://tfhub.dev/google/imagenet/mobilenet_v2_050_224/classification/1\n"
     ]
    },
    {
     "name": "stderr",
     "output_type": "stream",
     "text": [
      "\n",
      " 77%|████████████████████████████████████████████████████████████▎                 | 333/431 [2:33:37<12:17,  7.52s/it]"
     ]
    },
    {
     "name": "stdout",
     "output_type": "stream",
     "text": [
      "imagenet-mobilenet_v2_050_224-classification failed. Link is https://tfhub.dev/google/imagenet/mobilenet_v2_050_224/classification/2\n"
     ]
    },
    {
     "name": "stderr",
     "output_type": "stream",
     "text": [
      "\n",
      " 77%|████████████████████████████████████████████████████████████▍                 | 334/431 [2:33:40<09:57,  6.16s/it]"
     ]
    },
    {
     "name": "stdout",
     "output_type": "stream",
     "text": [
      "imagenet-mobilenet_v2_050_224-classification failed. Link is https://tfhub.dev/google/imagenet/mobilenet_v2_050_224/classification/3\n"
     ]
    },
    {
     "name": "stderr",
     "output_type": "stream",
     "text": [
      "\n",
      " 78%|████████████████████████████████████████████████████████████▋                 | 335/431 [2:33:43<08:25,  5.26s/it]"
     ]
    },
    {
     "name": "stdout",
     "output_type": "stream",
     "text": [
      "imagenet-mobilenet_v1_100_160-quantops-feature_vector failed. Link is https://tfhub.dev/google/imagenet/mobilenet_v1_100_160/quantops/feature_vector/1\n"
     ]
    },
    {
     "name": "stderr",
     "output_type": "stream",
     "text": [
      "\n",
      " 78%|████████████████████████████████████████████████████████████▊                 | 336/431 [2:33:46<07:30,  4.74s/it]"
     ]
    },
    {
     "name": "stdout",
     "output_type": "stream",
     "text": [
      "imagenet-mobilenet_v1_100_160-quantops-feature_vector failed. Link is https://tfhub.dev/google/imagenet/mobilenet_v1_100_160/quantops/feature_vector/3\n"
     ]
    },
    {
     "name": "stderr",
     "output_type": "stream",
     "text": [
      "\n",
      " 78%|████████████████████████████████████████████████████████████▉                 | 337/431 [2:33:50<06:52,  4.39s/it]"
     ]
    },
    {
     "name": "stdout",
     "output_type": "stream",
     "text": [
      "universal-sentence-encoder-large failed. Link is https://tfhub.dev/google/universal-sentence-encoder-large/1\n"
     ]
    },
    {
     "name": "stderr",
     "output_type": "stream",
     "text": [
      "\n",
      " 78%|███████████████████████████████████████████████████████████▌                | 338/431 [2:36:53<1:30:03, 58.11s/it]"
     ]
    },
    {
     "name": "stdout",
     "output_type": "stream",
     "text": [
      "universal-sentence-encoder-large failed. Link is https://tfhub.dev/google/universal-sentence-encoder-large/2\n"
     ]
    },
    {
     "name": "stderr",
     "output_type": "stream",
     "text": [
      "\n",
      " 79%|███████████████████████████████████████████████████████████▊                | 339/431 [2:40:00<2:28:04, 96.57s/it]"
     ]
    },
    {
     "name": "stdout",
     "output_type": "stream",
     "text": [
      "universal-sentence-encoder-large failed. Link is https://tfhub.dev/google/universal-sentence-encoder-large/3\n"
     ]
    },
    {
     "name": "stderr",
     "output_type": "stream",
     "text": [
      "\n",
      " 79%|███████████████████████████████████████████████████████████▏               | 340/431 [2:43:02<3:05:29, 122.31s/it]"
     ]
    },
    {
     "name": "stdout",
     "output_type": "stream",
     "text": [
      "imagenet-resnet_v2_50-classification failed. Link is https://tfhub.dev/google/imagenet/resnet_v2_50/classification/1\n"
     ]
    },
    {
     "name": "stderr",
     "output_type": "stream",
     "text": [
      "\n",
      " 79%|████████████████████████████████████████████████████████████▏               | 341/431 [2:43:26<2:19:11, 92.80s/it]"
     ]
    },
    {
     "name": "stdout",
     "output_type": "stream",
     "text": [
      "imagenet-resnet_v2_50-classification failed. Link is https://tfhub.dev/google/imagenet/resnet_v2_50/classification/3\n"
     ]
    },
    {
     "name": "stderr",
     "output_type": "stream",
     "text": [
      "\n",
      " 79%|████████████████████████████████████████████████████████████▎               | 342/431 [2:43:51<1:47:36, 72.55s/it]"
     ]
    },
    {
     "name": "stdout",
     "output_type": "stream",
     "text": [
      "imagenet-mobilenet_v1_100_160-feature_vector failed. Link is https://tfhub.dev/google/imagenet/mobilenet_v1_100_160/feature_vector/1\n"
     ]
    },
    {
     "name": "stderr",
     "output_type": "stream",
     "text": [
      "\n",
      " 80%|████████████████████████████████████████████████████████████▍               | 343/431 [2:43:55<1:16:19, 52.04s/it]"
     ]
    },
    {
     "name": "stdout",
     "output_type": "stream",
     "text": [
      "imagenet-mobilenet_v1_100_160-feature_vector failed. Link is https://tfhub.dev/google/imagenet/mobilenet_v1_100_160/feature_vector/3\n"
     ]
    },
    {
     "name": "stderr",
     "output_type": "stream",
     "text": [
      "\n",
      " 80%|██████████████████████████████████████████████████████████████▎               | 344/431 [2:43:59<54:26, 37.55s/it]"
     ]
    },
    {
     "name": "stdout",
     "output_type": "stream",
     "text": [
      "imagenet-resnet_v1_50-classification failed. Link is https://tfhub.dev/google/imagenet/resnet_v1_50/classification/1\n"
     ]
    },
    {
     "name": "stderr",
     "output_type": "stream",
     "text": [
      "\n",
      " 80%|██████████████████████████████████████████████████████████████▍               | 345/431 [2:44:23<47:53, 33.41s/it]"
     ]
    },
    {
     "name": "stdout",
     "output_type": "stream",
     "text": [
      "imagenet-resnet_v1_50-classification failed. Link is https://tfhub.dev/google/imagenet/resnet_v1_50/classification/3\n"
     ]
    },
    {
     "name": "stderr",
     "output_type": "stream",
     "text": [
      "\n",
      " 80%|██████████████████████████████████████████████████████████████▌               | 346/431 [2:44:47<43:16, 30.54s/it]"
     ]
    },
    {
     "name": "stdout",
     "output_type": "stream",
     "text": [
      "imagenet-mobilenet_v2_075_128-classification failed. Link is https://tfhub.dev/google/imagenet/mobilenet_v2_075_128/classification/1\n"
     ]
    },
    {
     "name": "stderr",
     "output_type": "stream",
     "text": [
      "\n",
      " 81%|██████████████████████████████████████████████████████████████▊               | 347/431 [2:44:51<31:45, 22.69s/it]"
     ]
    },
    {
     "name": "stdout",
     "output_type": "stream",
     "text": [
      "imagenet-mobilenet_v2_075_128-classification failed. Link is https://tfhub.dev/google/imagenet/mobilenet_v2_075_128/classification/2\n"
     ]
    },
    {
     "name": "stderr",
     "output_type": "stream",
     "text": [
      "\n",
      " 81%|██████████████████████████████████████████████████████████████▉               | 348/431 [2:44:55<23:34, 17.04s/it]"
     ]
    },
    {
     "name": "stdout",
     "output_type": "stream",
     "text": [
      "imagenet-mobilenet_v2_075_128-classification failed. Link is https://tfhub.dev/google/imagenet/mobilenet_v2_075_128/classification/3\n"
     ]
    },
    {
     "name": "stderr",
     "output_type": "stream",
     "text": [
      "\n",
      " 81%|███████████████████████████████████████████████████████████████▏              | 349/431 [2:44:59<18:01, 13.18s/it]"
     ]
    },
    {
     "name": "stdout",
     "output_type": "stream",
     "text": [
      "imagenet-mobilenet_v1_050_160-quantops-classification failed. Link is https://tfhub.dev/google/imagenet/mobilenet_v1_050_160/quantops/classification/1\n"
     ]
    },
    {
     "name": "stderr",
     "output_type": "stream",
     "text": [
      "\n",
      " 81%|███████████████████████████████████████████████████████████████▎              | 350/431 [2:45:01<13:17,  9.85s/it]"
     ]
    },
    {
     "name": "stdout",
     "output_type": "stream",
     "text": [
      "imagenet-mobilenet_v1_050_160-quantops-classification failed. Link is https://tfhub.dev/google/imagenet/mobilenet_v1_050_160/quantops/classification/3\n"
     ]
    },
    {
     "name": "stderr",
     "output_type": "stream",
     "text": [
      "\n",
      " 81%|███████████████████████████████████████████████████████████████▌              | 351/431 [2:45:03<09:59,  7.49s/it]"
     ]
    },
    {
     "name": "stdout",
     "output_type": "stream",
     "text": [
      "imagenet-mobilenet_v1_050_224-quantops-feature_vector failed. Link is https://tfhub.dev/google/imagenet/mobilenet_v1_050_224/quantops/feature_vector/1\n"
     ]
    },
    {
     "name": "stderr",
     "output_type": "stream",
     "text": [
      "\n",
      " 82%|███████████████████████████████████████████████████████████████▋              | 352/431 [2:45:05<07:44,  5.87s/it]"
     ]
    },
    {
     "name": "stdout",
     "output_type": "stream",
     "text": [
      "imagenet-mobilenet_v1_050_224-quantops-feature_vector failed. Link is https://tfhub.dev/google/imagenet/mobilenet_v1_050_224/quantops/feature_vector/3\n"
     ]
    },
    {
     "name": "stderr",
     "output_type": "stream",
     "text": [
      "\n",
      " 82%|███████████████████████████████████████████████████████████████▉              | 353/431 [2:45:07<05:54,  4.55s/it]"
     ]
    },
    {
     "name": "stdout",
     "output_type": "stream",
     "text": [
      "imagenet-mobilenet_v2_035_192-classification failed. Link is https://tfhub.dev/google/imagenet/mobilenet_v2_035_192/classification/1\n"
     ]
    },
    {
     "name": "stderr",
     "output_type": "stream",
     "text": [
      "\n",
      " 82%|████████████████████████████████████████████████████████████████              | 354/431 [2:45:10<05:13,  4.08s/it]"
     ]
    },
    {
     "name": "stdout",
     "output_type": "stream",
     "text": [
      "imagenet-mobilenet_v2_035_192-classification failed. Link is https://tfhub.dev/google/imagenet/mobilenet_v2_035_192/classification/2\n"
     ]
    },
    {
     "name": "stderr",
     "output_type": "stream",
     "text": [
      "\n",
      " 82%|████████████████████████████████████████████████████████████████▏             | 355/431 [2:45:12<04:38,  3.66s/it]"
     ]
    },
    {
     "name": "stdout",
     "output_type": "stream",
     "text": [
      "imagenet-mobilenet_v2_035_192-classification failed. Link is https://tfhub.dev/google/imagenet/mobilenet_v2_035_192/classification/3\n"
     ]
    },
    {
     "name": "stderr",
     "output_type": "stream",
     "text": [
      "\n",
      " 83%|████████████████████████████████████████████████████████████████▍             | 356/431 [2:45:15<04:11,  3.36s/it]"
     ]
    },
    {
     "name": "stdout",
     "output_type": "stream",
     "text": [
      "imagenet-amoebanet_a_n18_f448-feature_vector failed. Link is https://tfhub.dev/google/imagenet/amoebanet_a_n18_f448/feature_vector/1\n"
     ]
    },
    {
     "name": "stderr",
     "output_type": "stream",
     "text": [
      "\n",
      " 83%|██████████████████████████████████████████████████████████████             | 357/431 [2:52:12<2:37:07, 127.40s/it]"
     ]
    },
    {
     "name": "stdout",
     "output_type": "stream",
     "text": [
      "imagenet-mobilenet_v1_050_224-feature_vector failed. Link is https://tfhub.dev/google/imagenet/mobilenet_v1_050_224/feature_vector/1\n"
     ]
    },
    {
     "name": "stderr",
     "output_type": "stream",
     "text": [
      "\n",
      " 83%|███████████████████████████████████████████████████████████████▏            | 358/431 [2:52:14<1:49:08, 89.70s/it]"
     ]
    },
    {
     "name": "stdout",
     "output_type": "stream",
     "text": [
      "imagenet-mobilenet_v1_050_224-feature_vector failed. Link is https://tfhub.dev/google/imagenet/mobilenet_v1_050_224/feature_vector/3\n"
     ]
    },
    {
     "name": "stderr",
     "output_type": "stream",
     "text": [
      "\n",
      " 83%|███████████████████████████████████████████████████████████████▎            | 359/431 [2:52:15<1:15:54, 63.26s/it]"
     ]
    },
    {
     "name": "stdout",
     "output_type": "stream",
     "text": [
      "imagenet-mobilenet_v2_100_96-feature_vector failed. Link is https://tfhub.dev/google/imagenet/mobilenet_v2_100_96/feature_vector/1\n"
     ]
    },
    {
     "name": "stderr",
     "output_type": "stream",
     "text": [
      "\n",
      " 84%|█████████████████████████████████████████████████████████████████▏            | 360/431 [2:52:19<53:42, 45.39s/it]"
     ]
    },
    {
     "name": "stdout",
     "output_type": "stream",
     "text": [
      "imagenet-mobilenet_v2_100_96-feature_vector failed. Link is https://tfhub.dev/google/imagenet/mobilenet_v2_100_96/feature_vector/2\n"
     ]
    },
    {
     "name": "stderr",
     "output_type": "stream",
     "text": [
      "\n",
      " 84%|█████████████████████████████████████████████████████████████████▎            | 361/431 [2:52:22<38:18, 32.83s/it]"
     ]
    },
    {
     "name": "stdout",
     "output_type": "stream",
     "text": [
      "imagenet-mobilenet_v2_100_96-feature_vector failed. Link is https://tfhub.dev/google/imagenet/mobilenet_v2_100_96/feature_vector/3\n"
     ]
    },
    {
     "name": "stderr",
     "output_type": "stream",
     "text": [
      "\n",
      " 84%|█████████████████████████████████████████████████████████████████▌            | 362/431 [2:52:26<27:35, 24.00s/it]"
     ]
    },
    {
     "name": "stdout",
     "output_type": "stream",
     "text": [
      "imagenet-mobilenet_v1_075_224-quantops-feature_vector failed. Link is https://tfhub.dev/google/imagenet/mobilenet_v1_075_224/quantops/feature_vector/1\n"
     ]
    },
    {
     "name": "stderr",
     "output_type": "stream",
     "text": [
      "\n",
      " 84%|█████████████████████████████████████████████████████████████████▋            | 363/431 [2:52:28<19:51, 17.52s/it]"
     ]
    },
    {
     "name": "stdout",
     "output_type": "stream",
     "text": [
      "imagenet-mobilenet_v1_075_224-quantops-feature_vector failed. Link is https://tfhub.dev/google/imagenet/mobilenet_v1_075_224/quantops/feature_vector/3\n"
     ]
    },
    {
     "name": "stderr",
     "output_type": "stream",
     "text": [
      "\n",
      " 84%|█████████████████████████████████████████████████████████████████▊            | 364/431 [2:52:30<14:28, 12.96s/it]"
     ]
    },
    {
     "name": "stdout",
     "output_type": "stream",
     "text": [
      "imagenet-nasnet_mobile-feature_vector failed. Link is https://tfhub.dev/google/imagenet/nasnet_mobile/feature_vector/1\n"
     ]
    },
    {
     "name": "stderr",
     "output_type": "stream",
     "text": [
      "\n",
      " 85%|██████████████████████████████████████████████████████████████████            | 365/431 [2:52:39<12:52, 11.71s/it]"
     ]
    },
    {
     "name": "stdout",
     "output_type": "stream",
     "text": [
      "imagenet-nasnet_mobile-feature_vector failed. Link is https://tfhub.dev/google/imagenet/nasnet_mobile/feature_vector/3\n"
     ]
    },
    {
     "name": "stderr",
     "output_type": "stream",
     "text": [
      "\n",
      " 85%|██████████████████████████████████████████████████████████████████▏           | 366/431 [2:52:48<11:33, 10.67s/it]"
     ]
    },
    {
     "name": "stdout",
     "output_type": "stream",
     "text": [
      "i3d-kinetics-400 failed. Link is https://tfhub.dev/deepmind/i3d-kinetics-400/1\n"
     ]
    },
    {
     "name": "stderr",
     "output_type": "stream",
     "text": [
      "\n",
      " 85%|██████████████████████████████████████████████████████████████████▍           | 367/431 [2:53:00<11:56, 11.20s/it]"
     ]
    },
    {
     "name": "stdout",
     "output_type": "stream",
     "text": [
      "imagenet-resnet_v1_152-classification failed. Link is https://tfhub.dev/google/imagenet/resnet_v1_152/classification/1\n"
     ]
    },
    {
     "name": "stderr",
     "output_type": "stream",
     "text": [
      "\n",
      " 85%|██████████████████████████████████████████████████████████████████▌           | 368/431 [2:54:14<31:34, 30.07s/it]"
     ]
    },
    {
     "name": "stdout",
     "output_type": "stream",
     "text": [
      "imagenet-resnet_v1_152-classification failed. Link is https://tfhub.dev/google/imagenet/resnet_v1_152/classification/3\n"
     ]
    },
    {
     "name": "stderr",
     "output_type": "stream",
     "text": [
      "\n",
      " 86%|██████████████████████████████████████████████████████████████████▊           | 369/431 [2:55:12<39:40, 38.40s/it]"
     ]
    },
    {
     "name": "stdout",
     "output_type": "stream",
     "text": [
      "imagenet-mobilenet_v2_050_160-classification failed. Link is https://tfhub.dev/google/imagenet/mobilenet_v2_050_160/classification/1\n"
     ]
    },
    {
     "name": "stderr",
     "output_type": "stream",
     "text": [
      "\n",
      " 86%|██████████████████████████████████████████████████████████████████▉           | 370/431 [2:55:15<28:24, 27.94s/it]"
     ]
    },
    {
     "name": "stdout",
     "output_type": "stream",
     "text": [
      "imagenet-mobilenet_v2_050_160-classification failed. Link is https://tfhub.dev/google/imagenet/mobilenet_v2_050_160/classification/2\n"
     ]
    },
    {
     "name": "stderr",
     "output_type": "stream",
     "text": [
      "\n",
      " 86%|███████████████████████████████████████████████████████████████████▏          | 371/431 [2:55:18<20:28, 20.48s/it]"
     ]
    },
    {
     "name": "stdout",
     "output_type": "stream",
     "text": [
      "imagenet-mobilenet_v2_050_160-classification failed. Link is https://tfhub.dev/google/imagenet/mobilenet_v2_050_160/classification/3\n"
     ]
    },
    {
     "name": "stderr",
     "output_type": "stream",
     "text": [
      "\n",
      " 86%|███████████████████████████████████████████████████████████████████▎          | 372/431 [2:55:22<15:08, 15.39s/it]"
     ]
    },
    {
     "name": "stdout",
     "output_type": "stream",
     "text": [
      "imagenet-mobilenet_v1_075_128-classification failed. Link is https://tfhub.dev/google/imagenet/mobilenet_v1_075_128/classification/1\n"
     ]
    },
    {
     "name": "stderr",
     "output_type": "stream",
     "text": [
      "\n",
      " 87%|███████████████████████████████████████████████████████████████████▌          | 373/431 [2:55:26<11:28, 11.87s/it]"
     ]
    },
    {
     "name": "stdout",
     "output_type": "stream",
     "text": [
      "imagenet-mobilenet_v1_075_128-classification failed. Link is https://tfhub.dev/google/imagenet/mobilenet_v1_075_128/classification/3\n"
     ]
    },
    {
     "name": "stderr",
     "output_type": "stream",
     "text": [
      "\n",
      " 87%|███████████████████████████████████████████████████████████████████▋          | 374/431 [2:55:29<08:54,  9.37s/it]"
     ]
    },
    {
     "name": "stdout",
     "output_type": "stream",
     "text": [
      "tf2-preview-mobilenet_v2-feature_vector failed. Link is https://tfhub.dev/google/tf2-preview/mobilenet_v2/feature_vector/1\n"
     ]
    },
    {
     "name": "stderr",
     "output_type": "stream",
     "text": [
      "\n",
      " 87%|███████████████████████████████████████████████████████████████████▊          | 375/431 [2:55:32<06:48,  7.29s/it]"
     ]
    },
    {
     "name": "stdout",
     "output_type": "stream",
     "text": [
      "tf2-preview-mobilenet_v2-feature_vector failed. Link is https://tfhub.dev/google/tf2-preview/mobilenet_v2/feature_vector/2\n"
     ]
    },
    {
     "name": "stderr",
     "output_type": "stream",
     "text": [
      "\n",
      " 87%|████████████████████████████████████████████████████████████████████          | 376/431 [2:55:34<05:24,  5.90s/it]"
     ]
    },
    {
     "name": "stdout",
     "output_type": "stream",
     "text": [
      "tf2-preview-mobilenet_v2-feature_vector failed. Link is https://tfhub.dev/google/tf2-preview/mobilenet_v2/feature_vector/3\n"
     ]
    },
    {
     "name": "stderr",
     "output_type": "stream",
     "text": [
      "\n",
      " 87%|████████████████████████████████████████████████████████████████████▏         | 377/431 [2:55:37<04:31,  5.02s/it]"
     ]
    },
    {
     "name": "stdout",
     "output_type": "stream",
     "text": [
      "tf2-preview-mobilenet_v2-feature_vector failed. Link is https://tfhub.dev/google/tf2-preview/mobilenet_v2/feature_vector/4\n"
     ]
    },
    {
     "name": "stderr",
     "output_type": "stream",
     "text": [
      "\n",
      " 88%|████████████████████████████████████████████████████████████████████▍         | 378/431 [2:55:40<03:47,  4.29s/it]"
     ]
    },
    {
     "name": "stdout",
     "output_type": "stream",
     "text": [
      "nnlm-de-dim128-with-normalization failed. Link is https://tfhub.dev/google/nnlm-de-dim128-with-normalization/1\n"
     ]
    },
    {
     "name": "stderr",
     "output_type": "stream",
     "text": [
      "\n",
      " 88%|████████████████████████████████████████████████████████████████████▌         | 379/431 [2:57:32<31:48, 36.71s/it]"
     ]
    },
    {
     "name": "stdout",
     "output_type": "stream",
     "text": [
      "nnlm-id-dim128-with-normalization failed. Link is https://tfhub.dev/google/nnlm-id-dim128-with-normalization/1\n"
     ]
    },
    {
     "name": "stderr",
     "output_type": "stream",
     "text": [
      "\n",
      " 88%|████████████████████████████████████████████████████████████████████▊         | 380/431 [2:59:14<47:46, 56.20s/it]"
     ]
    },
    {
     "name": "stdout",
     "output_type": "stream",
     "text": [
      "imagenet-mobilenet_v1_075_192-feature_vector failed. Link is https://tfhub.dev/google/imagenet/mobilenet_v1_075_192/feature_vector/1\n"
     ]
    },
    {
     "name": "stderr",
     "output_type": "stream",
     "text": [
      "\n",
      " 88%|████████████████████████████████████████████████████████████████████▉         | 381/431 [2:59:16<33:24, 40.08s/it]"
     ]
    },
    {
     "name": "stdout",
     "output_type": "stream",
     "text": [
      "imagenet-mobilenet_v1_075_192-feature_vector failed. Link is https://tfhub.dev/google/imagenet/mobilenet_v1_075_192/feature_vector/3\n"
     ]
    },
    {
     "name": "stderr",
     "output_type": "stream",
     "text": [
      "\n",
      " 89%|█████████████████████████████████████████████████████████████████████▏        | 382/431 [2:59:19<23:31, 28.81s/it]"
     ]
    },
    {
     "name": "stdout",
     "output_type": "stream",
     "text": [
      "imagenet-mobilenet_v1_025_192-quantops-feature_vector failed. Link is https://tfhub.dev/google/imagenet/mobilenet_v1_025_192/quantops/feature_vector/1\n"
     ]
    },
    {
     "name": "stderr",
     "output_type": "stream",
     "text": [
      "\n",
      " 89%|█████████████████████████████████████████████████████████████████████▎        | 383/431 [2:59:20<16:24, 20.50s/it]"
     ]
    },
    {
     "name": "stdout",
     "output_type": "stream",
     "text": [
      "imagenet-mobilenet_v1_025_192-quantops-feature_vector failed. Link is https://tfhub.dev/google/imagenet/mobilenet_v1_025_192/quantops/feature_vector/3\n"
     ]
    },
    {
     "name": "stderr",
     "output_type": "stream",
     "text": [
      "\n",
      " 89%|█████████████████████████████████████████████████████████████████████▍        | 384/431 [2:59:21<11:29, 14.66s/it]"
     ]
    },
    {
     "name": "stdout",
     "output_type": "stream",
     "text": [
      "imagenet-inception_v1-classification failed. Link is https://tfhub.dev/google/imagenet/inception_v1/classification/1\n"
     ]
    },
    {
     "name": "stderr",
     "output_type": "stream",
     "text": [
      "\n",
      " 89%|█████████████████████████████████████████████████████████████████████▋        | 385/431 [2:59:28<09:27, 12.33s/it]"
     ]
    },
    {
     "name": "stdout",
     "output_type": "stream",
     "text": [
      "imagenet-inception_v1-classification failed. Link is https://tfhub.dev/google/imagenet/inception_v1/classification/3\n"
     ]
    },
    {
     "name": "stderr",
     "output_type": "stream",
     "text": [
      "\n",
      " 90%|█████████████████████████████████████████████████████████████████████▊        | 386/431 [2:59:35<08:02, 10.72s/it]"
     ]
    },
    {
     "name": "stdout",
     "output_type": "stream",
     "text": [
      "imagenet-mobilenet_v1_025_128-feature_vector failed. Link is https://tfhub.dev/google/imagenet/mobilenet_v1_025_128/feature_vector/1\n"
     ]
    },
    {
     "name": "stderr",
     "output_type": "stream",
     "text": [
      "\n",
      " 90%|██████████████████████████████████████████████████████████████████████        | 387/431 [2:59:37<05:51,  8.00s/it]"
     ]
    },
    {
     "name": "stdout",
     "output_type": "stream",
     "text": [
      "imagenet-mobilenet_v1_025_128-feature_vector failed. Link is https://tfhub.dev/google/imagenet/mobilenet_v1_025_128/feature_vector/3\n"
     ]
    },
    {
     "name": "stderr",
     "output_type": "stream",
     "text": [
      "\n",
      " 90%|██████████████████████████████████████████████████████████████████████▏       | 388/431 [2:59:38<04:15,  5.95s/it]"
     ]
    },
    {
     "name": "stdout",
     "output_type": "stream",
     "text": [
      "tf2-preview-inception_v3-classification failed. Link is https://tfhub.dev/google/tf2-preview/inception_v3/classification/1\n"
     ]
    },
    {
     "name": "stderr",
     "output_type": "stream",
     "text": [
      "\n",
      " 90%|██████████████████████████████████████████████████████████████████████▍       | 389/431 [3:00:00<07:34, 10.81s/it]"
     ]
    },
    {
     "name": "stdout",
     "output_type": "stream",
     "text": [
      "tf2-preview-inception_v3-classification failed. Link is https://tfhub.dev/google/tf2-preview/inception_v3/classification/2\n"
     ]
    },
    {
     "name": "stderr",
     "output_type": "stream",
     "text": [
      "\n",
      " 90%|██████████████████████████████████████████████████████████████████████▌       | 390/431 [3:00:20<09:18, 13.63s/it]"
     ]
    },
    {
     "name": "stdout",
     "output_type": "stream",
     "text": [
      "tf2-preview-inception_v3-classification failed. Link is https://tfhub.dev/google/tf2-preview/inception_v3/classification/3\n"
     ]
    },
    {
     "name": "stderr",
     "output_type": "stream",
     "text": [
      "\n",
      " 91%|██████████████████████████████████████████████████████████████████████▊       | 391/431 [3:00:41<10:35, 15.89s/it]"
     ]
    },
    {
     "name": "stdout",
     "output_type": "stream",
     "text": [
      "tf2-preview-inception_v3-classification failed. Link is https://tfhub.dev/google/tf2-preview/inception_v3/classification/4\n"
     ]
    },
    {
     "name": "stderr",
     "output_type": "stream",
     "text": [
      "\n",
      " 91%|██████████████████████████████████████████████████████████████████████▉       | 392/431 [3:01:01<11:10, 17.20s/it]"
     ]
    },
    {
     "name": "stdout",
     "output_type": "stream",
     "text": [
      "imagenet-mobilenet_v2_035_96-feature_vector failed. Link is https://tfhub.dev/google/imagenet/mobilenet_v2_035_96/feature_vector/1\n"
     ]
    },
    {
     "name": "stderr",
     "output_type": "stream",
     "text": [
      "\n",
      " 91%|███████████████████████████████████████████████████████████████████████       | 393/431 [3:01:04<08:02, 12.70s/it]"
     ]
    },
    {
     "name": "stdout",
     "output_type": "stream",
     "text": [
      "imagenet-mobilenet_v2_035_96-feature_vector failed. Link is https://tfhub.dev/google/imagenet/mobilenet_v2_035_96/feature_vector/2\n"
     ]
    },
    {
     "name": "stderr",
     "output_type": "stream",
     "text": [
      "\n",
      " 91%|███████████████████████████████████████████████████████████████████████▎      | 394/431 [3:01:05<05:48,  9.42s/it]"
     ]
    },
    {
     "name": "stdout",
     "output_type": "stream",
     "text": [
      "imagenet-mobilenet_v2_035_96-feature_vector failed. Link is https://tfhub.dev/google/imagenet/mobilenet_v2_035_96/feature_vector/3\n"
     ]
    },
    {
     "name": "stderr",
     "output_type": "stream",
     "text": [
      "\n",
      " 92%|███████████████████████████████████████████████████████████████████████▍      | 395/431 [3:01:07<04:14,  7.08s/it]"
     ]
    },
    {
     "name": "stdout",
     "output_type": "stream",
     "text": [
      "nnlm-zh-dim50-with-normalization failed. Link is https://tfhub.dev/google/nnlm-zh-dim50-with-normalization/1\n"
     ]
    },
    {
     "name": "stderr",
     "output_type": "stream",
     "text": [
      "\n",
      " 92%|███████████████████████████████████████████████████████████████████████▋      | 396/431 [3:01:51<10:34, 18.13s/it]"
     ]
    },
    {
     "name": "stdout",
     "output_type": "stream",
     "text": [
      "nnlm-es-dim50-with-normalization failed. Link is https://tfhub.dev/google/nnlm-es-dim50-with-normalization/1\n"
     ]
    },
    {
     "name": "stderr",
     "output_type": "stream",
     "text": [
      "\n",
      " 92%|███████████████████████████████████████████████████████████████████████▊      | 397/431 [3:02:35<14:45, 26.03s/it]"
     ]
    },
    {
     "name": "stdout",
     "output_type": "stream",
     "text": [
      "imagenet-mobilenet_v1_050_128-classification failed. Link is https://tfhub.dev/google/imagenet/mobilenet_v1_050_128/classification/1\n"
     ]
    },
    {
     "name": "stderr",
     "output_type": "stream",
     "text": [
      "\n",
      " 92%|████████████████████████████████████████████████████████████████████████      | 398/431 [3:02:38<10:21, 18.84s/it]"
     ]
    },
    {
     "name": "stdout",
     "output_type": "stream",
     "text": [
      "imagenet-mobilenet_v1_050_128-classification failed. Link is https://tfhub.dev/google/imagenet/mobilenet_v1_050_128/classification/3\n"
     ]
    },
    {
     "name": "stderr",
     "output_type": "stream",
     "text": [
      "\n",
      " 93%|████████████████████████████████████████████████████████████████████████▏     | 399/431 [3:02:39<07:21, 13.78s/it]"
     ]
    },
    {
     "name": "stdout",
     "output_type": "stream",
     "text": [
      "imagenet-mobilenet_v2_140_224-classification failed. Link is https://tfhub.dev/google/imagenet/mobilenet_v2_140_224/classification/1\n"
     ]
    },
    {
     "name": "stderr",
     "output_type": "stream",
     "text": [
      "\n",
      " 93%|████████████████████████████████████████████████████████████████████████▍     | 400/431 [3:02:47<06:07, 11.86s/it]"
     ]
    },
    {
     "name": "stdout",
     "output_type": "stream",
     "text": [
      "imagenet-mobilenet_v2_140_224-classification failed. Link is https://tfhub.dev/google/imagenet/mobilenet_v2_140_224/classification/2\n"
     ]
    },
    {
     "name": "stderr",
     "output_type": "stream",
     "text": [
      "\n",
      " 93%|████████████████████████████████████████████████████████████████████████▌     | 401/431 [3:02:54<05:11, 10.39s/it]"
     ]
    },
    {
     "name": "stdout",
     "output_type": "stream",
     "text": [
      "imagenet-mobilenet_v2_140_224-classification failed. Link is https://tfhub.dev/google/imagenet/mobilenet_v2_140_224/classification/3\n"
     ]
    },
    {
     "name": "stderr",
     "output_type": "stream",
     "text": [
      "\n",
      " 93%|████████████████████████████████████████████████████████████████████████▊     | 402/431 [3:03:01<04:34,  9.46s/it]"
     ]
    },
    {
     "name": "stdout",
     "output_type": "stream",
     "text": [
      "imagenet-mobilenet_v1_075_224-feature_vector failed. Link is https://tfhub.dev/google/imagenet/mobilenet_v1_075_224/feature_vector/1\n"
     ]
    },
    {
     "name": "stderr",
     "output_type": "stream",
     "text": [
      "\n",
      " 94%|████████████████████████████████████████████████████████████████████████▉     | 403/431 [3:03:03<03:25,  7.33s/it]"
     ]
    },
    {
     "name": "stdout",
     "output_type": "stream",
     "text": [
      "imagenet-mobilenet_v1_075_224-feature_vector failed. Link is https://tfhub.dev/google/imagenet/mobilenet_v1_075_224/feature_vector/3\n"
     ]
    },
    {
     "name": "stderr",
     "output_type": "stream",
     "text": [
      "\n",
      " 94%|█████████████████████████████████████████████████████████████████████████     | 404/431 [3:03:06<02:36,  5.81s/it]"
     ]
    },
    {
     "name": "stdout",
     "output_type": "stream",
     "text": [
      "bert_multi_cased_L-12_H-768_A-12 failed. Link is https://tfhub.dev/google/bert_multi_cased_L-12_H-768_A-12/1\n"
     ]
    },
    {
     "name": "stderr",
     "output_type": "stream",
     "text": [
      "\n",
      " 94%|█████████████████████████████████████████████████████████████████████████▎    | 405/431 [3:05:42<22:02, 50.85s/it]"
     ]
    },
    {
     "name": "stdout",
     "output_type": "stream",
     "text": [
      "imagenet-mobilenet_v1_025_160-quantops-classification failed. Link is https://tfhub.dev/google/imagenet/mobilenet_v1_025_160/quantops/classification/1\n"
     ]
    },
    {
     "name": "stderr",
     "output_type": "stream",
     "text": [
      "\n",
      " 94%|█████████████████████████████████████████████████████████████████████████▍    | 406/431 [3:05:43<14:59, 35.99s/it]"
     ]
    },
    {
     "name": "stdout",
     "output_type": "stream",
     "text": [
      "imagenet-mobilenet_v1_025_160-quantops-classification failed. Link is https://tfhub.dev/google/imagenet/mobilenet_v1_025_160/quantops/classification/3\n"
     ]
    },
    {
     "name": "stderr",
     "output_type": "stream",
     "text": [
      "\n",
      " 94%|█████████████████████████████████████████████████████████████████████████▋    | 407/431 [3:05:44<10:13, 25.58s/it]"
     ]
    },
    {
     "name": "stdout",
     "output_type": "stream",
     "text": [
      "compare_gan-model_5_celebahq128_resnet19 failed. Link is https://tfhub.dev/google/compare_gan/model_5_celebahq128_resnet19/1\n"
     ]
    },
    {
     "name": "stderr",
     "output_type": "stream",
     "text": [
      "\n",
      " 95%|█████████████████████████████████████████████████████████████████████████▊    | 408/431 [3:07:01<15:39, 40.86s/it]"
     ]
    },
    {
     "name": "stdout",
     "output_type": "stream",
     "text": [
      "Wiki-words-500-with-normalization failed. Link is https://tfhub.dev/google/Wiki-words-500-with-normalization/1\n"
     ]
    },
    {
     "name": "stderr",
     "output_type": "stream",
     "text": [
      "\n",
      " 95%|█████████████████████████████████████████████████████████████████████████    | 409/431 [3:14:24<59:16, 161.64s/it]"
     ]
    },
    {
     "name": "stdout",
     "output_type": "stream",
     "text": [
      "imagenet-nasnet_large-feature_vector failed. Link is https://tfhub.dev/google/imagenet/nasnet_large/feature_vector/1\n"
     ]
    },
    {
     "name": "stderr",
     "output_type": "stream",
     "text": [
      "\n",
      " 95%|█████████████████████████████████████████████████████████████████████████▏   | 410/431 [3:15:47<48:20, 138.12s/it]"
     ]
    },
    {
     "name": "stdout",
     "output_type": "stream",
     "text": [
      "imagenet-nasnet_large-feature_vector failed. Link is https://tfhub.dev/google/imagenet/nasnet_large/feature_vector/3\n"
     ]
    },
    {
     "name": "stderr",
     "output_type": "stream",
     "text": [
      "\n",
      " 95%|█████████████████████████████████████████████████████████████████████████▍   | 411/431 [3:17:06<40:06, 120.32s/it]"
     ]
    },
    {
     "name": "stdout",
     "output_type": "stream",
     "text": [
      "nnlm-zh-dim50 failed. Link is https://tfhub.dev/google/nnlm-zh-dim50/1\n"
     ]
    },
    {
     "name": "stderr",
     "output_type": "stream",
     "text": [
      "\n",
      " 96%|██████████████████████████████████████████████████████████████████████████▌   | 412/431 [3:17:49<30:44, 97.07s/it]"
     ]
    },
    {
     "name": "stdout",
     "output_type": "stream",
     "text": [
      "Wiki-words-250-with-normalization failed. Link is https://tfhub.dev/google/Wiki-words-250-with-normalization/1\n"
     ]
    },
    {
     "name": "stderr",
     "output_type": "stream",
     "text": [
      "\n",
      " 96%|█████████████████████████████████████████████████████████████████████████▊   | 413/431 [3:21:27<40:00, 133.38s/it]"
     ]
    },
    {
     "name": "stdout",
     "output_type": "stream",
     "text": [
      "imagenet-mobilenet_v1_050_192-quantops-classification failed. Link is https://tfhub.dev/google/imagenet/mobilenet_v1_050_192/quantops/classification/1\n"
     ]
    },
    {
     "name": "stderr",
     "output_type": "stream",
     "text": [
      "\n",
      " 96%|██████████████████████████████████████████████████████████████████████████▉   | 414/431 [3:21:29<26:36, 93.92s/it]"
     ]
    },
    {
     "name": "stdout",
     "output_type": "stream",
     "text": [
      "imagenet-mobilenet_v1_050_192-quantops-classification failed. Link is https://tfhub.dev/google/imagenet/mobilenet_v1_050_192/quantops/classification/3\n"
     ]
    },
    {
     "name": "stderr",
     "output_type": "stream",
     "text": [
      "\n",
      " 96%|███████████████████████████████████████████████████████████████████████████   | 415/431 [3:21:31<17:40, 66.28s/it]"
     ]
    },
    {
     "name": "stdout",
     "output_type": "stream",
     "text": [
      "imagenet-mobilenet_v2_075_96-classification failed. Link is https://tfhub.dev/google/imagenet/mobilenet_v2_075_96/classification/1\n"
     ]
    },
    {
     "name": "stderr",
     "output_type": "stream",
     "text": [
      "\n",
      " 97%|███████████████████████████████████████████████████████████████████████████▎  | 416/431 [3:21:35<11:54, 47.65s/it]"
     ]
    },
    {
     "name": "stdout",
     "output_type": "stream",
     "text": [
      "imagenet-mobilenet_v2_075_96-classification failed. Link is https://tfhub.dev/google/imagenet/mobilenet_v2_075_96/classification/2\n"
     ]
    },
    {
     "name": "stderr",
     "output_type": "stream",
     "text": [
      "\n",
      " 97%|███████████████████████████████████████████████████████████████████████████▍  | 417/431 [3:21:39<08:04, 34.63s/it]"
     ]
    },
    {
     "name": "stdout",
     "output_type": "stream",
     "text": [
      "imagenet-mobilenet_v2_075_96-classification failed. Link is https://tfhub.dev/google/imagenet/mobilenet_v2_075_96/classification/3\n"
     ]
    },
    {
     "name": "stderr",
     "output_type": "stream",
     "text": [
      "\n",
      " 97%|███████████████████████████████████████████████████████████████████████████▋  | 418/431 [3:21:44<05:32, 25.56s/it]"
     ]
    },
    {
     "name": "stdout",
     "output_type": "stream",
     "text": [
      "imagenet-mobilenet_v1_075_224-quantops-classification failed. Link is https://tfhub.dev/google/imagenet/mobilenet_v1_075_224/quantops/classification/1\n"
     ]
    },
    {
     "name": "stderr",
     "output_type": "stream",
     "text": [
      "\n",
      " 97%|███████████████████████████████████████████████████████████████████████████▊  | 419/431 [3:21:47<03:47, 19.00s/it]"
     ]
    },
    {
     "name": "stdout",
     "output_type": "stream",
     "text": [
      "imagenet-mobilenet_v1_075_224-quantops-classification failed. Link is https://tfhub.dev/google/imagenet/mobilenet_v1_075_224/quantops/classification/3\n"
     ]
    },
    {
     "name": "stderr",
     "output_type": "stream",
     "text": [
      "\n",
      " 97%|████████████████████████████████████████████████████████████████████████████  | 420/431 [3:21:51<02:38, 14.38s/it]"
     ]
    },
    {
     "name": "stdout",
     "output_type": "stream",
     "text": [
      "imagenet-mobilenet_v1_100_128-classification failed. Link is https://tfhub.dev/google/imagenet/mobilenet_v1_100_128/classification/1\n"
     ]
    },
    {
     "name": "stderr",
     "output_type": "stream",
     "text": [
      "\n",
      " 98%|████████████████████████████████████████████████████████████████████████████▏ | 421/431 [3:21:56<01:54, 11.44s/it]"
     ]
    },
    {
     "name": "stdout",
     "output_type": "stream",
     "text": [
      "imagenet-mobilenet_v1_100_128-classification failed. Link is https://tfhub.dev/google/imagenet/mobilenet_v1_100_128/classification/3\n"
     ]
    },
    {
     "name": "stderr",
     "output_type": "stream",
     "text": [
      "\n",
      " 98%|████████████████████████████████████████████████████████████████████████████▎ | 422/431 [3:22:00<01:23,  9.33s/it]"
     ]
    },
    {
     "name": "stdout",
     "output_type": "stream",
     "text": [
      "bert_uncased_L-24_H-1024_A-16 failed. Link is https://tfhub.dev/google/bert_uncased_L-24_H-1024_A-16/1\n"
     ]
    },
    {
     "name": "stderr",
     "output_type": "stream",
     "text": [
      "\n",
      " 98%|████████████████████████████████████████████████████████████████████████████▌ | 423/431 [3:27:04<13:01, 97.68s/it]"
     ]
    },
    {
     "name": "stdout",
     "output_type": "stream",
     "text": [
      "nnlm-ko-dim50 failed. Link is https://tfhub.dev/google/nnlm-ko-dim50/1\n"
     ]
    },
    {
     "name": "stderr",
     "output_type": "stream",
     "text": [
      "\n",
      " 98%|████████████████████████████████████████████████████████████████████████████▋ | 424/431 [3:27:44<09:24, 80.58s/it]"
     ]
    },
    {
     "name": "stdout",
     "output_type": "stream",
     "text": [
      "nnlm-en-dim128 failed. Link is https://tfhub.dev/google/nnlm-en-dim128/1\n"
     ]
    },
    {
     "name": "stderr",
     "output_type": "stream",
     "text": [
      "\n",
      " 99%|████████████████████████████████████████████████████████████████████████████▉ | 425/431 [3:29:32<08:51, 88.65s/it]"
     ]
    },
    {
     "name": "stdout",
     "output_type": "stream",
     "text": [
      "universal-sentence-encoder-xling-en-de failed. Link is https://tfhub.dev/google/universal-sentence-encoder-xling/en-de/1\n"
     ]
    },
    {
     "name": "stderr",
     "output_type": "stream",
     "text": [
      "\n",
      " 99%|█████████████████████████████████████████████████████████████████████████████ | 426/431 [3:31:04<07:28, 89.68s/it]"
     ]
    },
    {
     "name": "stdout",
     "output_type": "stream",
     "text": [
      "compare_gan-model_1_celebahq128_resnet19 failed. Link is https://tfhub.dev/google/compare_gan/model_1_celebahq128_resnet19/1\n"
     ]
    },
    {
     "name": "stderr",
     "output_type": "stream",
     "text": [
      "\n",
      " 99%|█████████████████████████████████████████████████████████████████████████████▎| 427/431 [3:32:19<05:41, 85.30s/it]"
     ]
    },
    {
     "name": "stdout",
     "output_type": "stream",
     "text": [
      "imagenet-mobilenet_v2_035_224-feature_vector failed. Link is https://tfhub.dev/google/imagenet/mobilenet_v2_035_224/feature_vector/1\n"
     ]
    },
    {
     "name": "stderr",
     "output_type": "stream",
     "text": [
      "\n",
      " 99%|█████████████████████████████████████████████████████████████████████████████▍| 428/431 [3:32:21<03:00, 60.30s/it]"
     ]
    },
    {
     "name": "stdout",
     "output_type": "stream",
     "text": [
      "imagenet-mobilenet_v2_035_224-feature_vector failed. Link is https://tfhub.dev/google/imagenet/mobilenet_v2_035_224/feature_vector/2\n"
     ]
    },
    {
     "name": "stderr",
     "output_type": "stream",
     "text": [
      "\n",
      "100%|█████████████████████████████████████████████████████████████████████████████▋| 429/431 [3:32:23<01:25, 42.77s/it]"
     ]
    },
    {
     "name": "stdout",
     "output_type": "stream",
     "text": [
      "imagenet-mobilenet_v2_035_224-feature_vector failed. Link is https://tfhub.dev/google/imagenet/mobilenet_v2_035_224/feature_vector/3\n"
     ]
    },
    {
     "name": "stderr",
     "output_type": "stream",
     "text": [
      "\n",
      "100%|█████████████████████████████████████████████████████████████████████████████▊| 430/431 [3:32:25<00:30, 30.42s/it]"
     ]
    },
    {
     "name": "stdout",
     "output_type": "stream",
     "text": [
      "Wiki-words-250 failed. Link is https://tfhub.dev/google/Wiki-words-250/1\n"
     ]
    },
    {
     "name": "stderr",
     "output_type": "stream",
     "text": [
      "\n",
      "100%|██████████████████████████████████████████████████████████████████████████████| 431/431 [3:36:09<00:00, 88.62s/it]\n"
     ]
    }
   ],
   "source": [
    "def download_models_for_TFModule():\n",
    "    import tensorflow_hub as hub\n",
    "    asset_type = \"TFModule\"\n",
    "    with open(os.path.join(download_store, \"{}_Info.json\".format(asset_type))) as at:\n",
    "        items = json.load(at)\n",
    "    num = 0\n",
    "    for item in tqdm.tqdm(items):\n",
    "        name = item[\"name\"]\n",
    "        version = item[\"version\"]\n",
    "        file_link = item[\"info\"][1][9]\n",
    "        num += 1\n",
    "#         print(f\"{num}. {name} version {version}\")\n",
    "        if num <= 52:\n",
    "            continue\n",
    "        try: \n",
    "            file_dir = os.path.join(download_store, asset_type, name, \"file\", f\"{version}\")\n",
    "            if not os.path.exists(file_dir):\n",
    "                os.makedirs(file_dir)\n",
    "            os.environ[\"TFHUB_CACHE_DIR\"] = file_dir\n",
    "\n",
    "            m = hub.Module(file_link)\n",
    "            ### if you want to export the module, you can export the \"m\" in a session\n",
    "            ### but this is not necessary.\n",
    "            # with tf.Session() as sess:\n",
    "            #     sess.run(tf.global_variables_initializer())\n",
    "            #     m.export(\"heheda\", sess)\n",
    "        except:\n",
    "            print(\"{} failed. Link is {}\".format(name, file_link))\n",
    "            continue\n",
    "\n",
    "download_models_for_TFModule()"
   ]
  },
  {
   "cell_type": "code",
   "execution_count": null,
   "metadata": {},
   "outputs": [],
   "source": []
  },
  {
   "cell_type": "markdown",
   "metadata": {},
   "source": [
    "## Another way to download notebook. \n",
    "* this method need to login google account. "
   ]
  },
  {
   "cell_type": "code",
   "execution_count": 16,
   "metadata": {},
   "outputs": [],
   "source": [
    "# class HeadlessGoogle(object):\n",
    "#     # 原文：https://blog.csdn.net/lilongsy/article/details/80531378\n",
    "#     download_store_in_class = os.path.join(DOWNLOAD_STORE, \"full\")\n",
    "#     driver = None\n",
    "#     req_count = 0\n",
    "#     req_limit = 100\n",
    "#\n",
    "#     def __init__(self):\n",
    "#         self.open_driver(dir=self.download_store_in_class)\n",
    "#\n",
    "#     def process_request(self, url, ):\n",
    "#         print(\"the website is {}\".format(url))\n",
    "#         rendered_body = None\n",
    "#         try:\n",
    "#             print(\"Getting info with Browser...可耻壮怀自损，难堪岁月徒添\")  # 浓墨饱蘸绛唇点。。。\n",
    "#             self.driver.get(url)\n",
    "#             # else:\n",
    "#             # self.driver.execute_script(\"scroll(0, 1000);\")\n",
    "#             time.sleep(2)\n",
    "#             print(\"Rendering webpage...奈何眠浅梦难成，余恨犹生\")  # 点睛笔歇神自来。。。\n",
    "#             rendered_body = self.driver.page_source\n",
    "#             self.req_count += 1\n",
    "#             print(\"request count: \", self.req_count)\n",
    "#             if self.req_count >= self.req_limit:\n",
    "#                 self.req_count = 0\n",
    "#                 print(\"Reach the limit of request call...大事牺身终不悔，小情若纵必烦忧\")  # 酒席散尽人不寐\n",
    "#                 self.close_driver()\n",
    "#                 # time.sleep(60)\n",
    "#                 print(\"Restarting the browser...来者当追，重回正轨\")  # 念念不忘终复还\n",
    "#                 self.open_driver()\n",
    "#         except:\n",
    "#             # except TimeoutException as ex:\n",
    "#             print(\"fail to get the page: {}\".format(url))\n",
    "#             time.sleep(3)\n",
    "#             self.req_count = 0\n",
    "#             print(\"Reach the limit of request call...大事牺身终不悔，小情若纵必烦忧\")  # 酒席散尽人不寐\n",
    "#             self.close_driver()\n",
    "#             # time.sleep(60)\n",
    "#             print(\"Restarting the browser...来者当追，重回正轨\")  # 念念不忘终复还\n",
    "#             self.open_driver()\n",
    "#         finally:\n",
    "#             return rendered_body\n",
    "#\n",
    "#     def spider_closed(self, spider, reason):\n",
    "#         print('一轮弯月，一剑西来，一声笑傲，一路平安')\n",
    "#         self.close_driver()\n",
    "#\n",
    "#     def close_driver(self):\n",
    "#         ## 2019年5月8日\n",
    "#         ## just try to use driver.quit() instead of driver.close()\n",
    "#         # self.driver.close()\n",
    "#         self.driver.quit()\n",
    "#\n",
    "#     def download_file(self, url, origin_file_name, target_dir, target_file_name):\n",
    "#         self.driver.get(url)\n",
    "#\n",
    "#         def downloads_done(dir):\n",
    "#             for i in os.listdir(dir):\n",
    "#                 if \".crdownload\" in i:\n",
    "#                     return False\n",
    "#             return True\n",
    "#\n",
    "#         #detect whether the file is downloaded\n",
    "#         while True:\n",
    "#             if downloads_done(self.download_store_in_class):\n",
    "#                 print(\"{} of downloaded complete.....\".format(\"notebook\"))\n",
    "#                 break\n",
    "#             else:\n",
    "#                 print(\"{} of download hasn't complete yet. \".format(\"notebook\"))\n",
    "#                 time.sleep(2)\n",
    "#\n",
    "#         # move the file to where it should be.\n",
    "#         shutil.move(\n",
    "#             os.path.join(self.download_store_in_class, origin_file_name),\n",
    "#             os.path.join(target_dir, target_file_name)\n",
    "#         )\n",
    "#\n",
    "#         return\n",
    "#\n",
    "#     def open_driver(self, dir = os.getcwd()):\n",
    "#         chromeOptions = webdriver.ChromeOptions()\n",
    "#         # used_ip = random.choice(IPPOOL)\n",
    "#         # print(f\"Currently used IP: {used_ip}\")\n",
    "#         # chromeOptions.add_argument(f\"--proxy={used_ip}\")  # proxy\n",
    "#         # print(f\"Currently used user agent: {random.choice(USER_AGENT_LIST)}\")\n",
    "#         # chromeOptions.add_argument(f'user-agent=\"{random.choice(USER_AGENT_LIST)}\"')  # setting the user agent\n",
    "#         # chromeOptions.add_argument('--headless')# use headless mode\n",
    "#         prefs = {'profile.default_content_settings.popups': 1,\n",
    "#                  'download.default_directory': dir,\n",
    "#                  \"download.extensions_to_open\": \"applications/zip\"}\n",
    "#         chromeOptions.add_experimental_option('prefs', prefs)\n",
    "#         chromeOptions.add_argument(\n",
    "#             '--disable-application-cache')  # no cache will be stored. Otherwise some memory leaking will be caused\n",
    "#         self.driver = webdriver.Chrome(executable_path=CHROME_PATH,\n",
    "#                                        chrome_options=chromeOptions)\n",
    "#\n",
    "#         self.driver.set_page_load_timeout(30)\n",
    "#\n",
    "#     def login(self, url):\n",
    "#         self.driver.get(url)\n",
    "#         time.sleep(1)\n",
    "#         self.driver.get(url)\n",
    "#         login_button = self.driver.find_element_by_xpath('//button[text()=\"Log In\"]')\n",
    "#         login_button.click()\n",
    "#         return\n",
    "## useless\n",
    "# browser = HeadlessGoogle()\n",
    "# browser.download_file(\n",
    "#     url = \"https://aihub.cloud.google.com/p/products%2Fec58b241-50d4-45e4-a673-4cfffceec8b3/v/1/downloadpage\",\n",
    "#     origin_file_name= \"text_generation.ipynb\",\n",
    "#     target_dir=\"j://\",\n",
    "#     target_file_name=\"test\"\n",
    "#\n",
    "# )"
   ]
  }
 ],
 "metadata": {
  "kernelspec": {
   "display_name": "Python 3",
   "language": "python",
   "name": "python3"
  },
  "language_info": {
   "codemirror_mode": {
    "name": "ipython",
    "version": 3
   },
   "file_extension": ".py",
   "mimetype": "text/x-python",
   "name": "python",
   "nbconvert_exporter": "python",
   "pygments_lexer": "ipython3",
   "version": "3.6.5"
  }
 },
 "nbformat": 4,
 "nbformat_minor": 1
}
