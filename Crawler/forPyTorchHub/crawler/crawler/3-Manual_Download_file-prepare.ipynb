{
 "cells": [
  {
   "cell_type": "code",
   "execution_count": 1,
   "metadata": {},
   "outputs": [
    {
     "name": "stdout",
     "output_type": "stream",
     "text": [
      "AlexNet\n",
      "DCGAN on FashionGen\n",
      "Deeplabv3-ResNet101\n",
      "Densenet\n",
      "FCN-ResNet101\n",
      "GoogLeNet\n",
      "HarDNet\n",
      "Inception_v3\n",
      "MobileNet v2\n",
      "Progressive Growing of GANs (PGAN)\n",
      "ProxylessNAS\n",
      "PyTorch-Transformers\n",
      "ResNet\n",
      "ResNext\n",
      "ResNext WSL\n",
      "RoBERTa\n",
      "Semi-supervised and semi-weakly supervised ImageNet Models\n",
      "ShuffleNet v2\n",
      "SqueezeNet\n",
      "SSD\n",
      "Tacotron 2\n",
      "Transformer (NMT)\n",
      "U-Net for brain MRI\n",
      "vgg-nets\n",
      "WaveGlow\n",
      "Wide ResNet\n"
     ]
    }
   ],
   "source": [
    "import torch, os, shutil\n",
    "\n",
    "for f in os.listdir(r\"J:\\ModelStoreData\\PyTorchHub\\2020-01-07\\files\"):\n",
    "    print(f)"
   ]
  },
  {
   "cell_type": "code",
   "execution_count": null,
   "metadata": {},
   "outputs": [],
   "source": [
    "FROM_DIR = r\"C:\\Users\\xmk233\\.cache\\torch\"\n",
    "FILE_PATH = r\"J:\\ModelStoreData\\PyTorchHub\\2020-01-07\\files\"\n",
    "def test():\n",
    "    ## \n",
    "    model_name = \"Wide ResNet\"\n",
    "    ## \n",
    "    # load WRN-50-2:\n",
    "    model1 = torch.hub.load('pytorch/vision:v0.4.2', 'wide_resnet50_2', pretrained=True)\n",
    "    # or WRN-101-2\n",
    "    model2 = torch.hub.load('pytorch/vision:v0.4.2', 'wide_resnet101_2', pretrained=True)\n",
    "    model1.eval()\n",
    "    model2.eval()\n",
    "    ######\n",
    "    shutil.move(FROM_DIR, os.path.join(FILE_PATH, model_name, \"torch\"))\n",
    "    return\n",
    "\n",
    "test()"
   ]
  }
 ],
 "metadata": {
  "kernelspec": {
   "display_name": "Python 3",
   "language": "python",
   "name": "python3"
  },
  "language_info": {
   "codemirror_mode": {
    "name": "ipython",
    "version": 3
   },
   "file_extension": ".py",
   "mimetype": "text/x-python",
   "name": "python",
   "nbconvert_exporter": "python",
   "pygments_lexer": "ipython3",
   "version": "3.6.8"
  }
 },
 "nbformat": 4,
 "nbformat_minor": 2
}
