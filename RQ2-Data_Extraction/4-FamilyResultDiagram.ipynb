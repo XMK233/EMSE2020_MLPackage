{
 "cells": [
  {
   "cell_type": "markdown",
   "metadata": {},
   "source": [
    "## Plot the diagram"
   ]
  },
  {
   "cell_type": "code",
   "execution_count": 9,
   "metadata": {},
   "outputs": [],
   "source": [
    "import os\n",
    "import pandas as pd\n",
    "import matplotlib.pyplot as plt\n",
    "import numpy as np\n",
    "all_data=[np.random.normal(0,std,100) for std in range(1,4)]"
   ]
  },
  {
   "cell_type": "code",
   "execution_count": 11,
   "metadata": {},
   "outputs": [
    {
     "name": "stdout",
     "output_type": "stream",
     "text": [
      "audio-embedding nonsemantic-speech-benchmark-trill 2\n",
      "image-classification EfficientNet 13\n",
      "image-classification Inception V3 2\n",
      "image-classification MobileNet V1 32\n",
      "image-classification MobileNet V2 23\n",
      "image-classification NasNet 2\n",
      "image-classification ResNet V1 4\n",
      "image-classification ResNet V2 3\n",
      "image-feature-vector EfficientNet 13\n",
      "image-feature-vector examplar 2\n",
      "image-feature-vector Inception V3 2\n",
      "image-feature-vector MobileNet V1 32\n",
      "image-feature-vector MobileNet V2 23\n",
      "image-feature-vector NasNet 2\n",
      "image-feature-vector remote_sensing-eurosat-resnet50 2\n",
      "image-feature-vector remote_sensing-so2sat-resnet50 2\n",
      "image-feature-vector ResNet V1 4\n",
      "image-feature-vector ResNet V2 3\n",
      "image-feature-vector rotation 2\n",
      "image-feature-vector wae 2\n",
      "image-generator BigBiGAN 2\n",
      "image-generator BigGAN 6\n",
      "image-generator CompareGAN-celebahq128 5\n",
      "image-generator CompareGAN-cifar 5\n",
      "image-generator CompareGAN-lsun 5\n",
      "image-generator CompareGAN-S3GAN 5\n",
      "image-rnn-agent SPIRAL 10\n",
      "image-segmentation UNet 10\n",
      "text-embedding ALBERT 9\n",
      "text-embedding BERT 12\n",
      "text-embedding NNLM-de 8\n",
      "text-embedding NNLM-en 10\n",
      "text-embedding NNLM-es 8\n",
      "text-embedding NNLM-id 8\n",
      "text-embedding NNLM-ja 8\n",
      "text-embedding NNLM-ko 8\n",
      "text-embedding NNLM-zh 8\n",
      "text-embedding Swivel 2\n",
      "text-embedding USE 3\n",
      "text-embedding USE-Multilingual 2\n",
      "text-embedding Word2Vec 4\n",
      "text-question-answering BERT-nq 3\n",
      "video-text MIL-NCE 2\n",
      "383\n",
      "There are 43 families in total. There are 313 family members.\n"
     ]
    }
   ],
   "source": [
    "def countFamilyMemberNumber(path):\n",
    "    \n",
    "    standAloneModels = []\n",
    "    familyCount = 0\n",
    "    familyMemberCount = 0\n",
    "    \n",
    "    for tasktype in os.listdir(path):\n",
    "        taskTypeFolder = os.path.join(path, tasktype)\n",
    "        for family in os.listdir(taskTypeFolder):\n",
    "            familyFolder = os.path.join(taskTypeFolder, family)\n",
    "            ### those files are not in any families.\n",
    "            if not os.path.isdir(familyFolder):\n",
    "                if \".md\" in familyFolder:\n",
    "                    standAloneModels.append(familyFolder)\n",
    "                continue \n",
    "            ### \"NNLM\" family is special. \n",
    "            if family == \"NNLM\" or family == \"CompareGAN\":\n",
    "                for language in os.listdir(familyFolder):\n",
    "                    familySubFolder = os.path.join(familyFolder, language)\n",
    "                    members = []\n",
    "                    for md in os.listdir(familySubFolder):\n",
    "                        if \".md\" in md:\n",
    "                            members.append(md)\n",
    "                    familyMemberCount += len(members)\n",
    "                    print(tasktype, \"{}-{}\".format(family, language), len(members))\n",
    "                    familyCount += 1\n",
    "            ### other families are counted like this. \n",
    "            else:\n",
    "                members = []\n",
    "                for md in os.listdir(familyFolder):\n",
    "                    if \".md\" in md:\n",
    "                        members.append(md)\n",
    "                familyMemberCount += len(members)\n",
    "                print(tasktype, family, len(members))\n",
    "                familyCount += 1\n",
    "    ## verify the total amount of models. \n",
    "    print(len(standAloneModels) + familyMemberCount)\n",
    "    print(\"There are {} families in total. There are {} family members.\".format(familyCount, familyMemberCount))\n",
    "    return \n",
    "\n",
    "countFamilyMemberNumber(r\"J:\\EMSE2020_MLPackage\\RQ2-Data_Extraction\\family_grouping-final\")"
   ]
  },
  {
   "cell_type": "markdown",
   "metadata": {},
   "source": [
    "### Manually generate 2 files: `TFHub.csv`, `PTHub.csv` from the family grouping result. "
   ]
  },
  {
   "cell_type": "code",
   "execution_count": 12,
   "metadata": {},
   "outputs": [],
   "source": [
    "aihub = pd.read_csv(\"TFHub.csv\")\n",
    "# aihub"
   ]
  },
  {
   "cell_type": "code",
   "execution_count": 13,
   "metadata": {},
   "outputs": [
    {
     "data": {
      "text/plain": [
       "1    13\n",
       "2     2\n",
       "3    32\n",
       "4    23\n",
       "5     2\n",
       "6     4\n",
       "7     3\n",
       "Name: Num, dtype: int64"
      ]
     },
     "execution_count": 13,
     "metadata": {},
     "output_type": "execute_result"
    }
   ],
   "source": [
    "aihub[aihub[\"Task Type\"] == \"IC\"][\"Num\"]"
   ]
  },
  {
   "cell_type": "code",
   "execution_count": 14,
   "metadata": {},
   "outputs": [],
   "source": [
    "pthub = pd.read_csv(\"PTHub.csv\")\n",
    "# pthub"
   ]
  },
  {
   "cell_type": "raw",
   "metadata": {},
   "source": [
    "cvTaskTypes = [\n",
    "    \"IC\", \"IV\",\"IG\",\"VU\",\"OD\"\n",
    "]\n",
    "aihub[aihub[\"Task Type\"].isin(cvTaskTypes)]\n"
   ]
  },
  {
   "cell_type": "code",
   "execution_count": 15,
   "metadata": {},
   "outputs": [
    {
     "data": {
      "image/png": "[encoded data removed]",
      "text/plain": [
       "<Figure size 1080x432 with 1 Axes>"
      ]
     },
     "metadata": {},
     "output_type": "display_data"
    }
   ],
   "source": [
    "## https://stackoverflow.com/questions/16592222/matplotlib-group-boxplots\n",
    "import matplotlib.pyplot as plt\n",
    "import numpy as np\n",
    "\n",
    "# data_aihub = (\n",
    "#     np.log(aihub[aihub[\"Task Type\"] == \"IC\"][\"Num\"]),\n",
    "#     np.log(aihub[aihub[\"Task Type\"] == \"IV\"][\"Num\"]),\n",
    "#     np.log(aihub[aihub[\"Task Type\"] == \"IG\"][\"Num\"]), \n",
    "#     np.log(aihub[aihub[\"Task Type\"] == \"TE\"][\"Num\"]), \n",
    "#     np.log(aihub[aihub[\"Task Type\"] == \"VU\"][\"Num\"]),\n",
    "#     np.log(aihub[aihub[\"Task Type\"] == \"OD\"][\"Num\"]), \n",
    "# )\n",
    "\n",
    "# data_pthub = (\n",
    "#     np.log(pthub[pthub[\"Task Type\"] == \"IC\"][\"Num\"]),\n",
    "#     np.log(pthub[pthub[\"Task Type\"] == \"IV\"][\"Num\"]),\n",
    "#     np.log(pthub[pthub[\"Task Type\"] == \"IG\"][\"Num\"]),\n",
    "#     np.log(pthub[pthub[\"Task Type\"] == \"TE\"][\"Num\"]),\n",
    "#     np.log(pthub[pthub[\"Task Type\"] == \"VU\"][\"Num\"]),\n",
    "#     np.log(pthub[pthub[\"Task Type\"] == \"OD\"][\"Num\"]),\n",
    "# )\n",
    "\n",
    "# ticks = ['Image Classification', 'Image Feature Vector', 'Image Generation', 'Text Embedding', 'Video Understanding', 'Object Detection']\n",
    "\n",
    "data_aihub = (\n",
    "    np.log(aihub[(aihub[\"Task Type\"] == \"AE\")][\"Num\"]), \n",
    "    \n",
    "    np.log(aihub[(aihub[\"Task Type\"] == \"IC\") | \n",
    "                 (aihub[\"Task Type\"] == \"IV\") | \n",
    "                 (aihub[\"Task Type\"] == \"IG\") | \n",
    "                 (aihub[\"Task Type\"] == \"IS\") |\n",
    "                 (aihub[\"Task Type\"] == \"VU\") | \n",
    "                 (aihub[\"Task Type\"] == \"OD\")][\"Num\"]),\n",
    "    \n",
    "    np.log(aihub[(aihub[\"Task Type\"] == \"TE\") |\n",
    "                 (aihub[\"Task Type\"] == \"TQA\")][\"Num\"]), \n",
    ")\n",
    "\n",
    "data_pthub = ( \n",
    "    np.log(pthub[(pthub[\"Task Type\"] == \"AE\")][\"Num\"]), \n",
    "    \n",
    "    np.log(pthub[(pthub[\"Task Type\"] == \"IC\") | \n",
    "                 (pthub[\"Task Type\"] == \"IV\") |\n",
    "                 (pthub[\"Task Type\"] == \"IG\") | \n",
    "                 (pthub[\"Task Type\"] == \"IS\") |\n",
    "                 (pthub[\"Task Type\"] == \"VU\") | \n",
    "                 (pthub[\"Task Type\"] == \"OD\")][\"Num\"]),\n",
    "    \n",
    "    np.log(pthub[(pthub[\"Task Type\"] == \"TE\") |\n",
    "                 (pthub[\"Task Type\"] == \"TQA\")][\"Num\"]), \n",
    ")\n",
    "\n",
    "ticks = [\"Audio Processing\", \"Computer Vision\", \"Natural Language Processing\"]\n",
    "\n",
    "def set_box_color(bp, color):\n",
    "    plt.setp(bp['boxes'], color=color)\n",
    "    plt.setp(bp['whiskers'], color=color)\n",
    "    plt.setp(bp['caps'], color=color)\n",
    "    plt.setp(bp['medians'], color=color)\n",
    "\n",
    "plt.figure(figsize=(15, 6))\n",
    "\n",
    "bp1 = plt.boxplot(data_aihub, positions=np.array(range(len(data_aihub)))*2.0-0.4, sym='', widths=0.2)\n",
    "bp2 = plt.boxplot(data_pthub, positions=np.array(range(len(data_pthub)))*2.0+0.4, sym='', widths=0.2)\n",
    "\n",
    "set_box_color(bp1, '#D7191C') # colors are from http://colorbrewer2.org/\n",
    "set_box_color(bp2, '#2C7BB6')\n",
    "\n",
    "# draw temporary red and blue lines and use them to create a legend\n",
    "plt.plot([], c='#D7191C', label='TFHub')\n",
    "plt.plot([], c='#2C7BB6', label='Pytorch Hub')\n",
    "plt.legend(fontsize = 15)\n",
    "\n",
    "plt.xticks(range(0, len(ticks) * 2, 2), ticks)\n",
    "plt.xticks(fontsize=15)\n",
    "plt.xlim(-2, len(ticks)*2)\n",
    "plt.ylim(0, 4)\n",
    "plt.yticks(fontsize=15)\n",
    "# plt.tight_layout()\n",
    "# plt.show()\n",
    "plt.savefig(\"familyNumDistribution_appDomain.pdf\")"
   ]
  },
  {
   "cell_type": "code",
   "execution_count": null,
   "metadata": {},
   "outputs": [],
   "source": []
  }
 ],
 "metadata": {
  "kernelspec": {
   "display_name": "Python 3",
   "language": "python",
   "name": "python3"
  },
  "language_info": {
   "codemirror_mode": {
    "name": "ipython",
    "version": 3
   },
   "file_extension": ".py",
   "mimetype": "text/x-python",
   "name": "python",
   "nbconvert_exporter": "python",
   "pygments_lexer": "ipython3",
   "version": "3.6.8"
  }
 },
 "nbformat": 4,
 "nbformat_minor": 2
}
