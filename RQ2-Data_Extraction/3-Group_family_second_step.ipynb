{
 "cells": [
  {
   "cell_type": "markdown",
   "metadata": {},
   "source": [
    "Need to run `1_xxx.ipynb` first. "
   ]
  },
  {
   "cell_type": "markdown",
   "metadata": {},
   "source": [
    "## Group descriptions according to families"
   ]
  },
  {
   "cell_type": "code",
   "execution_count": 4,
   "metadata": {},
   "outputs": [],
   "source": [
    "import os, json, difflib\n",
    "from pprint import pprint\n",
    "import pandas as pd"
   ]
  },
  {
   "cell_type": "code",
   "execution_count": 5,
   "metadata": {},
   "outputs": [],
   "source": [
    "table = pd.read_csv(r\"sorted.csv\")\n",
    "def find_info_for_module(table, module, column):\n",
    "#     try:\n",
    "    return (table[table[\"name\"] == module][column].tolist()[0])\n",
    "#     except:\n",
    "#         print(module)\n",
    "# find_info_for_module(table, \"efficientnet-b3-classification\", \"module_type\")"
   ]
  },
  {
   "cell_type": "code",
   "execution_count": 6,
   "metadata": {},
   "outputs": [],
   "source": [
    "def family_name_decision(module):\n",
    "    \"\"\"\n",
    "    return the family name of the module\n",
    "    \"\"\"\n",
    "    families = [\n",
    "        \"Wiki-words\",\n",
    "        \"albert_\" , \n",
    "        \"bert_\"  ,\n",
    "        \"bigbigan-\" , \n",
    "        \"biggan-\"  ,\n",
    "#         \"biggan-deep\"  ,\n",
    "        \"compare_gan-model\"  ,\n",
    "        \"compare_gan-s3gan\"  ,\n",
    "        \"efficientnet-b\" , \n",
    "        \"i3d-kinetics\"  ,\n",
    "        \"image_augmentation\"  ,\n",
    "        \"image_augmentation-nas\"  ,\n",
    "        \"imagenet-amoebanet\"  ,\n",
    "        \"imagenet-inception_resnet_v2\"  ,\n",
    "        \"imagenet-inception_v1\"  ,\n",
    "        \"imagenet-inception_v2\"  ,\n",
    "        \"imagenet-inception_v3\"  ,\n",
    "        \"imagenet-mobilenet_v1\"  ,\n",
    "#         \"quantops\"  ,\n",
    "        \"imagenet-mobilenet_v2\"  ,\n",
    "        \"imagenet-nasnet\"  ,\n",
    "        \"imagenet-pnasnet\"  ,\n",
    "        \"imagenet-resnet_v1\"  ,\n",
    "        \"imagenet-resnet_v2\"  ,\n",
    "        \"nnlm\"  ,\n",
    "#         \"random-nnlm\"  ,\n",
    "        \"tf2-preview-gnews-swivel\" ,\n",
    "        \"tf2-preview-inception_v3\" ,\n",
    "        \"tf2-preview-mobilenet_v2\" ,\n",
    "#         \"tf2-preview-nnlm\",\n",
    "        \"universal-sentence-encoder\"  ,\n",
    "#         \"universal-sentence-encoder-xling\"\n",
    "       ]\n",
    "    for family in families:\n",
    "        if family in module:\n",
    "            print()\n",
    "    \n",
    "    \n",
    "path = r\"module_descriptions\"    \n",
    "path_to = r\"family_raw_grouping\"\n",
    "if not os.path.exists(path_to):\n",
    "    os.makedirs(path_to)\n",
    "for module in os.listdir(path):\n",
    "    path_lv1 = os.path.join(path, module)\n",
    "    whole_file = \"\"\n",
    "    version_counter = 0\n",
    "    for file in reversed(os.listdir(path_lv1)):\n",
    "        if \".md\" not in file:\n",
    "            continue\n",
    "        version_counter += 1\n",
    "        path_lv2 = os.path.join(path_lv1, file)\n",
    "        with open(path_lv2, \"r\", encoding=\"utf-8\") as pl:\n",
    "            content = pl.read()\n",
    "        whole_file += \"\\n\\n# _{}_\\n{}\".format(file, content)\n",
    "    whole_file = \"There are `{}` versions in total.\".format(version_counter) + whole_file\n",
    "    task_type = find_info_for_module(table, module, \"module_type\")\n",
    "    path_lv1_1 = os.path.join(path_to, task_type)\n",
    "    if not os.path.exists(path_lv1_1):\n",
    "        os.makedirs(path_lv1_1)\n",
    "    with open (os.path.join(path_lv1_1, module+\".md\"), \"w\", encoding=\"utf-8\") as ptm:\n",
    "        ptm.write(whole_file)\n",
    "#     break"
   ]
  },
  {
   "cell_type": "markdown",
   "metadata": {},
   "source": [
    "## Manually group the family members. See the folder `family_grouping-final`"
   ]
  }
 ],
 "metadata": {
  "kernelspec": {
   "display_name": "Python 3",
   "language": "python",
   "name": "python3"
  },
  "language_info": {
   "codemirror_mode": {
    "name": "ipython",
    "version": 3
   },
   "file_extension": ".py",
   "mimetype": "text/x-python",
   "name": "python",
   "nbconvert_exporter": "python",
   "pygments_lexer": "ipython3",
   "version": "3.6.8"
  }
 },
 "nbformat": 4,
 "nbformat_minor": 2
}
