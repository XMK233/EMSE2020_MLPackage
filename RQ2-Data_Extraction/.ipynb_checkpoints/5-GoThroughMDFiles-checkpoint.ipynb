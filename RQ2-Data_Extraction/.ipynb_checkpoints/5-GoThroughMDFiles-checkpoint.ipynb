{
 "cells": [
  {
   "cell_type": "markdown",
   "metadata": {},
   "source": [
    "In this notebook, we go through all of the files to have some findings. "
   ]
  },
  {
   "cell_type": "code",
   "execution_count": 2,
   "metadata": {},
   "outputs": [],
   "source": [
    "import os, shutil"
   ]
  },
  {
   "cell_type": "code",
   "execution_count": 5,
   "metadata": {},
   "outputs": [],
   "source": [
    "def generateABigFile_seeWhatPackageDontMentionSignature(p):\n",
    "    counter = 0\n",
    "    if not os.path.exists(r\"J:\\EMSE2020_MLPackage\\RQ2-Data_Extraction\\no_sig_files\"): \n",
    "        os.makedirs(r\"J:\\EMSE2020_MLPackage\\RQ2-Data_Extraction\\no_sig_files\")\n",
    "    for path,dir_list,file_list in os.walk(p):  \n",
    "        for file_name in file_list:  \n",
    "            if \".md\" not in file_name:\n",
    "                continue\n",
    "            path_lv1 = os.path.join(path, file_name)\n",
    "            no_path = path_lv1.replace(\"J:\\\\EMSE2020_MLPackage\\\\RQ2-Data_Extraction\\\\family_grouping-final\\\\\", \"\")\n",
    "            name = no_path.split(\"@@\")[0]\n",
    "            # print(name)\n",
    "            with open(path_lv1, \"r\", encoding=\"utf-8\") as pl:\n",
    "                lines = pl.readlines()\n",
    "            lines = [line.strip() for line in lines]\n",
    "            new_lines = []\n",
    "            code_zone = False\n",
    "            ## 不要代码\n",
    "            for line in lines:\n",
    "                if \"```\" in line and code_zone == False:\n",
    "                    code_zone = True\n",
    "                    continue\n",
    "                elif \"```\" in line and code_zone == True:\n",
    "                    code_zone = False\n",
    "                    continue\n",
    "                else:\n",
    "                    if code_zone == True:\n",
    "                        continue\n",
    "                    else:\n",
    "                        new_lines.append(line)\n",
    "            oneLine = \" \".join(new_lines)\n",
    "            ## \n",
    "            if \"ignature\" not in oneLine:\n",
    "#                 print(path_lv1)\n",
    "                counter += 1\n",
    "                shutil.copy(\n",
    "                    path_lv1, \n",
    "                    r\"J:\\EMSE2020_MLPackage\\RQ2-Data_Extraction\\no_sig_files\\{}-{}.md\".format(counter, file_name)\n",
    "                ) \n",
    "\n",
    "generateABigFile_seeWhatPackageDontMentionSignature(r\"J:\\EMSE2020_MLPackage\\RQ2-Data_Extraction\\family_grouping-final\")"
   ]
  },
  {
   "cell_type": "markdown",
   "metadata": {},
   "source": [
    "After running the last cell, we can find 160 files that don't mention \"signature\". \n",
    "\n",
    "Which indicates that more than half of the files mention \"signature\", but they don't list them as a formalized list. "
   ]
  }
 ],
 "metadata": {
  "kernelspec": {
   "display_name": "Python 3",
   "language": "python",
   "name": "python3"
  },
  "language_info": {
   "codemirror_mode": {
    "name": "ipython",
    "version": 3
   },
   "file_extension": ".py",
   "mimetype": "text/x-python",
   "name": "python",
   "nbconvert_exporter": "python",
   "pygments_lexer": "ipython3",
   "version": "3.6.8"
  }
 },
 "nbformat": 4,
 "nbformat_minor": 2
}
